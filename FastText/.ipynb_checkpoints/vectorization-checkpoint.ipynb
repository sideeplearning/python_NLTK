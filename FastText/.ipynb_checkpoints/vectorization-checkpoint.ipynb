{
 "cells": [
  {
   "cell_type": "code",
   "execution_count": 1,
   "metadata": {},
   "outputs": [
    {
     "name": "stderr",
     "output_type": "stream",
     "text": [
      "[nltk_data] Downloading package averaged_perceptron_tagger to\n",
      "[nltk_data]     C:\\Users\\Si\\AppData\\Roaming\\nltk_data...\n",
      "[nltk_data]   Package averaged_perceptron_tagger is already up-to-\n",
      "[nltk_data]       date!\n",
      "[nltk_data] Downloading package wordnet to\n",
      "[nltk_data]     C:\\Users\\Si\\AppData\\Roaming\\nltk_data...\n",
      "[nltk_data]   Package wordnet is already up-to-date!\n"
     ]
    },
    {
     "data": {
      "text/plain": [
       "True"
      ]
     },
     "execution_count": 1,
     "metadata": {},
     "output_type": "execute_result"
    }
   ],
   "source": [
    "import pandas as pd\n",
    "import numpy as np\n",
    "import nltk\n",
    "from os import path\n",
    "import re\n",
    "import libs as ft\n",
    "from sklearn.metrics.pairwise import cosine_similarity\n",
    "#from pyfasttext import FastText\n",
    "#from gensim.models.wrappers import FastText\n",
    "import fasttext as ft\n",
    "\n",
    "\n",
    "import nltk\n",
    "nltk.download('averaged_perceptron_tagger')\n",
    "nltk.download('wordnet')"
   ]
  },
  {
   "cell_type": "code",
   "execution_count": 2,
   "metadata": {},
   "outputs": [],
   "source": [
    "import os\n",
    "import pandas as pd\n",
    "import numpy as np\n",
    "import matplotlib.pyplot as plt\n",
    "import seaborn as sns\n",
    "\n",
    "from sklearn.decomposition import PCA\n",
    "from matplotlib import pyplot as plt\n",
    "\n",
    "from mpl_toolkits.mplot3d import Axes3D\n",
    "from pathlib import Path\n",
    "\n",
    "from sklearn.ensemble import RandomForestClassifier\n",
    "from sklearn.model_selection import train_test_split\n",
    "from sklearn.tree import DecisionTreeClassifier\n",
    "from pathlib import Path\n",
    "from sklearn.metrics import (roc_curve, auc, accuracy_score)\n",
    "from sklearn.preprocessing import StandardScaler\n",
    "\n",
    "import nltk\n",
    "from nltk.tokenize.punkt import PunktSentenceTokenizer, PunktParameters\n"
   ]
  },
  {
   "cell_type": "code",
   "execution_count": null,
   "metadata": {},
   "outputs": [],
   "source": []
  },
  {
   "cell_type": "code",
   "execution_count": 3,
   "metadata": {},
   "outputs": [],
   "source": [
    "def cleansing(x, drop_tag, tag_pos, lemmatizer):\n",
    "    \"\"\"\n",
    "    いらない品詞を除外し，レンマ化して返す．apply関数内で使用，\n",
    "\n",
    "    Args:\n",
    "        x (Series): apply関数で呼び出されるSeries\n",
    "        drop_tag (list): いらない品詞リスト(nltk)\n",
    "        tag_pos (dict): key -> tag, value -> pos. レンマ化の精度向上に使用．\n",
    "        lemmatizer (nltk.stem.WordNetLemmatizer): lemmatizer\n",
    "\n",
    "    Returns:\n",
    "        (str): output sentence\n",
    "    \"\"\"\n",
    "    words = [word for word in x['headline_text'].split(' ') if word != '']  # 空文字入るとエラーになる\n",
    "    tags = nltk.pos_tag(words)  # 品詞を取得\n",
    "    words = [(word, tag_pos[tag]) for word, tag in tags if tag not in drop_tag]  # いらない品詞を除外\n",
    "    print('words:',words)\n",
    "    words = [lemmatizer.lemmatize(word, pos=pos) for word, pos in words]\n",
    "    sentence = ' '.join(words)  # 連結\n",
    "    return sentence"
   ]
  },
  {
   "cell_type": "code",
   "execution_count": 4,
   "metadata": {},
   "outputs": [],
   "source": [
    "def preprocess(data):\n",
    "    \"\"\"\n",
    "    前処理の関数．\n",
    "\n",
    "    Args:\n",
    "        data (DataFrame): input dataset\n",
    "\n",
    "    Retruns:\n",
    "        (DataFrame): output dataset\n",
    "    \"\"\"\n",
    "    # まずは，いらない品詞を落とし，レンマ化する．\n",
    "    # その後，階層クラスタリングのときに使う用のcsvファイルとモデル学習用のtxtファイルを出力する．\n",
    "    lemmatizer = nltk.stem.WordNetLemmatizer()\n",
    "    # いらない品詞\n",
    "    drop_tag = ['$', 'CC', 'CD', 'DT', 'IN', 'MD', 'POS', 'PRP', 'PRP$', 'RP', 'TO' , 'WP', 'WRB','WDT','PDT']\n",
    "    # 品詞とpos(lemma用)の変換辞書\n",
    "    tag_pos = {'FW': 'n', 'JJ': 'a', 'JJR': 'a', 'JJS': 'a', 'NN': 'n', 'NNP': 'n', 'NNS': 'n', 'RB': 'r', 'RBR': 'r', 'VB': 'v',\n",
    "               'VBD': 'v', 'VBG': 'v', 'VBN': 'v', 'VBP': 'v', 'VBZ': 'v', 'RBS': 'r',}\n",
    "\n",
    "    #data = data.assign(preprocessed=data.apply(func=cleansing, axis=1, args=(drop_tag, tag_pos, lemmatizer,)))\n",
    "    data = data.assign(preprocessed=data.apply(func=cleansing, axis=1, args=(drop_tag, tag_pos, lemmatizer)))\n",
    "\n",
    "    print('after drop and lemmatization')\n",
    "    print(data.head())\n",
    "    data.to_csv('data.csv', sep='\\t', index=False)\n",
    "    data['preprocessed'].to_csv('text.txt', index=False)\n",
    "    return data"
   ]
  },
  {
   "cell_type": "code",
   "execution_count": 5,
   "metadata": {},
   "outputs": [],
   "source": [
    "def get_word_vector(data_name='text.txt', model_name='./pretrained_model/model.bin'):\n",
    "    \"\"\"\n",
    "    fasttextベースで分散表現を取得する関数．これも見てわかると思うので引数は省略．\n",
    "\n",
    "    Returns:\n",
    "        (list of list): 単語リストのリスト．[['word_0_0', 'word_0_1'], ['word_1_0', 'word_1_1', 'word_1_2'], ...]みたいな\n",
    "        (array): 分散表現 次元=(文章数×分散表現の次元数)\n",
    "    \"\"\"\n",
    "    sentences = []\n",
    "    with open(data_name, mode='r') as f:\n",
    "        for line in f.readlines():\n",
    "            line = re.sub('\\n', '', line)\n",
    "            sentences.append(line.split(' '))\n",
    "\n",
    "    # modelが12GBくらいメモリを食うので終わったら開放する．\n",
    "    vec_name =  'sentences_vc.npy'\n",
    "    if not path.exists(vec_name):\n",
    "        #model = FastText.load_fasttext_format(model_name)\n",
    "        model = ft.load_model(model_name)\n",
    "        dim = model.get_dimension()\n",
    "        sentences_vec = np.zeros((dim,))\n",
    "\n",
    "        for words in sentences:\n",
    "            vec = np.zeros((dim,))\n",
    "            for word in words:\n",
    "                if model.get_word_id(word) == -1:\n",
    "                    print('this word does not exists in corpus: %s at %s' % (word, words))\n",
    "                vec = np.vstack((vec, model.get_word_vector(word)))\n",
    "            vec = vec[1:, :].mean(axis=0)\n",
    "            sentences_vec = np.vstack((sentences_vec, vec))\n",
    "        sentences_vec = sentences_vec[1:, :]\n",
    "        del model\n",
    "\n",
    "        np.save(vec_name, sentences_vec)\n",
    "    else:\n",
    "        sentences_vec = np.load(vec_name)\n",
    "    return sentences, sentences_vec"
   ]
  },
  {
   "cell_type": "code",
   "execution_count": null,
   "metadata": {},
   "outputs": [],
   "source": []
  },
  {
   "cell_type": "code",
   "execution_count": 6,
   "metadata": {},
   "outputs": [],
   "source": [
    "import re\n",
    "from contextlib import redirect_stdout\n",
    "from io import StringIO\n",
    "\n",
    "example = 'Mary had a little lamb, Jack went up the hill, Jill followed suit, i woke up suddenly, it was a really bad dream...'\n",
    "\n",
    "def token_to_sentence(str):\n",
    "    f = StringIO()\n",
    "    with redirect_stdout(f):\n",
    "        regex_of_sentence = re.findall('([\\w\\s]{0,})[^\\w\\s]', str)\n",
    "        regex_of_sentence = [x for x in regex_of_sentence if x is not '']\n",
    "        for i in regex_of_sentence:\n",
    "            print(i)\n",
    "        first_step_to_sentence = (f.getvalue()).split('\\n')\n",
    "    g = StringIO()\n",
    "    with redirect_stdout(g):\n",
    "        for i in first_step_to_sentence:\n",
    "            try:\n",
    "                regex_to_clear_sentence = re.search('\\s([\\w\\s]{0,})', i)\n",
    "                print(regex_to_clear_sentence.group(1))\n",
    "            except:\n",
    "                print(i)\n",
    "        sentence = (g.getvalue()).split('\\n')\n",
    "    return sentence\n",
    "\n",
    "def token_to_words(str):\n",
    "    f = StringIO()\n",
    "    with redirect_stdout(f):\n",
    "        for i in str:\n",
    "            regex_of_word = re.findall('([\\w]{0,})', i)\n",
    "            regex_of_word = [x for x in regex_of_word if x is not '']\n",
    "            for word in regex_of_word:\n",
    "                print(regex_of_word)\n",
    "        words = (f.getvalue()).split('\\n')"
   ]
  },
  {
   "cell_type": "code",
   "execution_count": null,
   "metadata": {},
   "outputs": [],
   "source": []
  },
  {
   "cell_type": "code",
   "execution_count": null,
   "metadata": {},
   "outputs": [],
   "source": []
  },
  {
   "cell_type": "code",
   "execution_count": 7,
   "metadata": {},
   "outputs": [
    {
     "name": "stdout",
     "output_type": "stream",
     "text": [
      "C:\\Users\\Si\\Desktop\\python_all\\python_NLTK\\NLTK_/Poe-story\n"
     ]
    }
   ],
   "source": [
    "#homePC\n",
    "#path_0 = Path(r'C:\\Users\\SI\\Python_ML\\python_NLTK\\NLTK_')\n",
    "#officePC\n",
    "path_0 = Path(r'C:\\Users\\Si\\Desktop\\python_all\\python_NLTK\\NLTK_')\n",
    "\n",
    "\n",
    "author = ['Poe','Twain']\n",
    "type_ = ['letter', 'story']\n",
    "test = ['test']\n",
    "\n",
    "choice = [0,1]\n",
    "\n",
    "index_i = 0\n",
    "index_j = 1\n",
    "path_file = str(path_0) + str('/') + str(author[choice[index_i]]) + str('-') + str(type_[choice[index_j]])\n",
    "#path = str(path_0) + str('/') + str(test[0])\n",
    "print(path_file)"
   ]
  },
  {
   "cell_type": "code",
   "execution_count": 8,
   "metadata": {
    "scrolled": true
   },
   "outputs": [
    {
     "name": "stdout",
     "output_type": "stream",
     "text": [
      "lists: <generator object Path.glob at 0x000001C7DE2B76C8>\n"
     ]
    },
    {
     "data": {
      "text/plain": [
       "[WindowsPath('C:/Users/Si/Desktop/python_all/python_NLTK/NLTK_/Poe-story/Poe-story-001.txt'),\n",
       " WindowsPath('C:/Users/Si/Desktop/python_all/python_NLTK/NLTK_/Poe-story/Poe-story-002.txt'),\n",
       " WindowsPath('C:/Users/Si/Desktop/python_all/python_NLTK/NLTK_/Poe-story/Poe-story-003.txt'),\n",
       " WindowsPath('C:/Users/Si/Desktop/python_all/python_NLTK/NLTK_/Poe-story/Poe-story-004.txt'),\n",
       " WindowsPath('C:/Users/Si/Desktop/python_all/python_NLTK/NLTK_/Poe-story/Poe-story-005.txt'),\n",
       " WindowsPath('C:/Users/Si/Desktop/python_all/python_NLTK/NLTK_/Poe-story/Poe-story-006.txt'),\n",
       " WindowsPath('C:/Users/Si/Desktop/python_all/python_NLTK/NLTK_/Poe-story/Poe-story-007.txt'),\n",
       " WindowsPath('C:/Users/Si/Desktop/python_all/python_NLTK/NLTK_/Poe-story/Poe-story-008.txt'),\n",
       " WindowsPath('C:/Users/Si/Desktop/python_all/python_NLTK/NLTK_/Poe-story/Poe-story-009.txt'),\n",
       " WindowsPath('C:/Users/Si/Desktop/python_all/python_NLTK/NLTK_/Poe-story/Poe-story-010.txt'),\n",
       " WindowsPath('C:/Users/Si/Desktop/python_all/python_NLTK/NLTK_/Poe-story/Poe-story-011.txt'),\n",
       " WindowsPath('C:/Users/Si/Desktop/python_all/python_NLTK/NLTK_/Poe-story/Poe-story-012.txt'),\n",
       " WindowsPath('C:/Users/Si/Desktop/python_all/python_NLTK/NLTK_/Poe-story/Poe-story-013.txt'),\n",
       " WindowsPath('C:/Users/Si/Desktop/python_all/python_NLTK/NLTK_/Poe-story/Poe-story-014.txt'),\n",
       " WindowsPath('C:/Users/Si/Desktop/python_all/python_NLTK/NLTK_/Poe-story/Poe-story-015.txt'),\n",
       " WindowsPath('C:/Users/Si/Desktop/python_all/python_NLTK/NLTK_/Poe-story/Poe-story-016.txt'),\n",
       " WindowsPath('C:/Users/Si/Desktop/python_all/python_NLTK/NLTK_/Poe-story/Poe-story-017.txt'),\n",
       " WindowsPath('C:/Users/Si/Desktop/python_all/python_NLTK/NLTK_/Poe-story/Poe-story-018.txt'),\n",
       " WindowsPath('C:/Users/Si/Desktop/python_all/python_NLTK/NLTK_/Poe-story/Poe-story-019.txt'),\n",
       " WindowsPath('C:/Users/Si/Desktop/python_all/python_NLTK/NLTK_/Poe-story/Poe-story-020.txt'),\n",
       " WindowsPath('C:/Users/Si/Desktop/python_all/python_NLTK/NLTK_/Poe-story/Poe-story-021.txt'),\n",
       " WindowsPath('C:/Users/Si/Desktop/python_all/python_NLTK/NLTK_/Poe-story/Poe-story-022.txt'),\n",
       " WindowsPath('C:/Users/Si/Desktop/python_all/python_NLTK/NLTK_/Poe-story/Poe-story-023.txt'),\n",
       " WindowsPath('C:/Users/Si/Desktop/python_all/python_NLTK/NLTK_/Poe-story/Poe-story-024.txt'),\n",
       " WindowsPath('C:/Users/Si/Desktop/python_all/python_NLTK/NLTK_/Poe-story/Poe-story-025.txt'),\n",
       " WindowsPath('C:/Users/Si/Desktop/python_all/python_NLTK/NLTK_/Poe-story/Poe-story-026.txt'),\n",
       " WindowsPath('C:/Users/Si/Desktop/python_all/python_NLTK/NLTK_/Poe-story/Poe-story-027.txt'),\n",
       " WindowsPath('C:/Users/Si/Desktop/python_all/python_NLTK/NLTK_/Poe-story/Poe-story-028.txt'),\n",
       " WindowsPath('C:/Users/Si/Desktop/python_all/python_NLTK/NLTK_/Poe-story/Poe-story-029.txt'),\n",
       " WindowsPath('C:/Users/Si/Desktop/python_all/python_NLTK/NLTK_/Poe-story/Poe-story-030.txt'),\n",
       " WindowsPath('C:/Users/Si/Desktop/python_all/python_NLTK/NLTK_/Poe-story/Poe-story-031.txt'),\n",
       " WindowsPath('C:/Users/Si/Desktop/python_all/python_NLTK/NLTK_/Poe-story/Poe-story-032.txt'),\n",
       " WindowsPath('C:/Users/Si/Desktop/python_all/python_NLTK/NLTK_/Poe-story/Poe-story-033.txt'),\n",
       " WindowsPath('C:/Users/Si/Desktop/python_all/python_NLTK/NLTK_/Poe-story/Poe-story-034.txt'),\n",
       " WindowsPath('C:/Users/Si/Desktop/python_all/python_NLTK/NLTK_/Poe-story/Poe-story-035.txt'),\n",
       " WindowsPath('C:/Users/Si/Desktop/python_all/python_NLTK/NLTK_/Poe-story/Poe-story-036.txt'),\n",
       " WindowsPath('C:/Users/Si/Desktop/python_all/python_NLTK/NLTK_/Poe-story/Poe-story-037.txt'),\n",
       " WindowsPath('C:/Users/Si/Desktop/python_all/python_NLTK/NLTK_/Poe-story/Poe-story-038.txt'),\n",
       " WindowsPath('C:/Users/Si/Desktop/python_all/python_NLTK/NLTK_/Poe-story/Poe-story-039.txt'),\n",
       " WindowsPath('C:/Users/Si/Desktop/python_all/python_NLTK/NLTK_/Poe-story/Poe-story-040.txt'),\n",
       " WindowsPath('C:/Users/Si/Desktop/python_all/python_NLTK/NLTK_/Poe-story/Poe-story-041.txt'),\n",
       " WindowsPath('C:/Users/Si/Desktop/python_all/python_NLTK/NLTK_/Poe-story/Poe-story-042.txt'),\n",
       " WindowsPath('C:/Users/Si/Desktop/python_all/python_NLTK/NLTK_/Poe-story/Poe-story-043.txt'),\n",
       " WindowsPath('C:/Users/Si/Desktop/python_all/python_NLTK/NLTK_/Poe-story/Poe-story-044.txt'),\n",
       " WindowsPath('C:/Users/Si/Desktop/python_all/python_NLTK/NLTK_/Poe-story/Poe-story-045.txt'),\n",
       " WindowsPath('C:/Users/Si/Desktop/python_all/python_NLTK/NLTK_/Poe-story/Poe-story-046.txt'),\n",
       " WindowsPath('C:/Users/Si/Desktop/python_all/python_NLTK/NLTK_/Poe-story/Poe-story-047.txt'),\n",
       " WindowsPath('C:/Users/Si/Desktop/python_all/python_NLTK/NLTK_/Poe-story/Poe-story-048.txt'),\n",
       " WindowsPath('C:/Users/Si/Desktop/python_all/python_NLTK/NLTK_/Poe-story/Poe-story-049.txt'),\n",
       " WindowsPath('C:/Users/Si/Desktop/python_all/python_NLTK/NLTK_/Poe-story/Poe-story-050.txt'),\n",
       " WindowsPath('C:/Users/Si/Desktop/python_all/python_NLTK/NLTK_/Poe-story/Poe-story-051.txt'),\n",
       " WindowsPath('C:/Users/Si/Desktop/python_all/python_NLTK/NLTK_/Poe-story/Poe-story-052.txt'),\n",
       " WindowsPath('C:/Users/Si/Desktop/python_all/python_NLTK/NLTK_/Poe-story/Poe-story-053.txt'),\n",
       " WindowsPath('C:/Users/Si/Desktop/python_all/python_NLTK/NLTK_/Poe-story/Poe-story-054.txt'),\n",
       " WindowsPath('C:/Users/Si/Desktop/python_all/python_NLTK/NLTK_/Poe-story/Poe-story-055.txt'),\n",
       " WindowsPath('C:/Users/Si/Desktop/python_all/python_NLTK/NLTK_/Poe-story/Poe-story-056.txt'),\n",
       " WindowsPath('C:/Users/Si/Desktop/python_all/python_NLTK/NLTK_/Poe-story/Poe-story-057.txt'),\n",
       " WindowsPath('C:/Users/Si/Desktop/python_all/python_NLTK/NLTK_/Poe-story/Poe-story-058.txt'),\n",
       " WindowsPath('C:/Users/Si/Desktop/python_all/python_NLTK/NLTK_/Poe-story/Poe-story-059.txt'),\n",
       " WindowsPath('C:/Users/Si/Desktop/python_all/python_NLTK/NLTK_/Poe-story/Poe-story-060.txt'),\n",
       " WindowsPath('C:/Users/Si/Desktop/python_all/python_NLTK/NLTK_/Poe-story/Poe-story-061.txt'),\n",
       " WindowsPath('C:/Users/Si/Desktop/python_all/python_NLTK/NLTK_/Poe-story/Poe-story-062.txt'),\n",
       " WindowsPath('C:/Users/Si/Desktop/python_all/python_NLTK/NLTK_/Poe-story/Poe-story-063.txt'),\n",
       " WindowsPath('C:/Users/Si/Desktop/python_all/python_NLTK/NLTK_/Poe-story/Poe-story-064.txt'),\n",
       " WindowsPath('C:/Users/Si/Desktop/python_all/python_NLTK/NLTK_/Poe-story/Poe-story-065.txt'),\n",
       " WindowsPath('C:/Users/Si/Desktop/python_all/python_NLTK/NLTK_/Poe-story/Poe-story-066.txt'),\n",
       " WindowsPath('C:/Users/Si/Desktop/python_all/python_NLTK/NLTK_/Poe-story/Poe-story-067.txt'),\n",
       " WindowsPath('C:/Users/Si/Desktop/python_all/python_NLTK/NLTK_/Poe-story/Poe-story-068.txt'),\n",
       " WindowsPath('C:/Users/Si/Desktop/python_all/python_NLTK/NLTK_/Poe-story/Poe-story-069.txt')]"
      ]
     },
     "execution_count": 8,
     "metadata": {},
     "output_type": "execute_result"
    }
   ],
   "source": [
    "path_file = Path(path_file)\n",
    "path_file\n",
    "path_file.glob('*.txt')\n",
    "list(path_file.glob('*.txt'))\n",
    "print('lists:', path_file.glob('*.txt'))\n",
    "#list path\n",
    "path_list = list(path_file.glob('*.txt'))\n",
    "path_list"
   ]
  },
  {
   "cell_type": "code",
   "execution_count": 9,
   "metadata": {},
   "outputs": [
    {
     "data": {
      "text/html": [
       "<div>\n",
       "<style scoped>\n",
       "    .dataframe tbody tr th:only-of-type {\n",
       "        vertical-align: middle;\n",
       "    }\n",
       "\n",
       "    .dataframe tbody tr th {\n",
       "        vertical-align: top;\n",
       "    }\n",
       "\n",
       "    .dataframe thead th {\n",
       "        text-align: right;\n",
       "    }\n",
       "</style>\n",
       "<table border=\"1\" class=\"dataframe\">\n",
       "  <thead>\n",
       "    <tr style=\"text-align: right;\">\n",
       "      <th></th>\n",
       "      <th>THE SWISS BELL-RINGERS</th>\n",
       "    </tr>\n",
       "  </thead>\n",
       "  <tbody>\n",
       "    <tr>\n",
       "      <th>0</th>\n",
       "      <td>One of the regular allies of the Mirror, a man...</td>\n",
       "    </tr>\n",
       "    <tr>\n",
       "      <th>1</th>\n",
       "      <td>The Swiss Bell-ringers.  The readers of the Mi...</td>\n",
       "    </tr>\n",
       "  </tbody>\n",
       "</table>\n",
       "</div>"
      ],
      "text/plain": [
       "                              THE SWISS BELL-RINGERS\n",
       "0  One of the regular allies of the Mirror, a man...\n",
       "1  The Swiss Bell-ringers.  The readers of the Mi..."
      ]
     },
     "execution_count": 9,
     "metadata": {},
     "output_type": "execute_result"
    }
   ],
   "source": [
    "data = pd.read_table(path_list[0], encoding='cp932')\n",
    "data"
   ]
  },
  {
   "cell_type": "code",
   "execution_count": 10,
   "metadata": {},
   "outputs": [
    {
     "data": {
      "text/plain": [
       "(2,\n",
       " ['One of the regular allies of the Mirror, a man of a very humorous critical vein, has taken it into his head to prove the Swiss Bell-ringers to be an automaton. We have argued the point with him till we are tired, and have at last sent to beg a copy of their board-bill with affidavits that their stomachs are not wooden and do kindly entertain rolls and sausages. While these documents are coming, we publish the skeleton of our friend’s hypothesis: ',\n",
       "  'The Swiss Bell-ringers.  The readers of the Mirror scarce need be told,  as most of them have seen and heard for themselves,  that the Swiss Bell-ringers enter, to the number of seven, white-plumed and fancifully costumed, and each armed with four or five hand-bells of various sizes, which they deposit on a cushioned table before them, retaining one in each hand, which they are continually changing for others in their armory, putting down and taking up with the rapidity of jugglers, and all the while ringing the changes upon them with a delicate harmony and precision, which are as perfect in a symphony of Haydn as in “Miss Lucy Long.”The writer alludes to them now only to say, that they may be heard again to-night, and to correct the erroneous but common idea that these Bell-ringers are real living beings. The writer is firmly convinced that they are ingenious pieces of mechanism, contrived on the principle of Maelzel’s Automaton Trumpeter and Piano-forte player (exhibited here some years ago), but made so much more perfect and effective by the application to them of the same power which operates in the Electro-Magnetic Telegraph,but which should here be called Electro-tintinnabulic. A powerful electric battery under the stage communicates by a hidden wire with each of them, and its shocks are regulated and directed by the skilful musician and mechanician who secretly man[a]ges the whole affair. This explains the precision with which they all bow at the same instant, as if moved by the same soul (and so they are an electric one), and keep such perfect time and order. For this reason, too, they arrange so carefully their surplus bells before them in such exact spots, just as Maelzel’s Automaton Chess-player always insisted on the pieces being placed exactly on the centre of the squares, so that his mechanically-moved fingers might not miss them. Their very number shows that they were contrived in imitation of the music of the seven spheres,and any lurking doubt of the truth of our theory will be at once removed by noticing how they electrify their hearers.'])"
      ]
     },
     "execution_count": 10,
     "metadata": {},
     "output_type": "execute_result"
    }
   ],
   "source": [
    "data_list = data[data.columns[0]].values.tolist()\n",
    "len(data_list),data_list"
   ]
  },
  {
   "cell_type": "raw",
   "metadata": {},
   "source": [
    "# divided into short sentences\n",
    "sentence = token_to_sentence(data_list[1])\n",
    "print(sentence)\n",
    "\n",
    "df_sentence = pd.DataFrame(sentence)\n",
    "df_sentence = df_sentence.rename(columns={0: 'headline_text'})\n",
    "df_sentence"
   ]
  },
  {
   "cell_type": "code",
   "execution_count": null,
   "metadata": {},
   "outputs": [],
   "source": []
  },
  {
   "cell_type": "code",
   "execution_count": 11,
   "metadata": {},
   "outputs": [
    {
     "name": "stdout",
     "output_type": "stream",
     "text": [
      "The Swiss Bell-ringers. \n",
      "\n",
      "The readers of the Mirror scarce need be told,  as most of them have seen and heard for themselves,  that the Swiss Bell-ringers enter, to the number of seven, white-plumed and fancifully costumed, and each armed with four or five hand-bells of various sizes, which they deposit on a cushioned table before them, retaining one in each hand, which they are continually changing for others in their armory, putting down and taking up with the rapidity of jugglers, and all the while ringing the changes upon them with a delicate harmony and precision, which are as perfect in a symphony of Haydn as in “Miss Lucy Long.”The writer alludes to them now only to say, that they may be heard again to-night, and to correct the erroneous but common idea that these Bell-ringers are real living beings. \n",
      "\n",
      "The writer is firmly convinced that they are ingenious pieces of mechanism, contrived on the principle of Maelzel’s Automaton Trumpeter and Piano-forte player (exhibited here some years ago), but made so much more perfect and effective by the application to them of the same power which operates in the Electro-Magnetic Telegraph,but which should here be called Electro-tintinnabulic. \n",
      "\n",
      "A powerful electric battery under the stage communicates by a hidden wire with each of them, and its shocks are regulated and directed by the skilful musician and mechanician who secretly man[a]ges the whole affair. \n",
      "\n",
      "This explains the precision with which they all bow at the same instant, as if moved by the same soul (and so they are an electric one), and keep such perfect time and order. \n",
      "\n",
      "For this reason, too, they arrange so carefully their surplus bells before them in such exact spots, just as Maelzel’s Automaton Chess-player always insisted on the pieces being placed exactly on the centre of the squares, so that his mechanically-moved fingers might not miss them. \n",
      "\n",
      "Their very number shows that they were contrived in imitation of the music of the seven spheres,and any lurking doubt of the truth of our theory will be at once removed by noticing how they electrify their hearers. \n",
      "\n"
     ]
    },
    {
     "data": {
      "text/html": [
       "<div>\n",
       "<style scoped>\n",
       "    .dataframe tbody tr th:only-of-type {\n",
       "        vertical-align: middle;\n",
       "    }\n",
       "\n",
       "    .dataframe tbody tr th {\n",
       "        vertical-align: top;\n",
       "    }\n",
       "\n",
       "    .dataframe thead th {\n",
       "        text-align: right;\n",
       "    }\n",
       "</style>\n",
       "<table border=\"1\" class=\"dataframe\">\n",
       "  <thead>\n",
       "    <tr style=\"text-align: right;\">\n",
       "      <th></th>\n",
       "      <th>headline_text</th>\n",
       "    </tr>\n",
       "  </thead>\n",
       "  <tbody>\n",
       "    <tr>\n",
       "      <th>0</th>\n",
       "      <td>The Swiss Bell-ringers.</td>\n",
       "    </tr>\n",
       "    <tr>\n",
       "      <th>1</th>\n",
       "      <td>The readers of the Mirror scarce need be told,...</td>\n",
       "    </tr>\n",
       "    <tr>\n",
       "      <th>2</th>\n",
       "      <td>The writer is firmly convinced that they are i...</td>\n",
       "    </tr>\n",
       "    <tr>\n",
       "      <th>3</th>\n",
       "      <td>A powerful electric battery under the stage co...</td>\n",
       "    </tr>\n",
       "    <tr>\n",
       "      <th>4</th>\n",
       "      <td>This explains the precision with which they al...</td>\n",
       "    </tr>\n",
       "    <tr>\n",
       "      <th>5</th>\n",
       "      <td>For this reason, too, they arrange so carefull...</td>\n",
       "    </tr>\n",
       "    <tr>\n",
       "      <th>6</th>\n",
       "      <td>Their very number shows that they were contriv...</td>\n",
       "    </tr>\n",
       "  </tbody>\n",
       "</table>\n",
       "</div>"
      ],
      "text/plain": [
       "                                       headline_text\n",
       "0                            The Swiss Bell-ringers.\n",
       "1  The readers of the Mirror scarce need be told,...\n",
       "2  The writer is firmly convinced that they are i...\n",
       "3  A powerful electric battery under the stage co...\n",
       "4  This explains the precision with which they al...\n",
       "5  For this reason, too, they arrange so carefull...\n",
       "6  Their very number shows that they were contriv..."
      ]
     },
     "execution_count": 11,
     "metadata": {},
     "output_type": "execute_result"
    }
   ],
   "source": [
    "# divided into long sentences\n",
    "from nltk.tokenize.punkt import PunktSentenceTokenizer, PunktParameters\n",
    "\n",
    "para = data_list[1]\n",
    "\n",
    "punkt_params = PunktParameters()\n",
    "punkt_params.abbrev_types = set(['Mr', 'Mrs', 'LLC','Miss'])\n",
    "tokenizer = PunktSentenceTokenizer(punkt_params)\n",
    "tokens = tokenizer.tokenize(para)\n",
    "\n",
    "for t in tokens:\n",
    "    print (t, \"\\n\")\n",
    "    \n",
    "df_sentence = pd.DataFrame(tokens)\n",
    "df_sentence = df_sentence.rename(columns={0: 'headline_text'})\n",
    "df_sentence"
   ]
  },
  {
   "cell_type": "code",
   "execution_count": null,
   "metadata": {},
   "outputs": [],
   "source": []
  },
  {
   "cell_type": "code",
   "execution_count": 12,
   "metadata": {},
   "outputs": [
    {
     "data": {
      "text/html": [
       "<div>\n",
       "<style scoped>\n",
       "    .dataframe tbody tr th:only-of-type {\n",
       "        vertical-align: middle;\n",
       "    }\n",
       "\n",
       "    .dataframe tbody tr th {\n",
       "        vertical-align: top;\n",
       "    }\n",
       "\n",
       "    .dataframe thead th {\n",
       "        text-align: right;\n",
       "    }\n",
       "</style>\n",
       "<table border=\"1\" class=\"dataframe\">\n",
       "  <thead>\n",
       "    <tr style=\"text-align: right;\">\n",
       "      <th></th>\n",
       "      <th>headline_text</th>\n",
       "    </tr>\n",
       "  </thead>\n",
       "  <tbody>\n",
       "    <tr>\n",
       "      <th>0</th>\n",
       "      <td>The Swiss Bell-ringers.</td>\n",
       "    </tr>\n",
       "    <tr>\n",
       "      <th>1</th>\n",
       "      <td>The readers of the Mirror scarce need be told,...</td>\n",
       "    </tr>\n",
       "    <tr>\n",
       "      <th>2</th>\n",
       "      <td>The writer is firmly convinced that they are i...</td>\n",
       "    </tr>\n",
       "    <tr>\n",
       "      <th>3</th>\n",
       "      <td>A powerful electric battery under the stage co...</td>\n",
       "    </tr>\n",
       "    <tr>\n",
       "      <th>4</th>\n",
       "      <td>This explains the precision with which they al...</td>\n",
       "    </tr>\n",
       "    <tr>\n",
       "      <th>5</th>\n",
       "      <td>For this reason, too, they arrange so carefull...</td>\n",
       "    </tr>\n",
       "    <tr>\n",
       "      <th>6</th>\n",
       "      <td>Their very number shows that they were contriv...</td>\n",
       "    </tr>\n",
       "  </tbody>\n",
       "</table>\n",
       "</div>"
      ],
      "text/plain": [
       "                                       headline_text\n",
       "0                            The Swiss Bell-ringers.\n",
       "1  The readers of the Mirror scarce need be told,...\n",
       "2  The writer is firmly convinced that they are i...\n",
       "3  A powerful electric battery under the stage co...\n",
       "4  This explains the precision with which they al...\n",
       "5  For this reason, too, they arrange so carefull...\n",
       "6  Their very number shows that they were contriv..."
      ]
     },
     "execution_count": 12,
     "metadata": {},
     "output_type": "execute_result"
    }
   ],
   "source": [
    "df_sentence = df_sentence[:]\n",
    "df_sentence"
   ]
  },
  {
   "cell_type": "code",
   "execution_count": 13,
   "metadata": {},
   "outputs": [
    {
     "data": {
      "text/plain": [
       "'headline_text'"
      ]
     },
     "execution_count": 13,
     "metadata": {},
     "output_type": "execute_result"
    }
   ],
   "source": [
    "col = pd.DataFrame(df_sentence).columns[0]\n",
    "col"
   ]
  },
  {
   "cell_type": "code",
   "execution_count": 14,
   "metadata": {},
   "outputs": [
    {
     "data": {
      "text/plain": [
       "(0                              The Swiss Bell-ringers.\n",
       " 1    The readers of the Mirror scarce need be told,...\n",
       " 2    The writer is firmly convinced that they are i...\n",
       " 3    A powerful electric battery under the stage co...\n",
       " 4    This explains the precision with which they al...\n",
       " 5    For this reason, too, they arrange so carefull...\n",
       " 6    Their very number shows that they were contriv...\n",
       " Name: headline_text, dtype: object,\n",
       " pandas.core.series.Series,\n",
       " (7,))"
      ]
     },
     "execution_count": 14,
     "metadata": {},
     "output_type": "execute_result"
    }
   ],
   "source": [
    "series = pd.DataFrame(df_sentence)['headline_text']\n",
    "series, type(series), series.shape"
   ]
  },
  {
   "cell_type": "code",
   "execution_count": null,
   "metadata": {},
   "outputs": [],
   "source": []
  },
  {
   "cell_type": "code",
   "execution_count": 15,
   "metadata": {},
   "outputs": [
    {
     "name": "stdout",
     "output_type": "stream",
     "text": [
      "words: [('Swiss', 'a'), ('Bell-ringers.', 'n')]\n",
      "words: [('readers', 'n'), ('Mirror', 'n'), ('scarce', 'n'), ('need', 'n'), ('be', 'v'), ('told,', 'v'), ('most', 'a'), ('have', 'v'), ('seen', 'v'), ('heard', 'v'), ('themselves,', 'n'), ('Swiss', 'a'), ('Bell-ringers', 'n'), ('enter,', 'n'), ('number', 'n'), ('seven,', 'a'), ('white-plumed', 'a'), ('fancifully', 'r'), ('costumed,', 'a'), ('armed', 'v'), ('hand-bells', 'n'), ('various', 'a'), ('sizes,', 'n'), ('deposit', 'v'), ('cushioned', 'v'), ('table', 'n'), ('them,', 'n'), ('retaining', 'v'), ('hand,', 'n'), ('are', 'v'), ('continually', 'r'), ('changing', 'v'), ('others', 'n'), ('armory,', 'n'), ('putting', 'v'), ('taking', 'v'), ('rapidity', 'n'), ('jugglers,', 'n'), ('while', 'n'), ('ringing', 'v'), ('changes', 'n'), ('delicate', 'a'), ('harmony', 'n'), ('precision,', 'n'), ('are', 'v'), ('perfect', 'n'), ('symphony', 'n'), ('Haydn', 'n'), ('“Miss', 'a'), ('Lucy', 'n'), ('Long.”The', 'n'), ('writer', 'n'), ('alludes', 'n'), ('now', 'r'), ('only', 'r'), ('say,', 'v'), ('be', 'v'), ('heard', 'v'), ('again', 'r'), ('to-night,', 'a'), ('correct', 'v'), ('erroneous', 'a'), ('common', 'a'), ('idea', 'n'), ('Bell-ringers', 'n'), ('are', 'v'), ('real', 'a'), ('living', 'n'), ('beings.', 'n')]\n",
      "words: [('writer', 'n'), ('is', 'v'), ('firmly', 'r'), ('convinced', 'v'), ('are', 'v'), ('ingenious', 'a'), ('pieces', 'n'), ('mechanism,', 'n'), ('contrived', 'v'), ('principle', 'n'), ('Maelzel’s', 'n'), ('Automaton', 'n'), ('Trumpeter', 'n'), ('Piano-forte', 'n'), ('player', 'n'), ('(exhibited', 'v'), ('here', 'r'), ('years', 'n'), ('ago),', 'v'), ('made', 'v'), ('so', 'r'), ('much', 'r'), ('more', 'a'), ('perfect', 'a'), ('effective', 'a'), ('application', 'n'), ('same', 'a'), ('power', 'n'), ('operates', 'v'), ('Electro-Magnetic', 'a'), ('Telegraph,but', 'n'), ('here', 'r'), ('be', 'v'), ('called', 'v'), ('Electro-tintinnabulic.', 'n')]\n",
      "words: [('powerful', 'a'), ('electric', 'a'), ('battery', 'n'), ('stage', 'n'), ('communicates', 'n'), ('hidden', 'a'), ('wire', 'n'), ('them,', 'n'), ('shocks', 'n'), ('are', 'v'), ('regulated', 'v'), ('directed', 'v'), ('skilful', 'a'), ('musician', 'n'), ('mechanician', 'n'), ('secretly', 'r'), ('man[a]ges', 'v'), ('whole', 'a'), ('affair.', 'n')]\n",
      "words: [('explains', 'v'), ('precision', 'n'), ('bow', 'v'), ('same', 'a'), ('instant,', 'n'), ('moved', 'v'), ('same', 'a'), ('soul', 'n'), ('(and', 'v'), ('are', 'v'), ('electric', 'a'), ('one),', 'n'), ('keep', 'v'), ('such', 'a'), ('perfect', 'a'), ('time', 'n'), ('order.', 'n')]\n",
      "words: [('reason,', 'n'), ('too,', 'n'), ('arrange', 'v'), ('so', 'r'), ('carefully', 'r'), ('surplus', 'n'), ('bells', 'n'), ('such', 'a'), ('exact', 'a'), ('spots,', 'n'), ('just', 'r'), ('Maelzel’s', 'n'), ('Automaton', 'n'), ('Chess-player', 'n'), ('always', 'r'), ('insisted', 'v'), ('pieces', 'n'), ('being', 'v'), ('placed', 'v'), ('exactly', 'r'), ('centre', 'n'), ('squares,', 'n'), ('mechanically-moved', 'a'), ('fingers', 'n'), ('not', 'r'), ('miss', 'v'), ('them.', 'n')]\n",
      "words: [('very', 'n'), ('number', 'n'), ('shows', 'v'), ('were', 'v'), ('contrived', 'v'), ('imitation', 'n'), ('music', 'n'), ('spheres,and', 'v'), ('lurking', 'a'), ('doubt', 'n'), ('truth', 'n'), ('theory', 'n'), ('be', 'v'), ('once', 'r'), ('removed', 'v'), ('noticing', 'v'), ('electrify', 'v'), ('hearers.', 'n')]\n",
      "after drop and lemmatization\n",
      "                                       headline_text  \\\n",
      "0                            The Swiss Bell-ringers.   \n",
      "1  The readers of the Mirror scarce need be told,...   \n",
      "2  The writer is firmly convinced that they are i...   \n",
      "3  A powerful electric battery under the stage co...   \n",
      "4  This explains the precision with which they al...   \n",
      "\n",
      "                                        preprocessed  \n",
      "0                                Swiss Bell-ringers.  \n",
      "1  reader Mirror scarce need be told, most have s...  \n",
      "2  writer be firmly convince be ingenious piece m...  \n",
      "3  powerful electric battery stage communicates h...  \n",
      "4  explain precision bow same instant, move same ...  \n",
      "(8, 300) [['preprocessed'], ['Swiss', 'Bell-ringers.'], ['\"reader', 'Mirror', 'scarce', 'need', 'be', 'told,', 'most', 'have', 'see', 'hear', 'themselves,', 'Swiss', 'Bell-ringers', 'enter,', 'number', 'seven,', 'white-plumed', 'fancifully', 'costumed,', 'arm', 'hand-bells', 'various', 'sizes,', 'deposit', 'cushion', 'table', 'them,', 'retain', 'hand,', 'be', 'continually', 'change', 'others', 'armory,', 'put', 'take', 'rapidity', 'jugglers,', 'while', 'ring', 'change', 'delicate', 'harmony', 'precision,', 'be', 'perfect', 'symphony', 'Haydn', '窶廴iss', 'Lucy', 'Long.窶抖he', 'writer', 'alludes', 'now', 'only', 'say,', 'be', 'hear', 'again', 'to-night,', 'correct', 'erroneous', 'common', 'idea', 'Bell-ringers', 'be', 'real', 'living', 'beings.\"'], ['\"writer', 'be', 'firmly', 'convince', 'be', 'ingenious', 'piece', 'mechanism,', 'contrive', 'principle', 'Maelzel窶冱', 'Automaton', 'Trumpeter', 'Piano-forte', 'player', '(exhibited', 'here', 'year', 'ago),', 'make', 'so', 'much', 'more', 'perfect', 'effective', 'application', 'same', 'power', 'operate', 'Electro-Magnetic', 'Telegraph,but', 'here', 'be', 'call', 'Electro-tintinnabulic.\"'], ['\"powerful', 'electric', 'battery', 'stage', 'communicates', 'hidden', 'wire', 'them,', 'shock', 'be', 'regulate', 'direct', 'skilful', 'musician', 'mechanician', 'secretly', 'man[a]ges', 'whole', 'affair.\"'], ['\"explain', 'precision', 'bow', 'same', 'instant,', 'move', 'same', 'soul', '(and', 'be', 'electric', 'one),', 'keep', 'such', 'perfect', 'time', 'order.\"'], ['\"reason,', 'too,', 'arrange', 'so', 'carefully', 'surplus', 'bell', 'such', 'exact', 'spots,', 'just', 'Maelzel窶冱', 'Automaton', 'Chess-player', 'always', 'insist', 'piece', 'be', 'place', 'exactly', 'centre', 'squares,', 'mechanically-moved', 'finger', 'not', 'miss', 'them.\"'], ['\"very', 'number', 'show', 'be', 'contrive', 'imitation', 'music', 'spheres,and', 'lurking', 'doubt', 'truth', 'theory', 'be', 'once', 'remove', 'notice', 'electrify', 'hearers.\"']]\n"
     ]
    }
   ],
   "source": [
    "df_sentence = preprocess(pd.DataFrame(series))\n",
    "sentences, vec = get_word_vector()\n",
    "print(vec.shape, sentences)"
   ]
  },
  {
   "cell_type": "code",
   "execution_count": 16,
   "metadata": {},
   "outputs": [
    {
     "name": "stdout",
     "output_type": "stream",
     "text": [
      "(8, 300) [[-0.02519209  0.10035963 -0.22098465 ...  0.13799268  0.22382051\n",
      "   0.06539109]\n",
      " [-0.08956459  0.06708349 -0.13035445 ...  0.37752762 -0.143115\n",
      "  -0.12985792]\n",
      " [-0.06688982  0.03425879 -0.10850158 ...  0.14135973  0.19232206\n",
      "   0.10277949]\n",
      " ...\n",
      " [-0.09072382  0.03789247 -0.07471577 ...  0.11664466  0.28282064\n",
      "   0.07740815]\n",
      " [-0.10611156  0.00057862 -0.12363158 ...  0.08425243  0.14496951\n",
      "   0.0856798 ]\n",
      " [-0.10378517 -0.02399721 -0.19266612 ...  0.13711461  0.12794947\n",
      "   0.03365546]]\n"
     ]
    }
   ],
   "source": [
    "print(vec.shape, vec)"
   ]
  },
  {
   "cell_type": "code",
   "execution_count": null,
   "metadata": {},
   "outputs": [],
   "source": []
  },
  {
   "cell_type": "code",
   "execution_count": 17,
   "metadata": {},
   "outputs": [
    {
     "name": "stdout",
     "output_type": "stream",
     "text": [
      "<function exists at 0x000001C7D552D678>\n"
     ]
    }
   ],
   "source": [
    "print(path.exists)"
   ]
  },
  {
   "cell_type": "code",
   "execution_count": null,
   "metadata": {},
   "outputs": [],
   "source": []
  },
  {
   "cell_type": "code",
   "execution_count": 18,
   "metadata": {},
   "outputs": [
    {
     "name": "stdout",
     "output_type": "stream",
     "text": [
      "Either the well was very deep, or she fell very slowly, for she had plenty\n",
      "of time as she went down to look about her and to wonder what was going to happen\n",
      "next. \n",
      "\n",
      "First, she tried to look down and make out what she was coming to, but it was\n",
      "too dark to see anything; then she looked at the sides of the well, and noticed\n",
      "that they were filled with cupboards and book-shelves; here and there she saw maps\n",
      "and pictures Mr...hung upon pegs. \n",
      "\n",
      "She took down a jar from one of the shelves as she\n",
      "passed; it was labelled 'ORANGE MARMALADE', but to her great disappointment it was\n",
      "empty: she did not like to drop the jar for fear of killing somebody, so managed to\n",
      "put it into one of the cupboards as she fell past it. \n",
      "\n"
     ]
    }
   ],
   "source": [
    "from nltk.tokenize.punkt import PunktSentenceTokenizer, PunktParameters\n",
    "\n",
    "para = '''Either the well was very deep, or she fell very slowly, for she had plenty\n",
    "of time as she went down to look about her and to wonder what was going to happen\n",
    "next. First, she tried to look down and make out what she was coming to, but it was\n",
    "too dark to see anything; then she looked at the sides of the well, and noticed\n",
    "that they were filled with cupboards and book-shelves; here and there she saw maps\n",
    "and pictures Mr...hung upon pegs. She took down a jar from one of the shelves as she\n",
    "passed; it was labelled 'ORANGE MARMALADE', but to her great disappointment it was\n",
    "empty: she did not like to drop the jar for fear of killing somebody, so managed to\n",
    "put it into one of the cupboards as she fell past it.'''\n",
    "\n",
    "punkt_params = PunktParameters()\n",
    "#punkt_params.abbrev_types = set(['Mr', 'Mrs', 'LLC'])\n",
    "tokenizer = PunktSentenceTokenizer(punkt_params)\n",
    "tokens = tokenizer.tokenize(para)\n",
    "\n",
    "for t in tokens:\n",
    "    print (t, \"\\n\")"
   ]
  },
  {
   "cell_type": "code",
   "execution_count": null,
   "metadata": {},
   "outputs": [],
   "source": []
  }
 ],
 "metadata": {
  "kernelspec": {
   "display_name": "Python 3",
   "language": "python",
   "name": "python3"
  },
  "language_info": {
   "codemirror_mode": {
    "name": "ipython",
    "version": 3
   },
   "file_extension": ".py",
   "mimetype": "text/x-python",
   "name": "python",
   "nbconvert_exporter": "python",
   "pygments_lexer": "ipython3",
   "version": "3.7.7"
  }
 },
 "nbformat": 4,
 "nbformat_minor": 4
}
