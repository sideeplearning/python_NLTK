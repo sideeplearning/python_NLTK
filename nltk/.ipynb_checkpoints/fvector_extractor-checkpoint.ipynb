{
 "cells": [
  {
   "cell_type": "code",
   "execution_count": null,
   "metadata": {},
   "outputs": [],
   "source": []
  },
  {
   "cell_type": "code",
   "execution_count": 8,
   "metadata": {},
   "outputs": [],
   "source": [
    "import random, cv2, os, sys, shutil\n",
    "from sklearn.cluster import KMeans\n",
    "from sklearn.decomposition import PCA\n",
    "import numpy as np\n",
    "import keras\n",
    "\n",
    "from pathlib import Path\n",
    "from PIL import Image\n",
    "\n",
    "from keras.applications.resnet50 import ResNet50\n",
    "from keras.preprocessing import image\n",
    "from keras.applications.resnet50 import preprocess_input, decode_predictions\n",
    "from keras.utils import plot_model\n",
    "import numpy as np\n",
    "\n",
    "import keras\n",
    "from keras.applications import ResNet50, densenet, VGG16\n",
    "from keras.models import Sequential\n",
    "from keras.layers import Dense, Flatten, GlobalAveragePooling2D\n",
    "\n",
    "import glob\n",
    "import cv2\n",
    "\n",
    "import pandas as pd\n",
    "import numpy as np\n",
    "import ast\n",
    "from sklearn import metrics\n",
    "from sklearn.cluster import KMeans\n",
    "import matplotlib.pyplot as plt\n",
    "from sklearn.manifold import TSNE\n",
    "from sklearn.decomposition import TruncatedSVD\n",
    "\n",
    "from sklearn import cluster, preprocessing, mixture #機械学習用のライブラリを利用\n",
    "import numpy as np\n",
    "import matplotlib.pyplot as plt\n",
    "from sklearn import datasets, mixture\n",
    "\n",
    "from sklearn.model_selection import train_test_split\n",
    "\n",
    "#adapt the result into EM -algorithm\n",
    "import matplotlib as mpl\n",
    "import matplotlib.pyplot as plt\n",
    "\n",
    "import numpy as np\n",
    "\n",
    "from sklearn import datasets\n",
    "from sklearn.mixture import GaussianMixture\n",
    "from sklearn.model_selection import StratifiedKFold"
   ]
  },
  {
   "cell_type": "code",
   "execution_count": 3,
   "metadata": {},
   "outputs": [],
   "source": [
    "def my_makedirs(path):\n",
    "    if not os.path.isdir(path):\n",
    "        os.makedirs(path)"
   ]
  },
  {
   "cell_type": "markdown",
   "metadata": {},
   "source": [
    "# extract_vector"
   ]
  },
  {
   "cell_type": "code",
   "execution_count": 4,
   "metadata": {},
   "outputs": [],
   "source": [
    "def extract_vector(path):\n",
    "    resnet_feature_list = []\n",
    "    file_name_cluster = []\n",
    "\n",
    "    for im in glob.glob(path):\n",
    "        file_name = os.path.splitext(os.path.basename(im))[0]\n",
    "        #print(file_name)\n",
    "        file_name_cluster.append(file_name)\n",
    " \n",
    "\n",
    "        im = cv2.imread(im)\n",
    "        \n",
    "        try:\n",
    "            #print('im.shape', im.shape)\n",
    " \n",
    "            im2 = cv2.resize(im,(224,224))\n",
    "            #print('01', im.shape)\n",
    "            img = preprocess_input(np.expand_dims(im2.copy(), axis=0))\n",
    "            #print('02', img.shape)\n",
    "\n",
    "            resnet_feature = my_new_model.predict(img)\n",
    "            #print('resnet_feature', resnet_feature.shape, resnet_feature)\n",
    "\n",
    "            resnet_feature_np = np.array(resnet_feature)\n",
    "            #print(resnet_feature_np)\n",
    "            resnet_feature_list.append(resnet_feature_np.flatten())\n",
    "            #print(resnet_feature_list)\n",
    "        \n",
    "        except:\n",
    "            pass\n",
    "\n",
    "    return np.array(resnet_feature_list), file_name_cluster"
   ]
  },
  {
   "cell_type": "code",
   "execution_count": null,
   "metadata": {},
   "outputs": [],
   "source": []
  },
  {
   "cell_type": "code",
   "execution_count": null,
   "metadata": {},
   "outputs": [],
   "source": []
  },
  {
   "cell_type": "code",
   "execution_count": 6,
   "metadata": {},
   "outputs": [],
   "source": [
    "#images_major_labels/ just for reading all images\n",
    "n_sub_classes = 4\n",
    "#n_sub_classes_suggest will be the number of clusters"
   ]
  },
  {
   "cell_type": "code",
   "execution_count": 7,
   "metadata": {},
   "outputs": [
    {
     "name": "stdout",
     "output_type": "stream",
     "text": [
      "./images_major_labels/0/*\n",
      "./images_major_labels/1/*\n",
      "./images_major_labels/2/*\n",
      "./images_major_labels/3/*\n"
     ]
    }
   ],
   "source": [
    "\n",
    "file_name_list = []\n",
    "image_array_list = []\n",
    "for i in range(n_sub_classes):\n",
    "    #i = 1\n",
    "    path = './images_major_labels/' + str(i) + '/*'\n",
    "    print(path)"
   ]
  },
  {
   "cell_type": "code",
   "execution_count": 9,
   "metadata": {},
   "outputs": [
    {
     "name": "stdout",
     "output_type": "stream",
     "text": [
      "./images_major_labels/0/*\n",
      "extracting feature vectors...\n",
      "[]\n",
      "0 catagory_ 0 _feature vectors extraction finished!\n",
      "./images_major_labels/1/*\n",
      "extracting feature vectors...\n",
      "[]\n",
      "0 catagory_ 1 _feature vectors extraction finished!\n",
      "./images_major_labels/2/*\n",
      "extracting feature vectors...\n",
      "[]\n",
      "0 catagory_ 2 _feature vectors extraction finished!\n",
      "./images_major_labels/3/*\n",
      "extracting feature vectors...\n",
      "[]\n",
      "0 catagory_ 3 _feature vectors extraction finished!\n"
     ]
    },
    {
     "data": {
      "text/plain": [
       "0"
      ]
     },
     "execution_count": 9,
     "metadata": {},
     "output_type": "execute_result"
    }
   ],
   "source": [
    "file_name_list = []\n",
    "image_array_list = []\n",
    "for i in range(n_sub_classes):\n",
    "    #i = 1\n",
    "    path = './images_major_labels/' + str(i) + '/*'\n",
    "    print(path)\n",
    "    \n",
    "    print('extracting feature vectors...')\n",
    "    image_array_i, file_name_cluster = extract_vector(path)\n",
    "    image_array_list.append(image_array_i)\n",
    "    file_name_list.append(file_name_cluster)\n",
    "    print(file_name_cluster)\n",
    "    \n",
    "    #print(image_array_i)\n",
    "    print(len(image_array_i), 'catagory_', i,'_feature vectors extraction finished!')\n",
    "\n",
    "image_array = np.concatenate([image_array_list[i] for i in range(len(image_array_list))])\n",
    "len(image_array)"
   ]
  },
  {
   "cell_type": "code",
   "execution_count": null,
   "metadata": {},
   "outputs": [],
   "source": []
  }
 ],
 "metadata": {
  "kernelspec": {
   "display_name": "Python 3",
   "language": "python",
   "name": "python3"
  },
  "language_info": {
   "codemirror_mode": {
    "name": "ipython",
    "version": 3
   },
   "file_extension": ".py",
   "mimetype": "text/x-python",
   "name": "python",
   "nbconvert_exporter": "python",
   "pygments_lexer": "ipython3",
   "version": "3.7.6"
  }
 },
 "nbformat": 4,
 "nbformat_minor": 4
}
