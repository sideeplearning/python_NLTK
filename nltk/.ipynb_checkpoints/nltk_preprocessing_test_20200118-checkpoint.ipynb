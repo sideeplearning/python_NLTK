{
 "cells": [
  {
   "cell_type": "code",
   "execution_count": 1,
   "metadata": {},
   "outputs": [],
   "source": [
    "import os\n",
    "import pandas as pd\n",
    "import numpy as np\n",
    "import matplotlib.pyplot as plt\n",
    "import seaborn as sns\n",
    "\n",
    "from sklearn.decomposition import PCA\n",
    "from matplotlib import pyplot as plt\n",
    "\n",
    "from mpl_toolkits.mplot3d import Axes3D\n",
    "from pathlib import Path\n",
    "\n",
    "from sklearn.ensemble import RandomForestClassifier\n",
    "from sklearn.model_selection import train_test_split\n",
    "from sklearn.tree import DecisionTreeClassifier\n",
    "from pathlib import Path\n",
    "from sklearn.metrics import (roc_curve, auc, accuracy_score)\n",
    "from sklearn.preprocessing import StandardScaler\n",
    "\n",
    "import nltk"
   ]
  },
  {
   "cell_type": "markdown",
   "metadata": {},
   "source": [
    "# tagged = nltk.pos_tag(tokens)\n",
    "tagged[0:6]"
   ]
  },
  {
   "cell_type": "markdown",
   "metadata": {},
   "source": [
    "# Localからテキストを読み込む"
   ]
  },
  {
   "cell_type": "code",
   "execution_count": null,
   "metadata": {},
   "outputs": [],
   "source": []
  },
  {
   "cell_type": "code",
   "execution_count": 2,
   "metadata": {},
   "outputs": [
    {
     "name": "stdout",
     "output_type": "stream",
     "text": [
      "C:\\Users\\Si\\Desktop\\python_all\\python_NLTK\\NLTK_/test\n"
     ]
    }
   ],
   "source": [
    "#homePC\n",
    "#path_0 = Path(r'C:\\Users\\SI\\Python_ML\\python_NLTK\\NLTK_')\n",
    "#officePC\n",
    "path_0 = Path(r'C:\\Users\\Si\\Desktop\\python_all\\python_NLTK\\NLTK_')\n",
    "\n",
    "\n",
    "author = ['Poe','Twain']\n",
    "type_ = ['letter', 'story']\n",
    "test = ['test']\n",
    "\n",
    "choice = [0,1]\n",
    "\n",
    "index_i = 0\n",
    "index_j = 1\n",
    "#path = str(path_0) + str('/') + str(author[choice[index_i]]) + str('-') + str(type_[choice[index_j]])\n",
    "path = str(path_0) + str('/') + str(test[0])\n",
    "print(path)"
   ]
  },
  {
   "cell_type": "code",
   "execution_count": 3,
   "metadata": {},
   "outputs": [],
   "source": [
    "new_dir_path_csv = 'csv/' + str(test[choice[index_i]]) + str('_') \n",
    "new_dir_path_png = 'png/' + str(test[choice[index_i]]) + str('_') \n",
    "\n",
    "author_type = str(test[choice[index_i]]) + str('_')\n",
    "\n",
    "new_dir_path_png_top = 'png/' + author_type + '/top_ranking'\n",
    "new_dir_path_png_top_no_punc = 'png/' + author_type + '/top_ranking_no_punc'\n",
    "new_dir_path_png_top_no_punc_no_stopwords = 'png/' + author_type + '/top_ranking_no_punc_no_stopwords'\n",
    "new_dir_path_png_dispersion_plot = 'png/' + author_type + '/dispersion_plot'\n",
    "new_dir_path_png_biagram_plot  = 'png/' + author_type + '/biagram_plot'\n",
    "\n",
    "def my_makedirs(path):\n",
    "    if not os.path.isdir(path):\n",
    "        os.makedirs(path)\n",
    "\n",
    "my_makedirs(new_dir_path_csv)\n",
    "my_makedirs(new_dir_path_png)\n",
    "my_makedirs(new_dir_path_png_top)\n",
    "my_makedirs(new_dir_path_png_top_no_punc)\n",
    "my_makedirs(new_dir_path_png_top_no_punc_no_stopwords)\n",
    "\n",
    "my_makedirs(new_dir_path_png_dispersion_plot)\n",
    "my_makedirs(new_dir_path_png_biagram_plot)"
   ]
  },
  {
   "cell_type": "code",
   "execution_count": 4,
   "metadata": {},
   "outputs": [
    {
     "data": {
      "text/plain": [
       "('csv/test_',\n",
       " 'png/test_',\n",
       " 'png/test_/top_ranking',\n",
       " 'png/test_/top_ranking_no_punc',\n",
       " 'png/test_/top_ranking_no_punc_no_stopwords',\n",
       " 'png/test_/dispersion_plot',\n",
       " 'png/test_/biagram_plot')"
      ]
     },
     "execution_count": 4,
     "metadata": {},
     "output_type": "execute_result"
    }
   ],
   "source": [
    "new_dir_path_csv, new_dir_path_png, new_dir_path_png_top, new_dir_path_png_top_no_punc, new_dir_path_png_top_no_punc_no_stopwords,new_dir_path_png_dispersion_plot, new_dir_path_png_biagram_plot"
   ]
  },
  {
   "cell_type": "code",
   "execution_count": 5,
   "metadata": {},
   "outputs": [
    {
     "data": {
      "text/plain": [
       "'C:\\\\Users\\\\Si\\\\Desktop\\\\python_all\\\\python_NLTK\\\\NLTK_/test'"
      ]
     },
     "execution_count": 5,
     "metadata": {},
     "output_type": "execute_result"
    }
   ],
   "source": [
    "path"
   ]
  },
  {
   "cell_type": "markdown",
   "metadata": {},
   "source": []
  },
  {
   "cell_type": "code",
   "execution_count": 6,
   "metadata": {
    "scrolled": true
   },
   "outputs": [
    {
     "name": "stdout",
     "output_type": "stream",
     "text": [
      "lists: <generator object Path.glob at 0x0000017D09FDB7C8>\n"
     ]
    },
    {
     "data": {
      "text/plain": [
       "[WindowsPath('C:/Users/Si/Desktop/python_all/python_NLTK/NLTK_/test/test_02.txt')]"
      ]
     },
     "execution_count": 6,
     "metadata": {},
     "output_type": "execute_result"
    }
   ],
   "source": [
    "#path = Path(r'C:\\Users\\tsuka\\Desktop\\txt')\n",
    "#path = Path(r'C:\\Users\\SI\\Python_ML\\NLTK_\\txt\\Poe-story')\n",
    "path = Path(path)\n",
    "path\n",
    "path.glob('*.txt')\n",
    "list(path.glob('*.txt'))\n",
    "print('lists:', path.glob('*.txt'))\n",
    "#list path\n",
    "path = list(path.glob('*.txt'))\n",
    "path\n"
   ]
  },
  {
   "cell_type": "code",
   "execution_count": 7,
   "metadata": {},
   "outputs": [
    {
     "data": {
      "text/html": [
       "<div>\n",
       "<style scoped>\n",
       "    .dataframe tbody tr th:only-of-type {\n",
       "        vertical-align: middle;\n",
       "    }\n",
       "\n",
       "    .dataframe tbody tr th {\n",
       "        vertical-align: top;\n",
       "    }\n",
       "\n",
       "    .dataframe thead th {\n",
       "        text-align: right;\n",
       "    }\n",
       "</style>\n",
       "<table border=\"1\" class=\"dataframe\">\n",
       "  <thead>\n",
       "    <tr style=\"text-align: right;\">\n",
       "      <th></th>\n",
       "      <th>The Mary Rogers Mystery Explained. The terrible mystery which for more than a year has hung over the fate of Mary Rogers, whose body was found, as our readers will well remember, in the North River, under circum- stances such as convinced every one that she was the victim of hellish lust and then of murder, is at last explained｡ｪto the satisfaction, we doubt not of all. It may be recollected that associated with the tale of her disappearance was the name of Mrs. Loss, the woman who kept the refreshment house nearest the scene of her death. About a fortnight since｡ｪas we have already stated｡ｪthis woman was accidentally wounded by the premature dis- charge of a gun in the hands of her son; the wound proved fatal; but before she died she sent for Jus- tice Merritt, of New-Jersey, and told him the fol- lowing facts. On the Sunday of Miss Rogers's dis- appearance she came to her house from this city in company with a young physician, who under- took to procure for her a premature delivery.｡ｪ While in the hands of the physician she died and a consultation was then held as to the disposal of her body. It was finally taken at night by the son of Mrs. Loss and sunk in the river where it was found. Her clothes were first tied up in a bun- dle and sunk in a pond on the land of Mr. James G. King in that neighborhood; but it was after- ward thought they were not safe there, and they were accordingly taken and scattered through the woods as they were found. The name of the phy- sician is unknown to us, nor do we know whether it was divulged or not. The Mayor has been made acquainted with these facts by Mr. Merritt, and we doubt not an immediate inquiry after the guilty wretch will be made. The son of Mrs. Loss, as an accessary after the fact, we suppose will be｡ｪif he has not already been｡ｪarrested. No doubt, we apprehend, can be entertained of the truth of this confession. It explains many things connected with the affair which before were wrapped in mys- tery｡ｪespecially the apathy of the mother of Miss Rogers upon the discovery of her body. It will be remembered that she did not even go to iden- tify it and made no enquiries concerning the affair. Thus has this fearful mystery, which has struck fear and terror to so many hearts, been at last ex- plained by circumstances in which no one can fail to perceive a Providential agency. Besides the guilty murderer, the secret rested with two persons. One of these, through the involuntary agency of the other, is laid upon her death bed｡ｪand then Con- science, no longer able to keep silence, breathes its accusation into the ear of Justice. We rejoice most deeply at this revelation, and that the scene of the unhappy victim's death is relieved of some of the horrors with which conjecture, apparently well-founded, had surrounded it. If we recollect aright some physicians of this city testified with great professional confidence as to the manner of her death｡ｪdescribing very minutely the kind and de- gree of personal violence to which she had been subjected. There statements are now shown to be baseless. Should not this tend to diminish somewhat the implicit reliance often placed upon the testimony of physicians in similar cases?</th>\n",
       "    </tr>\n",
       "  </thead>\n",
       "  <tbody>\n",
       "  </tbody>\n",
       "</table>\n",
       "</div>"
      ],
      "text/plain": [
       "Empty DataFrame\n",
       "Columns: [The Mary Rogers Mystery Explained. The terrible mystery which for more than a year has hung over the fate of Mary Rogers, whose body was found, as our readers will well remember, in the North River, under circum- stances such as convinced every one that she was the victim of hellish lust and then of murder, is at last explained｡ｪto the satisfaction, we doubt not of all. It may be recollected that associated with the tale of her disappearance was the name of Mrs. Loss, the woman who kept the refreshment house nearest the scene of her death. About a fortnight since｡ｪas we have already stated｡ｪthis woman was accidentally wounded by the premature dis- charge of a gun in the hands of her son; the wound proved fatal; but before she died she sent for Jus- tice Merritt, of New-Jersey, and told him the fol- lowing facts. On the Sunday of Miss Rogers's dis- appearance she came to her house from this city in company with a young physician, who under- took to procure for her a premature delivery.｡ｪ While in the hands of the physician she died and a consultation was then held as to the disposal of her body. It was finally taken at night by the son of Mrs. Loss and sunk in the river where it was found. Her clothes were first tied up in a bun- dle and sunk in a pond on the land of Mr. James G. King in that neighborhood; but it was after- ward thought they were not safe there, and they were accordingly taken and scattered through the woods as they were found. The name of the phy- sician is unknown to us, nor do we know whether it was divulged or not. The Mayor has been made acquainted with these facts by Mr. Merritt, and we doubt not an immediate inquiry after the guilty wretch will be made. The son of Mrs. Loss, as an accessary after the fact, we suppose will be｡ｪif he has not already been｡ｪarrested. No doubt, we apprehend, can be entertained of the truth of this confession. It explains many things connected with the affair which before were wrapped in mys- tery｡ｪespecially the apathy of the mother of Miss Rogers upon the discovery of her body. It will be remembered that she did not even go to iden- tify it and made no enquiries concerning the affair. Thus has this fearful mystery, which has struck fear and terror to so many hearts, been at last ex- plained by circumstances in which no one can fail to perceive a Providential agency. Besides the guilty murderer, the secret rested with two persons. One of these, through the involuntary agency of the other, is laid upon her death bed｡ｪand then Con- science, no longer able to keep silence, breathes its accusation into the ear of Justice. We rejoice most deeply at this revelation, and that the scene of the unhappy victim's death is relieved of some of the horrors with which conjecture, apparently well-founded, had surrounded it. If we recollect aright some physicians of this city testified with great professional confidence as to the manner of her death｡ｪdescribing very minutely the kind and de- gree of personal violence to which she had been subjected. There statements are now shown to be baseless. Should not this tend to diminish somewhat the implicit reliance often placed upon the testimony of physicians in similar cases?]\n",
       "Index: []"
      ]
     },
     "execution_count": 7,
     "metadata": {},
     "output_type": "execute_result"
    }
   ],
   "source": [
    "data = pd.read_table(path[0], encoding='cp932')\n",
    "data"
   ]
  },
  {
   "cell_type": "code",
   "execution_count": null,
   "metadata": {},
   "outputs": [],
   "source": []
  },
  {
   "cell_type": "code",
   "execution_count": null,
   "metadata": {},
   "outputs": [],
   "source": []
  },
  {
   "cell_type": "raw",
   "metadata": {},
   "source": [
    "data = pd.read_csv(path, delimiter=';')\n",
    "print(path)\n",
    "#data frame to numpy\n",
    "data.info()\n",
    "datanp = data.values"
   ]
  },
  {
   "cell_type": "markdown",
   "metadata": {},
   "source": [
    "# テキストの内容をリスト化１"
   ]
  },
  {
   "cell_type": "code",
   "execution_count": 8,
   "metadata": {},
   "outputs": [
    {
     "data": {
      "text/plain": [
       "['The',\n",
       " 'Mary',\n",
       " 'Rogers',\n",
       " 'Mystery',\n",
       " 'Explained',\n",
       " '.',\n",
       " 'The',\n",
       " 'terrible',\n",
       " 'mystery',\n",
       " 'which',\n",
       " 'for',\n",
       " 'more',\n",
       " 'than',\n",
       " 'a',\n",
       " 'year',\n",
       " 'has',\n",
       " 'hung',\n",
       " 'over',\n",
       " 'the',\n",
       " 'fate',\n",
       " 'of',\n",
       " 'Mary',\n",
       " 'Rogers',\n",
       " ',',\n",
       " 'whose',\n",
       " 'body',\n",
       " 'was',\n",
       " 'found',\n",
       " ',',\n",
       " 'as',\n",
       " 'our',\n",
       " 'readers',\n",
       " 'will',\n",
       " 'well',\n",
       " 'remember',\n",
       " ',',\n",
       " 'in',\n",
       " 'the',\n",
       " 'North',\n",
       " 'River',\n",
       " ',',\n",
       " 'under',\n",
       " 'circum-',\n",
       " 'stances',\n",
       " 'such',\n",
       " 'as',\n",
       " 'convinced',\n",
       " 'every',\n",
       " 'one',\n",
       " 'that',\n",
       " 'she',\n",
       " 'was',\n",
       " 'the',\n",
       " 'victim',\n",
       " 'of',\n",
       " 'hellish',\n",
       " 'lust',\n",
       " 'and',\n",
       " 'then',\n",
       " 'of',\n",
       " 'murder',\n",
       " ',',\n",
       " 'is',\n",
       " 'at',\n",
       " 'last',\n",
       " 'explained｡ｪto',\n",
       " 'the',\n",
       " 'satisfaction',\n",
       " ',',\n",
       " 'we',\n",
       " 'doubt',\n",
       " 'not',\n",
       " 'of',\n",
       " 'all',\n",
       " '.',\n",
       " 'It',\n",
       " 'may',\n",
       " 'be',\n",
       " 'recollected',\n",
       " 'that',\n",
       " 'associated',\n",
       " 'with',\n",
       " 'the',\n",
       " 'tale',\n",
       " 'of',\n",
       " 'her',\n",
       " 'disappearance',\n",
       " 'was',\n",
       " 'the',\n",
       " 'name',\n",
       " 'of',\n",
       " 'Mrs.',\n",
       " 'Loss',\n",
       " ',',\n",
       " 'the',\n",
       " 'woman',\n",
       " 'who',\n",
       " 'kept',\n",
       " 'the',\n",
       " 'refreshment',\n",
       " 'house',\n",
       " 'nearest',\n",
       " 'the',\n",
       " 'scene',\n",
       " 'of',\n",
       " 'her',\n",
       " 'death',\n",
       " '.',\n",
       " 'About',\n",
       " 'a',\n",
       " 'fortnight',\n",
       " 'since｡ｪas',\n",
       " 'we',\n",
       " 'have',\n",
       " 'already',\n",
       " 'stated｡ｪthis',\n",
       " 'woman',\n",
       " 'was',\n",
       " 'accidentally',\n",
       " 'wounded',\n",
       " 'by',\n",
       " 'the',\n",
       " 'premature',\n",
       " 'dis-',\n",
       " 'charge',\n",
       " 'of',\n",
       " 'a',\n",
       " 'gun',\n",
       " 'in',\n",
       " 'the',\n",
       " 'hands',\n",
       " 'of',\n",
       " 'her',\n",
       " 'son',\n",
       " ';',\n",
       " 'the',\n",
       " 'wound',\n",
       " 'proved',\n",
       " 'fatal',\n",
       " ';',\n",
       " 'but',\n",
       " 'before',\n",
       " 'she',\n",
       " 'died',\n",
       " 'she',\n",
       " 'sent',\n",
       " 'for',\n",
       " 'Jus-',\n",
       " 'tice',\n",
       " 'Merritt',\n",
       " ',',\n",
       " 'of',\n",
       " 'New-Jersey',\n",
       " ',',\n",
       " 'and',\n",
       " 'told',\n",
       " 'him',\n",
       " 'the',\n",
       " 'fol-',\n",
       " 'lowing',\n",
       " 'facts',\n",
       " '.',\n",
       " 'On',\n",
       " 'the',\n",
       " 'Sunday',\n",
       " 'of',\n",
       " 'Miss',\n",
       " 'Rogers',\n",
       " \"'s\",\n",
       " 'dis-',\n",
       " 'appearance',\n",
       " 'she',\n",
       " 'came',\n",
       " 'to',\n",
       " 'her',\n",
       " 'house',\n",
       " 'from',\n",
       " 'this',\n",
       " 'city',\n",
       " 'in',\n",
       " 'company',\n",
       " 'with',\n",
       " 'a',\n",
       " 'young',\n",
       " 'physician',\n",
       " ',',\n",
       " 'who',\n",
       " 'under-',\n",
       " 'took',\n",
       " 'to',\n",
       " 'procure',\n",
       " 'for',\n",
       " 'her',\n",
       " 'a',\n",
       " 'premature',\n",
       " 'delivery.｡ｪ',\n",
       " 'While',\n",
       " 'in',\n",
       " 'the',\n",
       " 'hands',\n",
       " 'of',\n",
       " 'the',\n",
       " 'physician',\n",
       " 'she',\n",
       " 'died',\n",
       " 'and',\n",
       " 'a',\n",
       " 'consultation',\n",
       " 'was',\n",
       " 'then',\n",
       " 'held',\n",
       " 'as',\n",
       " 'to',\n",
       " 'the',\n",
       " 'disposal',\n",
       " 'of',\n",
       " 'her',\n",
       " 'body',\n",
       " '.',\n",
       " 'It',\n",
       " 'was',\n",
       " 'finally',\n",
       " 'taken',\n",
       " 'at',\n",
       " 'night',\n",
       " 'by',\n",
       " 'the',\n",
       " 'son',\n",
       " 'of',\n",
       " 'Mrs.',\n",
       " 'Loss',\n",
       " 'and',\n",
       " 'sunk',\n",
       " 'in',\n",
       " 'the',\n",
       " 'river',\n",
       " 'where',\n",
       " 'it',\n",
       " 'was',\n",
       " 'found',\n",
       " '.',\n",
       " 'Her',\n",
       " 'clothes',\n",
       " 'were',\n",
       " 'first',\n",
       " 'tied',\n",
       " 'up',\n",
       " 'in',\n",
       " 'a',\n",
       " 'bun-',\n",
       " 'dle',\n",
       " 'and',\n",
       " 'sunk',\n",
       " 'in',\n",
       " 'a',\n",
       " 'pond',\n",
       " 'on',\n",
       " 'the',\n",
       " 'land',\n",
       " 'of',\n",
       " 'Mr.',\n",
       " 'James',\n",
       " 'G.',\n",
       " 'King',\n",
       " 'in',\n",
       " 'that',\n",
       " 'neighborhood',\n",
       " ';',\n",
       " 'but',\n",
       " 'it',\n",
       " 'was',\n",
       " 'after-',\n",
       " 'ward',\n",
       " 'thought',\n",
       " 'they',\n",
       " 'were',\n",
       " 'not',\n",
       " 'safe',\n",
       " 'there',\n",
       " ',',\n",
       " 'and',\n",
       " 'they',\n",
       " 'were',\n",
       " 'accordingly',\n",
       " 'taken',\n",
       " 'and',\n",
       " 'scattered',\n",
       " 'through',\n",
       " 'the',\n",
       " 'woods',\n",
       " 'as',\n",
       " 'they',\n",
       " 'were',\n",
       " 'found',\n",
       " '.',\n",
       " 'The',\n",
       " 'name',\n",
       " 'of',\n",
       " 'the',\n",
       " 'phy-',\n",
       " 'sician',\n",
       " 'is',\n",
       " 'unknown',\n",
       " 'to',\n",
       " 'us',\n",
       " ',',\n",
       " 'nor',\n",
       " 'do',\n",
       " 'we',\n",
       " 'know',\n",
       " 'whether',\n",
       " 'it',\n",
       " 'was',\n",
       " 'divulged',\n",
       " 'or',\n",
       " 'not',\n",
       " '.',\n",
       " 'The',\n",
       " 'Mayor',\n",
       " 'has',\n",
       " 'been',\n",
       " 'made',\n",
       " 'acquainted',\n",
       " 'with',\n",
       " 'these',\n",
       " 'facts',\n",
       " 'by',\n",
       " 'Mr.',\n",
       " 'Merritt',\n",
       " ',',\n",
       " 'and',\n",
       " 'we',\n",
       " 'doubt',\n",
       " 'not',\n",
       " 'an',\n",
       " 'immediate',\n",
       " 'inquiry',\n",
       " 'after',\n",
       " 'the',\n",
       " 'guilty',\n",
       " 'wretch',\n",
       " 'will',\n",
       " 'be',\n",
       " 'made',\n",
       " '.',\n",
       " 'The',\n",
       " 'son',\n",
       " 'of',\n",
       " 'Mrs.',\n",
       " 'Loss',\n",
       " ',',\n",
       " 'as',\n",
       " 'an',\n",
       " 'accessary',\n",
       " 'after',\n",
       " 'the',\n",
       " 'fact',\n",
       " ',',\n",
       " 'we',\n",
       " 'suppose',\n",
       " 'will',\n",
       " 'be｡ｪif',\n",
       " 'he',\n",
       " 'has',\n",
       " 'not',\n",
       " 'already',\n",
       " 'been｡ｪarrested',\n",
       " '.',\n",
       " 'No',\n",
       " 'doubt',\n",
       " ',',\n",
       " 'we',\n",
       " 'apprehend',\n",
       " ',',\n",
       " 'can',\n",
       " 'be',\n",
       " 'entertained',\n",
       " 'of',\n",
       " 'the',\n",
       " 'truth',\n",
       " 'of',\n",
       " 'this',\n",
       " 'confession',\n",
       " '.',\n",
       " 'It',\n",
       " 'explains',\n",
       " 'many',\n",
       " 'things',\n",
       " 'connected',\n",
       " 'with',\n",
       " 'the',\n",
       " 'affair',\n",
       " 'which',\n",
       " 'before',\n",
       " 'were',\n",
       " 'wrapped',\n",
       " 'in',\n",
       " 'mys-',\n",
       " 'tery｡ｪespecially',\n",
       " 'the',\n",
       " 'apathy',\n",
       " 'of',\n",
       " 'the',\n",
       " 'mother',\n",
       " 'of',\n",
       " 'Miss',\n",
       " 'Rogers',\n",
       " 'upon',\n",
       " 'the',\n",
       " 'discovery',\n",
       " 'of',\n",
       " 'her',\n",
       " 'body',\n",
       " '.',\n",
       " 'It',\n",
       " 'will',\n",
       " 'be',\n",
       " 'remembered',\n",
       " 'that',\n",
       " 'she',\n",
       " 'did',\n",
       " 'not',\n",
       " 'even',\n",
       " 'go',\n",
       " 'to',\n",
       " 'iden-',\n",
       " 'tify',\n",
       " 'it',\n",
       " 'and',\n",
       " 'made',\n",
       " 'no',\n",
       " 'enquiries',\n",
       " 'concerning',\n",
       " 'the',\n",
       " 'affair',\n",
       " '.',\n",
       " 'Thus',\n",
       " 'has',\n",
       " 'this',\n",
       " 'fearful',\n",
       " 'mystery',\n",
       " ',',\n",
       " 'which',\n",
       " 'has',\n",
       " 'struck',\n",
       " 'fear',\n",
       " 'and',\n",
       " 'terror',\n",
       " 'to',\n",
       " 'so',\n",
       " 'many',\n",
       " 'hearts',\n",
       " ',',\n",
       " 'been',\n",
       " 'at',\n",
       " 'last',\n",
       " 'ex-',\n",
       " 'plained',\n",
       " 'by',\n",
       " 'circumstances',\n",
       " 'in',\n",
       " 'which',\n",
       " 'no',\n",
       " 'one',\n",
       " 'can',\n",
       " 'fail',\n",
       " 'to',\n",
       " 'perceive',\n",
       " 'a',\n",
       " 'Providential',\n",
       " 'agency',\n",
       " '.',\n",
       " 'Besides',\n",
       " 'the',\n",
       " 'guilty',\n",
       " 'murderer',\n",
       " ',',\n",
       " 'the',\n",
       " 'secret',\n",
       " 'rested',\n",
       " 'with',\n",
       " 'two',\n",
       " 'persons',\n",
       " '.',\n",
       " 'One',\n",
       " 'of',\n",
       " 'these',\n",
       " ',',\n",
       " 'through',\n",
       " 'the',\n",
       " 'involuntary',\n",
       " 'agency',\n",
       " 'of',\n",
       " 'the',\n",
       " 'other',\n",
       " ',',\n",
       " 'is',\n",
       " 'laid',\n",
       " 'upon',\n",
       " 'her',\n",
       " 'death',\n",
       " 'bed｡ｪand',\n",
       " 'then',\n",
       " 'Con-',\n",
       " 'science',\n",
       " ',',\n",
       " 'no',\n",
       " 'longer',\n",
       " 'able',\n",
       " 'to',\n",
       " 'keep',\n",
       " 'silence',\n",
       " ',',\n",
       " 'breathes',\n",
       " 'its',\n",
       " 'accusation',\n",
       " 'into',\n",
       " 'the',\n",
       " 'ear',\n",
       " 'of',\n",
       " 'Justice',\n",
       " '.',\n",
       " 'We',\n",
       " 'rejoice',\n",
       " 'most',\n",
       " 'deeply',\n",
       " 'at',\n",
       " 'this',\n",
       " 'revelation',\n",
       " ',',\n",
       " 'and',\n",
       " 'that',\n",
       " 'the',\n",
       " 'scene',\n",
       " 'of',\n",
       " 'the',\n",
       " 'unhappy',\n",
       " 'victim',\n",
       " \"'s\",\n",
       " 'death',\n",
       " 'is',\n",
       " 'relieved',\n",
       " 'of',\n",
       " 'some',\n",
       " 'of',\n",
       " 'the',\n",
       " 'horrors',\n",
       " 'with',\n",
       " 'which',\n",
       " 'conjecture',\n",
       " ',',\n",
       " 'apparently',\n",
       " 'well-founded',\n",
       " ',',\n",
       " 'had',\n",
       " 'surrounded',\n",
       " 'it',\n",
       " '.',\n",
       " 'If',\n",
       " 'we',\n",
       " 'recollect',\n",
       " 'aright',\n",
       " 'some',\n",
       " 'physicians',\n",
       " 'of',\n",
       " 'this',\n",
       " 'city',\n",
       " 'testified',\n",
       " 'with',\n",
       " 'great',\n",
       " 'professional',\n",
       " 'confidence',\n",
       " 'as',\n",
       " 'to',\n",
       " 'the',\n",
       " 'manner',\n",
       " 'of',\n",
       " 'her',\n",
       " 'death｡ｪdescribing',\n",
       " 'very',\n",
       " 'minutely',\n",
       " 'the',\n",
       " 'kind',\n",
       " 'and',\n",
       " 'de-',\n",
       " 'gree',\n",
       " 'of',\n",
       " 'personal',\n",
       " 'violence',\n",
       " 'to',\n",
       " 'which',\n",
       " 'she',\n",
       " 'had',\n",
       " 'been',\n",
       " 'subjected',\n",
       " '.',\n",
       " 'There',\n",
       " 'statements',\n",
       " 'are',\n",
       " 'now',\n",
       " 'shown',\n",
       " 'to',\n",
       " 'be',\n",
       " 'baseless',\n",
       " '.',\n",
       " 'Should',\n",
       " 'not',\n",
       " 'this',\n",
       " 'tend',\n",
       " 'to',\n",
       " 'diminish',\n",
       " 'somewhat',\n",
       " 'the',\n",
       " 'implicit',\n",
       " 'reliance',\n",
       " 'often',\n",
       " 'placed',\n",
       " 'upon',\n",
       " 'the',\n",
       " 'testimony',\n",
       " 'of',\n",
       " 'physicians',\n",
       " 'in',\n",
       " 'similar',\n",
       " 'cases',\n",
       " '?']"
      ]
     },
     "execution_count": 8,
     "metadata": {},
     "output_type": "execute_result"
    }
   ],
   "source": [
    "import nltk\n",
    "\n",
    "file_content = open(path[0]).read()\n",
    "tokens = nltk.word_tokenize(file_content)\n",
    "tokens"
   ]
  },
  {
   "cell_type": "code",
   "execution_count": 9,
   "metadata": {},
   "outputs": [
    {
     "data": {
      "text/plain": [
       "626"
      ]
     },
     "execution_count": 9,
     "metadata": {},
     "output_type": "execute_result"
    }
   ],
   "source": [
    "len(tokens)"
   ]
  },
  {
   "cell_type": "markdown",
   "metadata": {},
   "source": [
    "# テキストの内容をリスト化2"
   ]
  },
  {
   "cell_type": "raw",
   "metadata": {},
   "source": [
    "import nltk\n",
    "nltk.download('gutenberg')\n",
    "#from nltk.book import *"
   ]
  },
  {
   "cell_type": "raw",
   "metadata": {},
   "source": [
    "book_list = nltk.corpus.gutenberg.fileids()\n",
    "book_list"
   ]
  },
  {
   "cell_type": "code",
   "execution_count": null,
   "metadata": {},
   "outputs": [],
   "source": []
  },
  {
   "cell_type": "markdown",
   "metadata": {},
   "source": [
    "# txtをローカルから読み込む"
   ]
  },
  {
   "cell_type": "code",
   "execution_count": 10,
   "metadata": {
    "scrolled": false
   },
   "outputs": [
    {
     "name": "stdout",
     "output_type": "stream",
     "text": [
      "0 626\n"
     ]
    }
   ],
   "source": [
    "read_book_list = []\n",
    "for i in range(len(path)):\n",
    "    #data = pd.read_table(path[i], encoding='cp932')\n",
    "    data = pd.read_table(path[i], encoding='cp932')\n",
    "    #print(i, data, path[i])\n",
    "    \n",
    "    file_content = open(path[i]).read()\n",
    "    read_book = nltk.word_tokenize(file_content)\n",
    "    \n",
    "    print(i, len(read_book))\n",
    "    \n",
    "    #read_book = nltk.corpus.gutenberg.words(book_list[i])\n",
    "    read_book_list.append(read_book)\n",
    "    #print('No.',i,'\\n', read_book_list, '\\n')"
   ]
  },
  {
   "cell_type": "code",
   "execution_count": 11,
   "metadata": {},
   "outputs": [],
   "source": [
    "#check"
   ]
  },
  {
   "cell_type": "code",
   "execution_count": null,
   "metadata": {},
   "outputs": [],
   "source": []
  },
  {
   "cell_type": "markdown",
   "metadata": {},
   "source": [
    "# 変な符号を置き換え"
   ]
  },
  {
   "cell_type": "code",
   "execution_count": 12,
   "metadata": {},
   "outputs": [
    {
     "name": "stdout",
     "output_type": "stream",
     "text": [
      "No. 0 \n",
      " ['The', 'Mary', 'Rogers', 'Mystery', 'Explained', '.', 'The', 'terrible', 'mystery', 'which', 'for', 'more', 'than', 'a', 'year', 'has', 'hung', 'over', 'the', 'fate', 'of', 'Mary', 'Rogers', ',', 'whose', 'body', 'was', 'found', ',', 'as', 'our', 'readers', 'will', 'well', 'remember', ',', 'in', 'the', 'North', 'River', ',', 'under', 'circum-', 'stances', 'such', 'as', 'convinced', 'every', 'one', 'that', 'she', 'was', 'the', 'victim', 'of', 'hellish', 'lust', 'and', 'then', 'of', 'murder', ',', 'is', 'at', 'last', 'explained｡ｪto', 'the', 'satisfaction', ',', 'we', 'doubt', 'not', 'of', 'all', '.', 'It', 'may', 'be', 'recollected', 'that', 'associated', 'with', 'the', 'tale', 'of', 'her', 'disappearance', 'was', 'the', 'name', 'of', 'Mrs.', 'Loss', ',', 'the', 'woman', 'who', 'kept', 'the', 'refreshment', 'house', 'nearest', 'the', 'scene', 'of', 'her', 'death', '.', 'About', 'a', 'fortnight', 'since｡ｪas', 'we', 'have', 'already', 'stated｡ｪthis', 'woman', 'was', 'accidentally', 'wounded', 'by', 'the', 'premature', 'dis-', 'charge', 'of', 'a', 'gun', 'in', 'the', 'hands', 'of', 'her', 'son', ';', 'the', 'wound', 'proved', 'fatal', ';', 'but', 'before', 'she', 'died', 'she', 'sent', 'for', 'Jus-', 'tice', 'Merritt', ',', 'of', 'New-Jersey', ',', 'and', 'told', 'him', 'the', 'fol-', 'lowing', 'facts', '.', 'On', 'the', 'Sunday', 'of', 'Miss', 'Rogers', \"'s\", 'dis-', 'appearance', 'she', 'came', 'to', 'her', 'house', 'from', 'this', 'city', 'in', 'company', 'with', 'a', 'young', 'physician', ',', 'who', 'under-', 'took', 'to', 'procure', 'for', 'her', 'a', 'premature', 'delivery.｡ｪ', 'While', 'in', 'the', 'hands', 'of', 'the', 'physician', 'she', 'died', 'and', 'a', 'consultation', 'was', 'then', 'held', 'as', 'to', 'the', 'disposal', 'of', 'her', 'body', '.', 'It', 'was', 'finally', 'taken', 'at', 'night', 'by', 'the', 'son', 'of', 'Mrs.', 'Loss', 'and', 'sunk', 'in', 'the', 'river', 'where', 'it', 'was', 'found', '.', 'Her', 'clothes', 'were', 'first', 'tied', 'up', 'in', 'a', 'bun-', 'dle', 'and', 'sunk', 'in', 'a', 'pond', 'on', 'the', 'land', 'of', 'Mr.', 'James', 'G.', 'King', 'in', 'that', 'neighborhood', ';', 'but', 'it', 'was', 'after-', 'ward', 'thought', 'they', 'were', 'not', 'safe', 'there', ',', 'and', 'they', 'were', 'accordingly', 'taken', 'and', 'scattered', 'through', 'the', 'woods', 'as', 'they', 'were', 'found', '.', 'The', 'name', 'of', 'the', 'phy-', 'sician', 'is', 'unknown', 'to', 'us', ',', 'nor', 'do', 'we', 'know', 'whether', 'it', 'was', 'divulged', 'or', 'not', '.', 'The', 'Mayor', 'has', 'been', 'made', 'acquainted', 'with', 'these', 'facts', 'by', 'Mr.', 'Merritt', ',', 'and', 'we', 'doubt', 'not', 'an', 'immediate', 'inquiry', 'after', 'the', 'guilty', 'wretch', 'will', 'be', 'made', '.', 'The', 'son', 'of', 'Mrs.', 'Loss', ',', 'as', 'an', 'accessary', 'after', 'the', 'fact', ',', 'we', 'suppose', 'will', 'be｡ｪif', 'he', 'has', 'not', 'already', 'been｡ｪarrested', '.', 'No', 'doubt', ',', 'we', 'apprehend', ',', 'can', 'be', 'entertained', 'of', 'the', 'truth', 'of', 'this', 'confession', '.', 'It', 'explains', 'many', 'things', 'connected', 'with', 'the', 'affair', 'which', 'before', 'were', 'wrapped', 'in', 'mys-', 'tery｡ｪespecially', 'the', 'apathy', 'of', 'the', 'mother', 'of', 'Miss', 'Rogers', 'upon', 'the', 'discovery', 'of', 'her', 'body', '.', 'It', 'will', 'be', 'remembered', 'that', 'she', 'did', 'not', 'even', 'go', 'to', 'iden-', 'tify', 'it', 'and', 'made', 'no', 'enquiries', 'concerning', 'the', 'affair', '.', 'Thus', 'has', 'this', 'fearful', 'mystery', ',', 'which', 'has', 'struck', 'fear', 'and', 'terror', 'to', 'so', 'many', 'hearts', ',', 'been', 'at', 'last', 'ex-', 'plained', 'by', 'circumstances', 'in', 'which', 'no', 'one', 'can', 'fail', 'to', 'perceive', 'a', 'Providential', 'agency', '.', 'Besides', 'the', 'guilty', 'murderer', ',', 'the', 'secret', 'rested', 'with', 'two', 'persons', '.', 'One', 'of', 'these', ',', 'through', 'the', 'involuntary', 'agency', 'of', 'the', 'other', ',', 'is', 'laid', 'upon', 'her', 'death', 'bed｡ｪand', 'then', 'Con-', 'science', ',', 'no', 'longer', 'able', 'to', 'keep', 'silence', ',', 'breathes', 'its', 'accusation', 'into', 'the', 'ear', 'of', 'Justice', '.', 'We', 'rejoice', 'most', 'deeply', 'at', 'this', 'revelation', ',', 'and', 'that', 'the', 'scene', 'of', 'the', 'unhappy', 'victim', \"'s\", 'death', 'is', 'relieved', 'of', 'some', 'of', 'the', 'horrors', 'with', 'which', 'conjecture', ',', 'apparently', 'well-founded', ',', 'had', 'surrounded', 'it', '.', 'If', 'we', 'recollect', 'aright', 'some', 'physicians', 'of', 'this', 'city', 'testified', 'with', 'great', 'professional', 'confidence', 'as', 'to', 'the', 'manner', 'of', 'her', 'death｡ｪdescribing', 'very', 'minutely', 'the', 'kind', 'and', 'de-', 'gree', 'of', 'personal', 'violence', 'to', 'which', 'she', 'had', 'been', 'subjected', '.', 'There', 'statements', 'are', 'now', 'shown', 'to', 'be', 'baseless', '.', 'Should', 'not', 'this', 'tend', 'to', 'diminish', 'somewhat', 'the', 'implicit', 'reliance', 'often', 'placed', 'upon', 'the', 'testimony', 'of', 'physicians', 'in', 'similar', 'cases', '?'] \n",
      "\n"
     ]
    }
   ],
   "source": [
    "for i in range(len(path)):\n",
    "    for j in range(len(read_book_list[i])):\n",
    "        s = read_book_list[i][j]\n",
    "        read_book_list[i][j] = s.translate(str.maketrans({'乬': None, '乭': None, '乫': None, '乪': None}))\n",
    "    print('No.',i,'\\n', read_book_list[i], '\\n')"
   ]
  },
  {
   "cell_type": "code",
   "execution_count": null,
   "metadata": {},
   "outputs": [],
   "source": []
  },
  {
   "cell_type": "code",
   "execution_count": 13,
   "metadata": {
    "scrolled": true
   },
   "outputs": [
    {
     "name": "stdout",
     "output_type": "stream",
     "text": [
      "No. 0 sample: (626,) 1 C:\\Users\\Si\\Desktop\\python_all\\python_NLTK\\NLTK_\\test\\test_02.txt\n"
     ]
    }
   ],
   "source": [
    "for i in range(len(path)):\n",
    "    read_book_array = np.array(read_book_list[i])\n",
    "    print(\"No.\",i,\"sample:\", read_book_array.shape, len(read_book_list), path[i])"
   ]
  },
  {
   "cell_type": "raw",
   "metadata": {},
   "source": [
    "for i in range(len(read_book_list)):\n",
    "    print(i)"
   ]
  },
  {
   "cell_type": "code",
   "execution_count": null,
   "metadata": {},
   "outputs": [],
   "source": []
  },
  {
   "cell_type": "code",
   "execution_count": null,
   "metadata": {},
   "outputs": [],
   "source": []
  },
  {
   "cell_type": "markdown",
   "metadata": {},
   "source": [
    "# texts analysis"
   ]
  },
  {
   "cell_type": "raw",
   "metadata": {},
   "source": [
    "nltk.corpus.gutenberg.words('austen-emma.txt')"
   ]
  },
  {
   "cell_type": "code",
   "execution_count": 14,
   "metadata": {
    "scrolled": true
   },
   "outputs": [
    {
     "data": {
      "text/plain": [
       "(626,\n",
       " ['The',\n",
       "  'Mary',\n",
       "  'Rogers',\n",
       "  'Mystery',\n",
       "  'Explained',\n",
       "  '.',\n",
       "  'The',\n",
       "  'terrible',\n",
       "  'mystery',\n",
       "  'which',\n",
       "  'for',\n",
       "  'more',\n",
       "  'than',\n",
       "  'a',\n",
       "  'year',\n",
       "  'has',\n",
       "  'hung',\n",
       "  'over',\n",
       "  'the',\n",
       "  'fate',\n",
       "  'of',\n",
       "  'Mary',\n",
       "  'Rogers',\n",
       "  ',',\n",
       "  'whose',\n",
       "  'body',\n",
       "  'was',\n",
       "  'found',\n",
       "  ',',\n",
       "  'as',\n",
       "  'our',\n",
       "  'readers',\n",
       "  'will',\n",
       "  'well',\n",
       "  'remember',\n",
       "  ',',\n",
       "  'in',\n",
       "  'the',\n",
       "  'North',\n",
       "  'River',\n",
       "  ',',\n",
       "  'under',\n",
       "  'circum-',\n",
       "  'stances',\n",
       "  'such',\n",
       "  'as',\n",
       "  'convinced',\n",
       "  'every',\n",
       "  'one',\n",
       "  'that',\n",
       "  'she',\n",
       "  'was',\n",
       "  'the',\n",
       "  'victim',\n",
       "  'of',\n",
       "  'hellish',\n",
       "  'lust',\n",
       "  'and',\n",
       "  'then',\n",
       "  'of',\n",
       "  'murder',\n",
       "  ',',\n",
       "  'is',\n",
       "  'at',\n",
       "  'last',\n",
       "  'explained｡ｪto',\n",
       "  'the',\n",
       "  'satisfaction',\n",
       "  ',',\n",
       "  'we',\n",
       "  'doubt',\n",
       "  'not',\n",
       "  'of',\n",
       "  'all',\n",
       "  '.',\n",
       "  'It',\n",
       "  'may',\n",
       "  'be',\n",
       "  'recollected',\n",
       "  'that',\n",
       "  'associated',\n",
       "  'with',\n",
       "  'the',\n",
       "  'tale',\n",
       "  'of',\n",
       "  'her',\n",
       "  'disappearance',\n",
       "  'was',\n",
       "  'the',\n",
       "  'name',\n",
       "  'of',\n",
       "  'Mrs.',\n",
       "  'Loss',\n",
       "  ',',\n",
       "  'the',\n",
       "  'woman',\n",
       "  'who',\n",
       "  'kept',\n",
       "  'the',\n",
       "  'refreshment',\n",
       "  'house',\n",
       "  'nearest',\n",
       "  'the',\n",
       "  'scene',\n",
       "  'of',\n",
       "  'her',\n",
       "  'death',\n",
       "  '.',\n",
       "  'About',\n",
       "  'a',\n",
       "  'fortnight',\n",
       "  'since｡ｪas',\n",
       "  'we',\n",
       "  'have',\n",
       "  'already',\n",
       "  'stated｡ｪthis',\n",
       "  'woman',\n",
       "  'was',\n",
       "  'accidentally',\n",
       "  'wounded',\n",
       "  'by',\n",
       "  'the',\n",
       "  'premature',\n",
       "  'dis-',\n",
       "  'charge',\n",
       "  'of',\n",
       "  'a',\n",
       "  'gun',\n",
       "  'in',\n",
       "  'the',\n",
       "  'hands',\n",
       "  'of',\n",
       "  'her',\n",
       "  'son',\n",
       "  ';',\n",
       "  'the',\n",
       "  'wound',\n",
       "  'proved',\n",
       "  'fatal',\n",
       "  ';',\n",
       "  'but',\n",
       "  'before',\n",
       "  'she',\n",
       "  'died',\n",
       "  'she',\n",
       "  'sent',\n",
       "  'for',\n",
       "  'Jus-',\n",
       "  'tice',\n",
       "  'Merritt',\n",
       "  ',',\n",
       "  'of',\n",
       "  'New-Jersey',\n",
       "  ',',\n",
       "  'and',\n",
       "  'told',\n",
       "  'him',\n",
       "  'the',\n",
       "  'fol-',\n",
       "  'lowing',\n",
       "  'facts',\n",
       "  '.',\n",
       "  'On',\n",
       "  'the',\n",
       "  'Sunday',\n",
       "  'of',\n",
       "  'Miss',\n",
       "  'Rogers',\n",
       "  \"'s\",\n",
       "  'dis-',\n",
       "  'appearance',\n",
       "  'she',\n",
       "  'came',\n",
       "  'to',\n",
       "  'her',\n",
       "  'house',\n",
       "  'from',\n",
       "  'this',\n",
       "  'city',\n",
       "  'in',\n",
       "  'company',\n",
       "  'with',\n",
       "  'a',\n",
       "  'young',\n",
       "  'physician',\n",
       "  ',',\n",
       "  'who',\n",
       "  'under-',\n",
       "  'took',\n",
       "  'to',\n",
       "  'procure',\n",
       "  'for',\n",
       "  'her',\n",
       "  'a',\n",
       "  'premature',\n",
       "  'delivery.｡ｪ',\n",
       "  'While',\n",
       "  'in',\n",
       "  'the',\n",
       "  'hands',\n",
       "  'of',\n",
       "  'the',\n",
       "  'physician',\n",
       "  'she',\n",
       "  'died',\n",
       "  'and',\n",
       "  'a',\n",
       "  'consultation',\n",
       "  'was',\n",
       "  'then',\n",
       "  'held',\n",
       "  'as',\n",
       "  'to',\n",
       "  'the',\n",
       "  'disposal',\n",
       "  'of',\n",
       "  'her',\n",
       "  'body',\n",
       "  '.',\n",
       "  'It',\n",
       "  'was',\n",
       "  'finally',\n",
       "  'taken',\n",
       "  'at',\n",
       "  'night',\n",
       "  'by',\n",
       "  'the',\n",
       "  'son',\n",
       "  'of',\n",
       "  'Mrs.',\n",
       "  'Loss',\n",
       "  'and',\n",
       "  'sunk',\n",
       "  'in',\n",
       "  'the',\n",
       "  'river',\n",
       "  'where',\n",
       "  'it',\n",
       "  'was',\n",
       "  'found',\n",
       "  '.',\n",
       "  'Her',\n",
       "  'clothes',\n",
       "  'were',\n",
       "  'first',\n",
       "  'tied',\n",
       "  'up',\n",
       "  'in',\n",
       "  'a',\n",
       "  'bun-',\n",
       "  'dle',\n",
       "  'and',\n",
       "  'sunk',\n",
       "  'in',\n",
       "  'a',\n",
       "  'pond',\n",
       "  'on',\n",
       "  'the',\n",
       "  'land',\n",
       "  'of',\n",
       "  'Mr.',\n",
       "  'James',\n",
       "  'G.',\n",
       "  'King',\n",
       "  'in',\n",
       "  'that',\n",
       "  'neighborhood',\n",
       "  ';',\n",
       "  'but',\n",
       "  'it',\n",
       "  'was',\n",
       "  'after-',\n",
       "  'ward',\n",
       "  'thought',\n",
       "  'they',\n",
       "  'were',\n",
       "  'not',\n",
       "  'safe',\n",
       "  'there',\n",
       "  ',',\n",
       "  'and',\n",
       "  'they',\n",
       "  'were',\n",
       "  'accordingly',\n",
       "  'taken',\n",
       "  'and',\n",
       "  'scattered',\n",
       "  'through',\n",
       "  'the',\n",
       "  'woods',\n",
       "  'as',\n",
       "  'they',\n",
       "  'were',\n",
       "  'found',\n",
       "  '.',\n",
       "  'The',\n",
       "  'name',\n",
       "  'of',\n",
       "  'the',\n",
       "  'phy-',\n",
       "  'sician',\n",
       "  'is',\n",
       "  'unknown',\n",
       "  'to',\n",
       "  'us',\n",
       "  ',',\n",
       "  'nor',\n",
       "  'do',\n",
       "  'we',\n",
       "  'know',\n",
       "  'whether',\n",
       "  'it',\n",
       "  'was',\n",
       "  'divulged',\n",
       "  'or',\n",
       "  'not',\n",
       "  '.',\n",
       "  'The',\n",
       "  'Mayor',\n",
       "  'has',\n",
       "  'been',\n",
       "  'made',\n",
       "  'acquainted',\n",
       "  'with',\n",
       "  'these',\n",
       "  'facts',\n",
       "  'by',\n",
       "  'Mr.',\n",
       "  'Merritt',\n",
       "  ',',\n",
       "  'and',\n",
       "  'we',\n",
       "  'doubt',\n",
       "  'not',\n",
       "  'an',\n",
       "  'immediate',\n",
       "  'inquiry',\n",
       "  'after',\n",
       "  'the',\n",
       "  'guilty',\n",
       "  'wretch',\n",
       "  'will',\n",
       "  'be',\n",
       "  'made',\n",
       "  '.',\n",
       "  'The',\n",
       "  'son',\n",
       "  'of',\n",
       "  'Mrs.',\n",
       "  'Loss',\n",
       "  ',',\n",
       "  'as',\n",
       "  'an',\n",
       "  'accessary',\n",
       "  'after',\n",
       "  'the',\n",
       "  'fact',\n",
       "  ',',\n",
       "  'we',\n",
       "  'suppose',\n",
       "  'will',\n",
       "  'be｡ｪif',\n",
       "  'he',\n",
       "  'has',\n",
       "  'not',\n",
       "  'already',\n",
       "  'been｡ｪarrested',\n",
       "  '.',\n",
       "  'No',\n",
       "  'doubt',\n",
       "  ',',\n",
       "  'we',\n",
       "  'apprehend',\n",
       "  ',',\n",
       "  'can',\n",
       "  'be',\n",
       "  'entertained',\n",
       "  'of',\n",
       "  'the',\n",
       "  'truth',\n",
       "  'of',\n",
       "  'this',\n",
       "  'confession',\n",
       "  '.',\n",
       "  'It',\n",
       "  'explains',\n",
       "  'many',\n",
       "  'things',\n",
       "  'connected',\n",
       "  'with',\n",
       "  'the',\n",
       "  'affair',\n",
       "  'which',\n",
       "  'before',\n",
       "  'were',\n",
       "  'wrapped',\n",
       "  'in',\n",
       "  'mys-',\n",
       "  'tery｡ｪespecially',\n",
       "  'the',\n",
       "  'apathy',\n",
       "  'of',\n",
       "  'the',\n",
       "  'mother',\n",
       "  'of',\n",
       "  'Miss',\n",
       "  'Rogers',\n",
       "  'upon',\n",
       "  'the',\n",
       "  'discovery',\n",
       "  'of',\n",
       "  'her',\n",
       "  'body',\n",
       "  '.',\n",
       "  'It',\n",
       "  'will',\n",
       "  'be',\n",
       "  'remembered',\n",
       "  'that',\n",
       "  'she',\n",
       "  'did',\n",
       "  'not',\n",
       "  'even',\n",
       "  'go',\n",
       "  'to',\n",
       "  'iden-',\n",
       "  'tify',\n",
       "  'it',\n",
       "  'and',\n",
       "  'made',\n",
       "  'no',\n",
       "  'enquiries',\n",
       "  'concerning',\n",
       "  'the',\n",
       "  'affair',\n",
       "  '.',\n",
       "  'Thus',\n",
       "  'has',\n",
       "  'this',\n",
       "  'fearful',\n",
       "  'mystery',\n",
       "  ',',\n",
       "  'which',\n",
       "  'has',\n",
       "  'struck',\n",
       "  'fear',\n",
       "  'and',\n",
       "  'terror',\n",
       "  'to',\n",
       "  'so',\n",
       "  'many',\n",
       "  'hearts',\n",
       "  ',',\n",
       "  'been',\n",
       "  'at',\n",
       "  'last',\n",
       "  'ex-',\n",
       "  'plained',\n",
       "  'by',\n",
       "  'circumstances',\n",
       "  'in',\n",
       "  'which',\n",
       "  'no',\n",
       "  'one',\n",
       "  'can',\n",
       "  'fail',\n",
       "  'to',\n",
       "  'perceive',\n",
       "  'a',\n",
       "  'Providential',\n",
       "  'agency',\n",
       "  '.',\n",
       "  'Besides',\n",
       "  'the',\n",
       "  'guilty',\n",
       "  'murderer',\n",
       "  ',',\n",
       "  'the',\n",
       "  'secret',\n",
       "  'rested',\n",
       "  'with',\n",
       "  'two',\n",
       "  'persons',\n",
       "  '.',\n",
       "  'One',\n",
       "  'of',\n",
       "  'these',\n",
       "  ',',\n",
       "  'through',\n",
       "  'the',\n",
       "  'involuntary',\n",
       "  'agency',\n",
       "  'of',\n",
       "  'the',\n",
       "  'other',\n",
       "  ',',\n",
       "  'is',\n",
       "  'laid',\n",
       "  'upon',\n",
       "  'her',\n",
       "  'death',\n",
       "  'bed｡ｪand',\n",
       "  'then',\n",
       "  'Con-',\n",
       "  'science',\n",
       "  ',',\n",
       "  'no',\n",
       "  'longer',\n",
       "  'able',\n",
       "  'to',\n",
       "  'keep',\n",
       "  'silence',\n",
       "  ',',\n",
       "  'breathes',\n",
       "  'its',\n",
       "  'accusation',\n",
       "  'into',\n",
       "  'the',\n",
       "  'ear',\n",
       "  'of',\n",
       "  'Justice',\n",
       "  '.',\n",
       "  'We',\n",
       "  'rejoice',\n",
       "  'most',\n",
       "  'deeply',\n",
       "  'at',\n",
       "  'this',\n",
       "  'revelation',\n",
       "  ',',\n",
       "  'and',\n",
       "  'that',\n",
       "  'the',\n",
       "  'scene',\n",
       "  'of',\n",
       "  'the',\n",
       "  'unhappy',\n",
       "  'victim',\n",
       "  \"'s\",\n",
       "  'death',\n",
       "  'is',\n",
       "  'relieved',\n",
       "  'of',\n",
       "  'some',\n",
       "  'of',\n",
       "  'the',\n",
       "  'horrors',\n",
       "  'with',\n",
       "  'which',\n",
       "  'conjecture',\n",
       "  ',',\n",
       "  'apparently',\n",
       "  'well-founded',\n",
       "  ',',\n",
       "  'had',\n",
       "  'surrounded',\n",
       "  'it',\n",
       "  '.',\n",
       "  'If',\n",
       "  'we',\n",
       "  'recollect',\n",
       "  'aright',\n",
       "  'some',\n",
       "  'physicians',\n",
       "  'of',\n",
       "  'this',\n",
       "  'city',\n",
       "  'testified',\n",
       "  'with',\n",
       "  'great',\n",
       "  'professional',\n",
       "  'confidence',\n",
       "  'as',\n",
       "  'to',\n",
       "  'the',\n",
       "  'manner',\n",
       "  'of',\n",
       "  'her',\n",
       "  'death｡ｪdescribing',\n",
       "  'very',\n",
       "  'minutely',\n",
       "  'the',\n",
       "  'kind',\n",
       "  'and',\n",
       "  'de-',\n",
       "  'gree',\n",
       "  'of',\n",
       "  'personal',\n",
       "  'violence',\n",
       "  'to',\n",
       "  'which',\n",
       "  'she',\n",
       "  'had',\n",
       "  'been',\n",
       "  'subjected',\n",
       "  '.',\n",
       "  'There',\n",
       "  'statements',\n",
       "  'are',\n",
       "  'now',\n",
       "  'shown',\n",
       "  'to',\n",
       "  'be',\n",
       "  'baseless',\n",
       "  '.',\n",
       "  'Should',\n",
       "  'not',\n",
       "  'this',\n",
       "  'tend',\n",
       "  'to',\n",
       "  'diminish',\n",
       "  'somewhat',\n",
       "  'the',\n",
       "  'implicit',\n",
       "  'reliance',\n",
       "  'often',\n",
       "  'placed',\n",
       "  'upon',\n",
       "  'the',\n",
       "  'testimony',\n",
       "  'of',\n",
       "  'physicians',\n",
       "  'in',\n",
       "  'similar',\n",
       "  'cases',\n",
       "  '?'])"
      ]
     },
     "execution_count": 14,
     "metadata": {},
     "output_type": "execute_result"
    }
   ],
   "source": [
    "#ythonでは、文(text)はリスト配列で保存\n",
    "len(read_book_list[0]), read_book_list[0]"
   ]
  },
  {
   "cell_type": "code",
   "execution_count": null,
   "metadata": {},
   "outputs": [],
   "source": []
  },
  {
   "cell_type": "code",
   "execution_count": 15,
   "metadata": {},
   "outputs": [
    {
     "name": "stdout",
     "output_type": "stream",
     "text": [
      "Displaying 25 of 32 matches:\n",
      "re than a year has hung over the fate of Mary Rogers , whose body was found , \n",
      "ced every one that she was the victim of hellish lust and then of murder , is \n",
      "s the victim of hellish lust and then of murder , is at last explained｡ｪto the\n",
      "d｡ｪto the satisfaction , we doubt not of all . It may be recollected that asso\n",
      "llected that associated with the tale of her disappearance was the name of Mrs\n",
      "ale of her disappearance was the name of Mrs. Loss , the woman who kept the re\n",
      "e refreshment house nearest the scene of her death . About a fortnight since｡ｪ\n",
      " wounded by the premature dis- charge of a gun in the hands of her son ; the w\n",
      "ure dis- charge of a gun in the hands of her son ; the wound proved fatal ; bu\n",
      "died she sent for Jus- tice Merritt , of New-Jersey , and told him the fol- lo\n",
      "the fol- lowing facts . On the Sunday of Miss Rogers 's dis- appearance she ca\n",
      "mature delivery.｡ｪ While in the hands of the physician she died and a consulta\n",
      "tion was then held as to the disposal of her body . It was finally taken at ni\n",
      "was finally taken at night by the son of Mrs. Loss and sunk in the river where\n",
      "n- dle and sunk in a pond on the land of Mr. James G. King in that neighborhoo\n",
      "e woods as they were found . The name of the phy- sician is unknown to us , no\n",
      " guilty wretch will be made . The son of Mrs. Loss , as an accessary after the\n",
      "t , we apprehend , can be entertained of the truth of this confession . It exp\n",
      "end , can be entertained of the truth of this confession . It explains many th\n",
      "d in mys- tery｡ｪespecially the apathy of the mother of Miss Rogers upon the di\n",
      "｡ｪespecially the apathy of the mother of Miss Rogers upon the discovery of her\n",
      "her of Miss Rogers upon the discovery of her body . It will be remembered that\n",
      " secret rested with two persons . One of these , through the involuntary agenc\n",
      "hese , through the involuntary agency of the other , is laid upon her death be\n",
      " breathes its accusation into the ear of Justice . We rejoice most deeply at t\n"
     ]
    }
   ],
   "source": [
    "emma = nltk.Text(read_book_list[0])\n",
    "emma.concordance(\"of\")"
   ]
  },
  {
   "cell_type": "code",
   "execution_count": null,
   "metadata": {},
   "outputs": [],
   "source": []
  },
  {
   "cell_type": "code",
   "execution_count": 16,
   "metadata": {},
   "outputs": [
    {
     "name": "stdout",
     "output_type": "stream",
     "text": [
      "No 0 sample is been testing:\n",
      "Displaying 11 of 11 matches:\n",
      ", as our readers will well remember , in the North River , under circum- stanc\n",
      "by the premature dis- charge of a gun in the hands of her son ; the wound prov\n",
      " she came to her house from this city in company with a young physician , who \n",
      "for her a premature delivery.｡ｪ While in the hands of the physician she died a\n",
      "ight by the son of Mrs. Loss and sunk in the river where it was found . Her cl\n",
      "ound . Her clothes were first tied up in a bun- dle and sunk in a pond on the \n",
      " first tied up in a bun- dle and sunk in a pond on the land of Mr. James G. Ki\n",
      "pond on the land of Mr. James G. King in that neighborhood ; but it was after-\n",
      " the affair which before were wrapped in mys- tery｡ｪespecially the apathy of t\n",
      " at last ex- plained by circumstances in which no one can fail to perceive a P\n",
      "aced upon the testimony of physicians in similar cases ?\n"
     ]
    }
   ],
   "source": [
    "#text1.concordance()の操作を行う\n",
    "for i in range(len(read_book_list)):\n",
    "    print(\"No\",i, \"sample is been testing:\")\n",
    "    nltk.Text(read_book_list[i]).concordance(\"in\")"
   ]
  },
  {
   "cell_type": "code",
   "execution_count": 17,
   "metadata": {},
   "outputs": [],
   "source": [
    "#分析したいprepを定義、もしくは抽出"
   ]
  },
  {
   "cell_type": "code",
   "execution_count": 18,
   "metadata": {},
   "outputs": [
    {
     "data": {
      "text/plain": [
       "['and', 'the', 'that', 'of', 'was', 'upon', 'not', 'when', 'then']"
      ]
     },
     "execution_count": 18,
     "metadata": {},
     "output_type": "execute_result"
    }
   ],
   "source": [
    "prep_list = ['and', 'the', 'that', 'of', 'was', 'upon', 'not', 'when', 'then']\n",
    "prep_list "
   ]
  },
  {
   "cell_type": "code",
   "execution_count": 19,
   "metadata": {},
   "outputs": [
    {
     "data": {
      "text/plain": [
       "array(['and', 'the', 'that', 'of', 'was', 'upon', 'not', 'when', 'then'],\n",
       "      dtype='<U4')"
      ]
     },
     "execution_count": 19,
     "metadata": {},
     "output_type": "execute_result"
    }
   ],
   "source": [
    "prep_array = np.array(prep_list)\n",
    "prep_array"
   ]
  },
  {
   "cell_type": "code",
   "execution_count": null,
   "metadata": {},
   "outputs": [],
   "source": []
  },
  {
   "cell_type": "code",
   "execution_count": null,
   "metadata": {},
   "outputs": [],
   "source": []
  },
  {
   "cell_type": "markdown",
   "metadata": {},
   "source": [
    "# prepが出現する文章を表示\n",
    " text1.concordance()の操作を行う"
   ]
  },
  {
   "cell_type": "code",
   "execution_count": 20,
   "metadata": {},
   "outputs": [
    {
     "name": "stdout",
     "output_type": "stream",
     "text": [
      "No 0 book_sample and No. 0 prep and is been testing:\n",
      "Displaying 12 of 12 matches:\n",
      "at she was the victim of hellish lust and then of murder , is at last explained\n",
      "r Jus- tice Merritt , of New-Jersey , and told him the fol- lowing facts . On t\n",
      "n the hands of the physician she died and a consultation was then held as to th\n",
      "aken at night by the son of Mrs. Loss and sunk in the river where it was found \n",
      "thes were first tied up in a bun- dle and sunk in a pond on the land of Mr. Jam\n",
      "rd thought they were not safe there , and they were accordingly taken and scatt\n",
      "ere , and they were accordingly taken and scattered through the woods as they w\n",
      "ted with these facts by Mr. Merritt , and we doubt not an immediate inquiry aft\n",
      " she did not even go to iden- tify it and made no enquiries concerning the affa\n",
      "arful mystery , which has struck fear and terror to so many hearts , been at la\n",
      "oice most deeply at this revelation , and that the scene of the unhappy victim \n",
      "th｡ｪdescribing very minutely the kind and de- gree of personal violence to whic\n",
      "No 0 book_sample and No. 1 prep the is been testing:\n",
      "Displaying 25 of 47 matches:\n",
      " The Mary Rogers Mystery Explained . The t\n",
      "The Mary Rogers Mystery Explained . The terrible mystery which for more than \n",
      "ch for more than a year has hung over the fate of Mary Rogers , whose body was \n",
      "s our readers will well remember , in the North River , under circum- stances s\n",
      "h as convinced every one that she was the victim of hellish lust and then of mu\n",
      " of murder , is at last explained｡ｪto the satisfaction , we doubt not of all . \n",
      "y be recollected that associated with the tale of her disappearance was the nam\n",
      "ith the tale of her disappearance was the name of Mrs. Loss , the woman who kep\n",
      "ppearance was the name of Mrs. Loss , the woman who kept the refreshment house \n",
      "ame of Mrs. Loss , the woman who kept the refreshment house nearest the scene o\n",
      "ho kept the refreshment house nearest the scene of her death . About a fortnigh\n",
      "his woman was accidentally wounded by the premature dis- charge of a gun in the\n",
      "the premature dis- charge of a gun in the hands of her son ; the wound proved f\n",
      "ge of a gun in the hands of her son ; the wound proved fatal ; but before she d\n",
      "erritt , of New-Jersey , and told him the fol- lowing facts . On the Sunday of \n",
      "d told him the fol- lowing facts . On the Sunday of Miss Rogers 's dis- appeara\n",
      " her a premature delivery.｡ｪ While in the hands of the physician she died and a\n",
      "ure delivery.｡ｪ While in the hands of the physician she died and a consultation\n",
      "nd a consultation was then held as to the disposal of her body . It was finally\n",
      "dy . It was finally taken at night by the son of Mrs. Loss and sunk in the rive\n",
      "t by the son of Mrs. Loss and sunk in the river where it was found . Her clothe\n",
      "p in a bun- dle and sunk in a pond on the land of Mr. James G. King in that nei\n",
      "cordingly taken and scattered through the woods as they were found . The name o\n",
      "hrough the woods as they were found . The name of the phy- sician is unknown to\n",
      "oods as they were found . The name of the phy- sician is unknown to us , nor do\n",
      "No 0 book_sample and No. 2 prep that is been testing:\n",
      "Displaying 5 of 5 matches:\n",
      " stances such as convinced every one that she was the victim of hellish lust a\n",
      "t not of all . It may be recollected that associated with the tale of her disa\n",
      " on the land of Mr. James G. King in that neighborhood ; but it was after- war\n",
      " of her body . It will be remembered that she did not even go to iden- tify it\n",
      "most deeply at this revelation , and that the scene of the unhappy victim 's d\n",
      "No 0 book_sample and No. 3 prep of is been testing:\n",
      "Displaying 25 of 32 matches:\n",
      "re than a year has hung over the fate of Mary Rogers , whose body was found , \n",
      "ced every one that she was the victim of hellish lust and then of murder , is \n",
      "s the victim of hellish lust and then of murder , is at last explained｡ｪto the\n",
      "d｡ｪto the satisfaction , we doubt not of all . It may be recollected that asso\n",
      "llected that associated with the tale of her disappearance was the name of Mrs\n",
      "ale of her disappearance was the name of Mrs. Loss , the woman who kept the re\n",
      "e refreshment house nearest the scene of her death . About a fortnight since｡ｪ\n",
      " wounded by the premature dis- charge of a gun in the hands of her son ; the w\n",
      "ure dis- charge of a gun in the hands of her son ; the wound proved fatal ; bu\n",
      "died she sent for Jus- tice Merritt , of New-Jersey , and told him the fol- lo\n",
      "the fol- lowing facts . On the Sunday of Miss Rogers 's dis- appearance she ca\n",
      "mature delivery.｡ｪ While in the hands of the physician she died and a consulta\n",
      "tion was then held as to the disposal of her body . It was finally taken at ni\n",
      "was finally taken at night by the son of Mrs. Loss and sunk in the river where\n",
      "n- dle and sunk in a pond on the land of Mr. James G. King in that neighborhoo\n",
      "e woods as they were found . The name of the phy- sician is unknown to us , no\n",
      " guilty wretch will be made . The son of Mrs. Loss , as an accessary after the\n",
      "t , we apprehend , can be entertained of the truth of this confession . It exp\n",
      "end , can be entertained of the truth of this confession . It explains many th\n",
      "d in mys- tery｡ｪespecially the apathy of the mother of Miss Rogers upon the di\n",
      "｡ｪespecially the apathy of the mother of Miss Rogers upon the discovery of her\n",
      "her of Miss Rogers upon the discovery of her body . It will be remembered that\n",
      " secret rested with two persons . One of these , through the involuntary agenc\n",
      "hese , through the involuntary agency of the other , is laid upon her death be\n",
      " breathes its accusation into the ear of Justice . We rejoice most deeply at t\n",
      "No 0 book_sample and No. 4 prep was is been testing:\n",
      "Displaying 9 of 9 matches:\n",
      " the fate of Mary Rogers , whose body was found , as our readers will well reme\n",
      " such as convinced every one that she was the victim of hellish lust and then o\n",
      "ed with the tale of her disappearance was the name of Mrs. Loss , the woman who\n",
      "as we have already stated｡ｪthis woman was accidentally wounded by the premature\n",
      "physician she died and a consultation was then held as to the disposal of her b\n",
      "d as to the disposal of her body . It was finally taken at night by the son of \n",
      ". Loss and sunk in the river where it was found . Her clothes were first tied u\n",
      "G. King in that neighborhood ; but it was after- ward thought they were not saf\n",
      "own to us , nor do we know whether it was divulged or not . The Mayor has been \n",
      "No 0 book_sample and No. 5 prep upon is been testing:\n",
      "Displaying 3 of 3 matches:\n",
      " apathy of the mother of Miss Rogers upon the discovery of her body . It will \n",
      "untary agency of the other , is laid upon her death bed｡ｪand then Con- science\n",
      "t the implicit reliance often placed upon the testimony of physicians in simil\n",
      "No 0 book_sample and No. 6 prep not is been testing:\n",
      "Displaying 7 of 7 matches:\n",
      "ained｡ｪto the satisfaction , we doubt not of all . It may be recollected that a\n",
      " it was after- ward thought they were not safe there , and they were accordingl\n",
      "do we know whether it was divulged or not . The Mayor has been made acquainted \n",
      "e facts by Mr. Merritt , and we doubt not an immediate inquiry after the guilty\n",
      " fact , we suppose will be｡ｪif he has not already been｡ｪarrested . No doubt , w\n",
      " . It will be remembered that she did not even go to iden- tify it and made no \n",
      "are now shown to be baseless . Should not this tend to diminish somewhat the im\n",
      "No 0 book_sample and No. 7 prep when is been testing:\n",
      "no matches\n",
      "No 0 book_sample and No. 8 prep then is been testing:\n",
      "Displaying 3 of 3 matches:\n",
      "e was the victim of hellish lust and then of murder , is at last explained｡ｪto\n",
      "cian she died and a consultation was then held as to the disposal of her body \n",
      "er , is laid upon her death bed｡ｪand then Con- science , no longer able to kee\n",
      "testing preposition completed\n"
     ]
    }
   ],
   "source": [
    "#text1.concordance()の操作を行う\n",
    "for i in range(len(read_book_list)):\n",
    "    for j in range(len(prep_array)):\n",
    "        print(\"No\",i, \"book_sample\", \"and No.\", j, \"prep\", prep_list[j],\"is been testing:\")\n",
    "        nltk.Text(read_book_list[i]).concordance(prep_list[j])\n",
    "print(\"testing preposition completed\")"
   ]
  },
  {
   "cell_type": "code",
   "execution_count": null,
   "metadata": {},
   "outputs": [],
   "source": []
  },
  {
   "cell_type": "code",
   "execution_count": null,
   "metadata": {},
   "outputs": [],
   "source": []
  },
  {
   "cell_type": "markdown",
   "metadata": {},
   "source": [
    "# すべての単語を数えて頻度ヒストグラムを生成"
   ]
  },
  {
   "cell_type": "code",
   "execution_count": 21,
   "metadata": {},
   "outputs": [
    {
     "name": "stdout",
     "output_type": "stream",
     "text": [
      "<FreqDist with 305 samples and 626 outcomes>\n",
      "[('the', 42), ('of', 32), (',', 27), ('.', 19), ('and', 12), ('to', 12), ('in', 11), ('a', 9), ('was', 9), ('her', 9), ('she', 7), ('we', 7), ('not', 7), ('with', 7), ('which', 6), ('as', 6), ('this', 6), ('The', 5), ('has', 5), ('that', 5), ('be', 5), ('it', 5), ('were', 5), ('Rogers', 4), ('will', 4), ('is', 4), ('at', 4), ('It', 4), ('by', 4), ('for', 3), ('body', 3), ('found', 3), ('then', 3), ('doubt', 3), ('Mrs.', 3), ('Loss', 3), ('death', 3), ('son', 3), (';', 3), ('they', 3), ('been', 3), ('made', 3), ('upon', 3), ('no', 3), ('Mary', 2), ('mystery', 2), ('one', 2), ('victim', 2), ('last', 2), ('name', 2), ('woman', 2), ('who', 2), ('house', 2), ('scene', 2), ('already', 2), ('premature', 2), ('dis-', 2), ('hands', 2), ('but', 2), ('before', 2), ('died', 2), ('Merritt', 2), ('facts', 2), ('Miss', 2), (\"'s\", 2), ('city', 2), ('physician', 2), ('taken', 2), ('sunk', 2), ('Mr.', 2), ('through', 2), ('these', 2), ('an', 2), ('after', 2), ('guilty', 2), ('can', 2), ('many', 2), ('affair', 2), ('agency', 2), ('some', 2), ('had', 2), ('physicians', 2), ('Mystery', 1), ('Explained', 1), ('terrible', 1), ('more', 1), ('than', 1), ('year', 1), ('hung', 1), ('over', 1), ('fate', 1), ('whose', 1), ('our', 1), ('readers', 1), ('well', 1), ('remember', 1), ('North', 1), ('River', 1), ('under', 1), ('circum-', 1)]\n"
     ]
    },
    {
     "data": {
      "text/plain": [
       "FreqDist({'the': 42, 'of': 32, ',': 27, '.': 19, 'and': 12, 'to': 12, 'in': 11, 'a': 9, 'was': 9, 'her': 9, ...})"
      ]
     },
     "execution_count": 21,
     "metadata": {},
     "output_type": "execute_result"
    }
   ],
   "source": [
    "#文章中における単語の頻出度数などの統計を計算する方法について\n",
    "text = read_book_list[0]\n",
    "#単語の頻出分布 （frequency distribution）\n",
    "fdist2 = nltk.FreqDist(text)\n",
    "print(fdist2)\n",
    "print(fdist2.most_common(100))\n",
    "#辞書\n",
    "fdist2"
   ]
  },
  {
   "cell_type": "code",
   "execution_count": 22,
   "metadata": {},
   "outputs": [
    {
     "data": {
      "image/png": "[encoded data removed]",
      "text/plain": [
       "<Figure size 720x432 with 1 Axes>"
      ]
     },
     "metadata": {
      "needs_background": "light"
     },
     "output_type": "display_data"
    }
   ],
   "source": [
    "#fdist2.plot(30, title=\"Top30\")\n",
    "\n",
    "# figure は 1 つ\n",
    "\n",
    "fig = plt.figure(figsize = (10,6))\n",
    "\n",
    "fdist2.plot(30, title=\"Top30\")\n",
    "#plt.plot(x, y3, label='variance')\n",
    "#plt.legend(loc='upper left',title='Functions')\n",
    "#plt.title('mean_std_var',loc='left')\n",
    "\n",
    "filename = new_dir_path_png + \"/_top30_test.png\"\n",
    "fig.savefig(filename)\n",
    "\n"
   ]
  },
  {
   "cell_type": "code",
   "execution_count": null,
   "metadata": {},
   "outputs": [],
   "source": []
  },
  {
   "cell_type": "markdown",
   "metadata": {},
   "source": [
    "# 大文字小文字を区別しない"
   ]
  },
  {
   "cell_type": "code",
   "execution_count": 23,
   "metadata": {},
   "outputs": [
    {
     "name": "stdout",
     "output_type": "stream",
     "text": [
      "No. 0 \n",
      " <FreqDist with 295 samples and 626 outcomes>\n",
      "\n",
      " [('the', 47), ('of', 32), (',', 27), ('.', 19), ('and', 12), ('to', 12), ('in', 11), ('her', 10), ('a', 9), ('was', 9), ('it', 9), ('we', 8), ('she', 7), ('not', 7), ('with', 7), ('which', 6), ('as', 6), ('this', 6), ('has', 5), ('that', 5), ('be', 5), ('were', 5), ('rogers', 4), ('will', 4), ('is', 4), ('at', 4), ('by', 4), ('no', 4), ('mystery', 3), ('for', 3), ('body', 3), ('found', 3), ('one', 3), ('then', 3), ('doubt', 3), ('mrs.', 3), ('loss', 3), ('death', 3), ('son', 3), (';', 3), ('they', 3), ('been', 3), ('made', 3), ('upon', 3), ('mary', 2), ('river', 2), ('victim', 2), ('last', 2), ('name', 2), ('woman', 2), ('who', 2), ('house', 2), ('scene', 2), ('already', 2), ('premature', 2), ('dis-', 2), ('hands', 2), ('but', 2), ('before', 2), ('died', 2), ('merritt', 2), ('facts', 2), ('on', 2), ('miss', 2), (\"'s\", 2), ('city', 2), ('physician', 2), ('taken', 2), ('sunk', 2), ('mr.', 2), ('there', 2), ('through', 2), ('these', 2), ('an', 2), ('after', 2), ('guilty', 2), ('can', 2), ('many', 2), ('affair', 2), ('agency', 2), ('some', 2), ('had', 2), ('physicians', 2), ('explained', 1), ('terrible', 1), ('more', 1), ('than', 1), ('year', 1), ('hung', 1), ('over', 1), ('fate', 1), ('whose', 1), ('our', 1), ('readers', 1), ('well', 1), ('remember', 1), ('north', 1), ('under', 1), ('circum-', 1), ('stances', 1)]\n"
     ]
    }
   ],
   "source": [
    "#文章中における単語の頻出度数などの統計を計算する方法について\n",
    "fdist_list = []\n",
    "for i in range(len(read_book_list)):\n",
    "    text_ = read_book_list[i]\n",
    "    #大文字小文字を区別しない\n",
    "    text = [w.lower() for w in text_] \n",
    "    #単語の頻出分布 （frequency distribution）\n",
    "    fdist = nltk.FreqDist(text)\n",
    "    fdist_list.append(fdist)\n",
    "    print(\"No.\",i, \"\\n\", fdist_list[i])\n",
    "    print(\"\\n\", fdist_list[i].most_common(100))\n"
   ]
  },
  {
   "cell_type": "code",
   "execution_count": 24,
   "metadata": {
    "scrolled": true
   },
   "outputs": [
    {
     "name": "stdout",
     "output_type": "stream",
     "text": [
      "<FreqDist with 295 samples and 626 outcomes>\n"
     ]
    },
    {
     "data": {
      "image/png": "[encoded data removed]",
      "text/plain": [
       "<Figure size 720x432 with 1 Axes>"
      ]
     },
     "metadata": {
      "needs_background": "light"
     },
     "output_type": "display_data"
    }
   ],
   "source": [
    "my_makedirs(new_dir_path_png_top)\n",
    "\n",
    "\n",
    "num_counted = 30\n",
    "for i in range(len(read_book_list)):\n",
    "    print(fdist_list[i])\n",
    "    \n",
    "    title_ =  str(test[choice[index_i]])+str('_')+\"_No.\" + str(i) +str('_sample_')+ \"_Top_\" + str(num_counted)\n",
    "        \n",
    "    fig = plt.figure(figsize = (10,6))\n",
    "    fdist_list[i].plot(num_counted, \n",
    "                       title = title_)\n",
    "    \n",
    "    filename = new_dir_path_png_top + \"/\" + title_ +\".png\"\n",
    "    fig.savefig(filename)\n",
    "\n"
   ]
  },
  {
   "cell_type": "code",
   "execution_count": null,
   "metadata": {},
   "outputs": [],
   "source": []
  },
  {
   "cell_type": "markdown",
   "metadata": {},
   "source": [
    "# 各作品の文字列　fdist_list[i]　を一つのデータフレームに合併"
   ]
  },
  {
   "cell_type": "code",
   "execution_count": 25,
   "metadata": {},
   "outputs": [
    {
     "data": {
      "text/plain": [
       "FreqDist({'the': 47, 'of': 32, ',': 27, '.': 19, 'and': 12, 'to': 12, 'in': 11, 'her': 10, 'a': 9, 'was': 9, ...})"
      ]
     },
     "execution_count": 25,
     "metadata": {},
     "output_type": "execute_result"
    }
   ],
   "source": [
    "fdist_list[0]"
   ]
  },
  {
   "cell_type": "code",
   "execution_count": 26,
   "metadata": {},
   "outputs": [
    {
     "data": {
      "text/html": [
       "<div>\n",
       "<style scoped>\n",
       "    .dataframe tbody tr th:only-of-type {\n",
       "        vertical-align: middle;\n",
       "    }\n",
       "\n",
       "    .dataframe tbody tr th {\n",
       "        vertical-align: top;\n",
       "    }\n",
       "\n",
       "    .dataframe thead th {\n",
       "        text-align: right;\n",
       "    }\n",
       "</style>\n",
       "<table border=\"1\" class=\"dataframe\">\n",
       "  <thead>\n",
       "    <tr style=\"text-align: right;\">\n",
       "      <th></th>\n",
       "      <th>the</th>\n",
       "      <th>mary</th>\n",
       "      <th>rogers</th>\n",
       "      <th>mystery</th>\n",
       "      <th>explained</th>\n",
       "      <th>.</th>\n",
       "      <th>terrible</th>\n",
       "      <th>which</th>\n",
       "      <th>for</th>\n",
       "      <th>more</th>\n",
       "      <th>...</th>\n",
       "      <th>diminish</th>\n",
       "      <th>somewhat</th>\n",
       "      <th>implicit</th>\n",
       "      <th>reliance</th>\n",
       "      <th>often</th>\n",
       "      <th>placed</th>\n",
       "      <th>testimony</th>\n",
       "      <th>similar</th>\n",
       "      <th>cases</th>\n",
       "      <th>?</th>\n",
       "    </tr>\n",
       "  </thead>\n",
       "  <tbody>\n",
       "    <tr>\n",
       "      <th>column1</th>\n",
       "      <td>47</td>\n",
       "      <td>2</td>\n",
       "      <td>4</td>\n",
       "      <td>3</td>\n",
       "      <td>1</td>\n",
       "      <td>19</td>\n",
       "      <td>1</td>\n",
       "      <td>6</td>\n",
       "      <td>3</td>\n",
       "      <td>1</td>\n",
       "      <td>...</td>\n",
       "      <td>1</td>\n",
       "      <td>1</td>\n",
       "      <td>1</td>\n",
       "      <td>1</td>\n",
       "      <td>1</td>\n",
       "      <td>1</td>\n",
       "      <td>1</td>\n",
       "      <td>1</td>\n",
       "      <td>1</td>\n",
       "      <td>1</td>\n",
       "    </tr>\n",
       "  </tbody>\n",
       "</table>\n",
       "<p>1 rows × 295 columns</p>\n",
       "</div>"
      ],
      "text/plain": [
       "         the  mary  rogers  mystery  explained   .  terrible  which  for  \\\n",
       "column1   47     2       4        3          1  19         1      6    3   \n",
       "\n",
       "         more  ...  diminish  somewhat  implicit  reliance  often  placed  \\\n",
       "column1     1  ...         1         1         1         1      1       1   \n",
       "\n",
       "         testimony  similar  cases  ?  \n",
       "column1          1        1      1  1  \n",
       "\n",
       "[1 rows x 295 columns]"
      ]
     },
     "execution_count": 26,
     "metadata": {},
     "output_type": "execute_result"
    }
   ],
   "source": [
    "df_list = []\n",
    "\n",
    "for i in range(len(read_book_list)):\n",
    "    df_ = pd.DataFrame.from_dict(fdist_list[i], orient='index', columns=['column1'])\n",
    "    df_list.append(df_)\n",
    "    #print(df_list[i].T)\n",
    "df_list[0].T\n"
   ]
  },
  {
   "cell_type": "code",
   "execution_count": null,
   "metadata": {},
   "outputs": [],
   "source": []
  },
  {
   "cell_type": "code",
   "execution_count": 27,
   "metadata": {},
   "outputs": [
    {
     "data": {
      "text/plain": [
       "column1    32\n",
       "Name: of, dtype: int64"
      ]
     },
     "execution_count": 27,
     "metadata": {},
     "output_type": "execute_result"
    }
   ],
   "source": [
    "df_list[0].T[\"of\"]"
   ]
  },
  {
   "cell_type": "code",
   "execution_count": 28,
   "metadata": {},
   "outputs": [
    {
     "data": {
      "text/html": [
       "<div>\n",
       "<style scoped>\n",
       "    .dataframe tbody tr th:only-of-type {\n",
       "        vertical-align: middle;\n",
       "    }\n",
       "\n",
       "    .dataframe tbody tr th {\n",
       "        vertical-align: top;\n",
       "    }\n",
       "\n",
       "    .dataframe thead th {\n",
       "        text-align: right;\n",
       "    }\n",
       "</style>\n",
       "<table border=\"1\" class=\"dataframe\">\n",
       "  <thead>\n",
       "    <tr style=\"text-align: right;\">\n",
       "      <th></th>\n",
       "      <th>of</th>\n",
       "      <th>not</th>\n",
       "    </tr>\n",
       "  </thead>\n",
       "  <tbody>\n",
       "    <tr>\n",
       "      <th>column1</th>\n",
       "      <td>32</td>\n",
       "      <td>7</td>\n",
       "    </tr>\n",
       "  </tbody>\n",
       "</table>\n",
       "</div>"
      ],
      "text/plain": [
       "         of  not\n",
       "column1  32    7"
      ]
     },
     "execution_count": 28,
     "metadata": {},
     "output_type": "execute_result"
    }
   ],
   "source": [
    "df_list[0].T.loc[:,['of','not']]"
   ]
  },
  {
   "cell_type": "code",
   "execution_count": 29,
   "metadata": {},
   "outputs": [
    {
     "name": "stdout",
     "output_type": "stream",
     "text": [
      "['and', 'the', 'that', 'of', 'was', 'upon', 'not', 'when', 'then']\n",
      "and true\n",
      "the true\n",
      "that true\n",
      "of true\n",
      "was true\n",
      "upon true\n",
      "not true\n",
      "when False\n",
      "then true\n",
      "['and', 'the', 'that', 'of', 'was', 'upon', 'not', 'then']\n"
     ]
    }
   ],
   "source": [
    "df_list_T = []\n",
    "for j in range(len(read_book_list)):\n",
    "    \n",
    "    prep_list = ['and', 'the', 'that', 'of', 'was', 'upon', 'not', 'when', 'then']\n",
    "    print(prep_list)\n",
    "    \n",
    "    #check prep. if in the column\n",
    "    prep_list_checked = []\n",
    "    for ind, i in enumerate(prep_list):\n",
    "        #print(i)\n",
    "        if prep_list[ind] in df_list[j].T.columns:\n",
    "            print(i,'true')\n",
    "            prep_list_checked.append(i)\n",
    "        else:\n",
    "            print(i,'False')\n",
    "\n",
    "    print(prep_list_checked)\n",
    "    \n",
    "    \n",
    "    df_list_T.append(df_list[j].T.loc[:,prep_list_checked])"
   ]
  },
  {
   "cell_type": "code",
   "execution_count": null,
   "metadata": {},
   "outputs": [],
   "source": []
  },
  {
   "cell_type": "code",
   "execution_count": 30,
   "metadata": {},
   "outputs": [
    {
     "data": {
      "text/html": [
       "<div>\n",
       "<style scoped>\n",
       "    .dataframe tbody tr th:only-of-type {\n",
       "        vertical-align: middle;\n",
       "    }\n",
       "\n",
       "    .dataframe tbody tr th {\n",
       "        vertical-align: top;\n",
       "    }\n",
       "\n",
       "    .dataframe thead th {\n",
       "        text-align: right;\n",
       "    }\n",
       "</style>\n",
       "<table border=\"1\" class=\"dataframe\">\n",
       "  <thead>\n",
       "    <tr style=\"text-align: right;\">\n",
       "      <th></th>\n",
       "      <th>and</th>\n",
       "      <th>the</th>\n",
       "      <th>that</th>\n",
       "      <th>of</th>\n",
       "      <th>was</th>\n",
       "      <th>upon</th>\n",
       "      <th>not</th>\n",
       "      <th>then</th>\n",
       "    </tr>\n",
       "  </thead>\n",
       "  <tbody>\n",
       "    <tr>\n",
       "      <th>column1</th>\n",
       "      <td>12</td>\n",
       "      <td>47</td>\n",
       "      <td>5</td>\n",
       "      <td>32</td>\n",
       "      <td>9</td>\n",
       "      <td>3</td>\n",
       "      <td>7</td>\n",
       "      <td>3</td>\n",
       "    </tr>\n",
       "  </tbody>\n",
       "</table>\n",
       "</div>"
      ],
      "text/plain": [
       "         and  the  that  of  was  upon  not  then\n",
       "column1   12   47     5  32    9     3    7     3"
      ]
     },
     "execution_count": 30,
     "metadata": {},
     "output_type": "execute_result"
    }
   ],
   "source": [
    "df_list[0].T.loc[:,prep_list_checked]"
   ]
  },
  {
   "cell_type": "raw",
   "metadata": {},
   "source": [
    "df_list_T = []\n",
    "for i in range(len(read_book_list)):\n",
    "    df_list_T.append(df_list[i].T.loc[:,prep_list])"
   ]
  },
  {
   "cell_type": "code",
   "execution_count": 31,
   "metadata": {},
   "outputs": [
    {
     "data": {
      "text/html": [
       "<div>\n",
       "<style scoped>\n",
       "    .dataframe tbody tr th:only-of-type {\n",
       "        vertical-align: middle;\n",
       "    }\n",
       "\n",
       "    .dataframe tbody tr th {\n",
       "        vertical-align: top;\n",
       "    }\n",
       "\n",
       "    .dataframe thead th {\n",
       "        text-align: right;\n",
       "    }\n",
       "</style>\n",
       "<table border=\"1\" class=\"dataframe\">\n",
       "  <thead>\n",
       "    <tr style=\"text-align: right;\">\n",
       "      <th></th>\n",
       "      <th>and</th>\n",
       "      <th>the</th>\n",
       "      <th>that</th>\n",
       "      <th>of</th>\n",
       "      <th>was</th>\n",
       "      <th>upon</th>\n",
       "      <th>not</th>\n",
       "      <th>then</th>\n",
       "    </tr>\n",
       "  </thead>\n",
       "  <tbody>\n",
       "    <tr>\n",
       "      <th>column1</th>\n",
       "      <td>12</td>\n",
       "      <td>47</td>\n",
       "      <td>5</td>\n",
       "      <td>32</td>\n",
       "      <td>9</td>\n",
       "      <td>3</td>\n",
       "      <td>7</td>\n",
       "      <td>3</td>\n",
       "    </tr>\n",
       "  </tbody>\n",
       "</table>\n",
       "</div>"
      ],
      "text/plain": [
       "         and  the  that  of  was  upon  not  then\n",
       "column1   12   47     5  32    9     3    7     3"
      ]
     },
     "execution_count": 31,
     "metadata": {},
     "output_type": "execute_result"
    }
   ],
   "source": [
    "df_list_T[0]"
   ]
  },
  {
   "cell_type": "code",
   "execution_count": 32,
   "metadata": {},
   "outputs": [
    {
     "data": {
      "text/plain": [
       "column1    12\n",
       "Name: and, dtype: int64"
      ]
     },
     "execution_count": 32,
     "metadata": {},
     "output_type": "execute_result"
    }
   ],
   "source": [
    "df_list[0].T[prep_list[0]]"
   ]
  },
  {
   "cell_type": "raw",
   "metadata": {},
   "source": []
  },
  {
   "cell_type": "raw",
   "metadata": {},
   "source": [
    "pd.merge(df_list_T[0], df_list_T[1], how='outer')"
   ]
  },
  {
   "cell_type": "raw",
   "metadata": {},
   "source": [
    "pd.concat([df_list_T[0], df_list_T[1]])"
   ]
  },
  {
   "cell_type": "code",
   "execution_count": null,
   "metadata": {},
   "outputs": [],
   "source": []
  },
  {
   "cell_type": "code",
   "execution_count": 33,
   "metadata": {
    "scrolled": true
   },
   "outputs": [
    {
     "name": "stdout",
     "output_type": "stream",
     "text": [
      "0          and  the  that  of  was  upon  not  then\n",
      "column1   12   47     5  32    9     3    7     3\n"
     ]
    }
   ],
   "source": [
    "for i in range(len(read_book_list)):\n",
    "    print(i, df_list_T[i])"
   ]
  },
  {
   "cell_type": "code",
   "execution_count": 34,
   "metadata": {
    "scrolled": true
   },
   "outputs": [
    {
     "data": {
      "text/html": [
       "<div>\n",
       "<style scoped>\n",
       "    .dataframe tbody tr th:only-of-type {\n",
       "        vertical-align: middle;\n",
       "    }\n",
       "\n",
       "    .dataframe tbody tr th {\n",
       "        vertical-align: top;\n",
       "    }\n",
       "\n",
       "    .dataframe thead th {\n",
       "        text-align: right;\n",
       "    }\n",
       "</style>\n",
       "<table border=\"1\" class=\"dataframe\">\n",
       "  <thead>\n",
       "    <tr style=\"text-align: right;\">\n",
       "      <th></th>\n",
       "      <th>and</th>\n",
       "      <th>the</th>\n",
       "      <th>that</th>\n",
       "      <th>of</th>\n",
       "      <th>was</th>\n",
       "      <th>upon</th>\n",
       "      <th>not</th>\n",
       "      <th>then</th>\n",
       "    </tr>\n",
       "  </thead>\n",
       "  <tbody>\n",
       "    <tr>\n",
       "      <th>column1</th>\n",
       "      <td>12</td>\n",
       "      <td>47</td>\n",
       "      <td>5</td>\n",
       "      <td>32</td>\n",
       "      <td>9</td>\n",
       "      <td>3</td>\n",
       "      <td>7</td>\n",
       "      <td>3</td>\n",
       "    </tr>\n",
       "  </tbody>\n",
       "</table>\n",
       "</div>"
      ],
      "text/plain": [
       "         and  the  that  of  was  upon  not  then\n",
       "column1   12   47     5  32    9     3    7     3"
      ]
     },
     "execution_count": 34,
     "metadata": {},
     "output_type": "execute_result"
    }
   ],
   "source": [
    "df_merged = df_list_T[0]\n",
    "for i in range(1,len(read_book_list)):\n",
    "    #df_merged = pd.merge(df_merged, df_list_T[i], how='outer')\n",
    "    df_merged = pd.concat([df_merged, df_list_T[i]])\n",
    "    df_merged.reset_index(drop=True, inplace=True)\n",
    "df_merged    "
   ]
  },
  {
   "cell_type": "code",
   "execution_count": null,
   "metadata": {},
   "outputs": [],
   "source": []
  },
  {
   "cell_type": "code",
   "execution_count": 35,
   "metadata": {},
   "outputs": [
    {
     "data": {
      "text/plain": [
       "(1, 8)"
      ]
     },
     "execution_count": 35,
     "metadata": {},
     "output_type": "execute_result"
    }
   ],
   "source": [
    "df_merged.shape"
   ]
  },
  {
   "cell_type": "code",
   "execution_count": 36,
   "metadata": {},
   "outputs": [
    {
     "name": "stdout",
     "output_type": "stream",
     "text": [
      "[626]\n"
     ]
    }
   ],
   "source": [
    "total_list = []\n",
    "for i in range(len(read_book_list)):\n",
    "    total_list.append(len(read_book_list[i]))\n",
    "print(total_list)"
   ]
  },
  {
   "cell_type": "code",
   "execution_count": 37,
   "metadata": {},
   "outputs": [
    {
     "data": {
      "text/plain": [
       "1"
      ]
     },
     "execution_count": 37,
     "metadata": {},
     "output_type": "execute_result"
    }
   ],
   "source": [
    "len(total_list)"
   ]
  },
  {
   "cell_type": "code",
   "execution_count": 38,
   "metadata": {
    "scrolled": true
   },
   "outputs": [
    {
     "data": {
      "text/html": [
       "<div>\n",
       "<style scoped>\n",
       "    .dataframe tbody tr th:only-of-type {\n",
       "        vertical-align: middle;\n",
       "    }\n",
       "\n",
       "    .dataframe tbody tr th {\n",
       "        vertical-align: top;\n",
       "    }\n",
       "\n",
       "    .dataframe thead th {\n",
       "        text-align: right;\n",
       "    }\n",
       "</style>\n",
       "<table border=\"1\" class=\"dataframe\">\n",
       "  <thead>\n",
       "    <tr style=\"text-align: right;\">\n",
       "      <th></th>\n",
       "      <th>and</th>\n",
       "      <th>the</th>\n",
       "      <th>that</th>\n",
       "      <th>of</th>\n",
       "      <th>was</th>\n",
       "      <th>upon</th>\n",
       "      <th>not</th>\n",
       "      <th>then</th>\n",
       "      <th>total</th>\n",
       "    </tr>\n",
       "  </thead>\n",
       "  <tbody>\n",
       "    <tr>\n",
       "      <th>column1</th>\n",
       "      <td>12</td>\n",
       "      <td>47</td>\n",
       "      <td>5</td>\n",
       "      <td>32</td>\n",
       "      <td>9</td>\n",
       "      <td>3</td>\n",
       "      <td>7</td>\n",
       "      <td>3</td>\n",
       "      <td>626</td>\n",
       "    </tr>\n",
       "  </tbody>\n",
       "</table>\n",
       "</div>"
      ],
      "text/plain": [
       "         and  the  that  of  was  upon  not  then  total\n",
       "column1   12   47     5  32    9     3    7     3    626"
      ]
     },
     "execution_count": 38,
     "metadata": {},
     "output_type": "execute_result"
    }
   ],
   "source": [
    "#欠損値処理\n",
    "df_merged[\"total\"] = total_list\n",
    "df_merged = df_merged.fillna(0)\n",
    "df_merged"
   ]
  },
  {
   "cell_type": "code",
   "execution_count": null,
   "metadata": {},
   "outputs": [],
   "source": []
  },
  {
   "cell_type": "code",
   "execution_count": 39,
   "metadata": {},
   "outputs": [],
   "source": [
    "df_merged.to_csv('to_csv_out_test_original.csv')\n",
    "csv_name_ = str(test[choice[index_i]])+str('_')+str('to_csv_output_test_original.csv')\n",
    "df_merged.to_csv(new_dir_path_csv + str('/') + csv_name_ )\n"
   ]
  },
  {
   "cell_type": "code",
   "execution_count": null,
   "metadata": {},
   "outputs": [],
   "source": []
  },
  {
   "cell_type": "code",
   "execution_count": null,
   "metadata": {},
   "outputs": [],
   "source": []
  },
  {
   "cell_type": "code",
   "execution_count": 40,
   "metadata": {},
   "outputs": [
    {
     "data": {
      "text/plain": [
       "'and'"
      ]
     },
     "execution_count": 40,
     "metadata": {},
     "output_type": "execute_result"
    }
   ],
   "source": [
    "df_merged.columns[0]"
   ]
  },
  {
   "cell_type": "code",
   "execution_count": 41,
   "metadata": {},
   "outputs": [
    {
     "name": "stdout",
     "output_type": "stream",
     "text": [
      "Index(['and', 'the', 'that', 'of', 'was', 'upon', 'not', 'then', 'total'], dtype='object')\n",
      "0\n",
      "1\n",
      "2\n",
      "3\n",
      "4\n",
      "5\n",
      "6\n",
      "7\n",
      "8\n"
     ]
    }
   ],
   "source": [
    "#df_merged['then'] = df_merged['then'] / df_merged['total'] \n",
    "print(df_merged.columns)\n",
    "df_merged_per = df_merged.copy()\n",
    "for i in range(len(df_merged.columns)):\n",
    "    df_merged_per[df_merged_per.columns[i]] = df_merged_per[df_merged_per.columns[i]] / df_merged_per['total'] \n",
    "    print(i)"
   ]
  },
  {
   "cell_type": "code",
   "execution_count": 42,
   "metadata": {
    "scrolled": true
   },
   "outputs": [
    {
     "data": {
      "text/html": [
       "<div>\n",
       "<style scoped>\n",
       "    .dataframe tbody tr th:only-of-type {\n",
       "        vertical-align: middle;\n",
       "    }\n",
       "\n",
       "    .dataframe tbody tr th {\n",
       "        vertical-align: top;\n",
       "    }\n",
       "\n",
       "    .dataframe thead th {\n",
       "        text-align: right;\n",
       "    }\n",
       "</style>\n",
       "<table border=\"1\" class=\"dataframe\">\n",
       "  <thead>\n",
       "    <tr style=\"text-align: right;\">\n",
       "      <th></th>\n",
       "      <th>and</th>\n",
       "      <th>the</th>\n",
       "      <th>that</th>\n",
       "      <th>of</th>\n",
       "      <th>was</th>\n",
       "      <th>upon</th>\n",
       "      <th>not</th>\n",
       "      <th>then</th>\n",
       "      <th>total</th>\n",
       "    </tr>\n",
       "  </thead>\n",
       "  <tbody>\n",
       "    <tr>\n",
       "      <th>column1</th>\n",
       "      <td>0.019169</td>\n",
       "      <td>0.07508</td>\n",
       "      <td>0.007987</td>\n",
       "      <td>0.051118</td>\n",
       "      <td>0.014377</td>\n",
       "      <td>0.004792</td>\n",
       "      <td>0.011182</td>\n",
       "      <td>0.004792</td>\n",
       "      <td>1.0</td>\n",
       "    </tr>\n",
       "  </tbody>\n",
       "</table>\n",
       "</div>"
      ],
      "text/plain": [
       "              and      the      that        of       was      upon       not  \\\n",
       "column1  0.019169  0.07508  0.007987  0.051118  0.014377  0.004792  0.011182   \n",
       "\n",
       "             then  total  \n",
       "column1  0.004792    1.0  "
      ]
     },
     "execution_count": 42,
     "metadata": {},
     "output_type": "execute_result"
    }
   ],
   "source": [
    "df_merged_per"
   ]
  },
  {
   "cell_type": "code",
   "execution_count": 43,
   "metadata": {},
   "outputs": [],
   "source": [
    "my_makedirs(new_dir_path_csv)\n",
    "my_makedirs(new_dir_path_png)\n",
    "my_makedirs(new_dir_path_png_top)\n",
    "my_makedirs(new_dir_path_png_top_no_punc)\n",
    "my_makedirs(new_dir_path_png_top_no_punc_no_stopwords)\n",
    "\n",
    "df_merged_per.to_csv('to_csv_out_test_percentage.csv')\n",
    "\n",
    "#csv_name_ = str(author[choice[index_i]])+str('_')+str(type_[choice[index_j]]) +str('_')+str('to_csv_output_percentage.csv')\n",
    "#df_merged_per.to_csv(new_dir_path_csv + str('/') + csv_name_ )\n",
    "\n",
    "csv_name_ = str(test[choice[index_i]])+str('_')+str('to_csv_output_test_percentage.csv')\n",
    "df_merged_per.to_csv(new_dir_path_csv + str('/') + csv_name_ )"
   ]
  },
  {
   "cell_type": "code",
   "execution_count": 44,
   "metadata": {},
   "outputs": [
    {
     "ename": "NameError",
     "evalue": "name 'cc' is not defined",
     "output_type": "error",
     "traceback": [
      "\u001b[1;31m---------------------------------------------------------------------------\u001b[0m",
      "\u001b[1;31mNameError\u001b[0m                                 Traceback (most recent call last)",
      "\u001b[1;32m<ipython-input-44-2bd2965b6208>\u001b[0m in \u001b[0;36m<module>\u001b[1;34m\u001b[0m\n\u001b[1;32m----> 1\u001b[1;33m \u001b[0mcc\u001b[0m\u001b[1;33m\u001b[0m\u001b[1;33m\u001b[0m\u001b[0m\n\u001b[0m",
      "\u001b[1;31mNameError\u001b[0m: name 'cc' is not defined"
     ]
    }
   ],
   "source": [
    "\n",
    "cc"
   ]
  },
  {
   "cell_type": "code",
   "execution_count": null,
   "metadata": {},
   "outputs": [],
   "source": [
    "df_merged.describe()"
   ]
  },
  {
   "cell_type": "code",
   "execution_count": null,
   "metadata": {},
   "outputs": [],
   "source": []
  },
  {
   "cell_type": "code",
   "execution_count": null,
   "metadata": {},
   "outputs": [],
   "source": []
  },
  {
   "cell_type": "raw",
   "metadata": {},
   "source": [
    "total_series = pd.Series(total_list)\n",
    "total_series\n",
    "df_total = pd.DataFrame(total_series, columns = ['total'])\n",
    "df_total"
   ]
  },
  {
   "cell_type": "code",
   "execution_count": null,
   "metadata": {
    "scrolled": true
   },
   "outputs": [],
   "source": [
    "def zscore(x):\n",
    "    xmean = x.mean()\n",
    "    xstd  = np.std(x)\n",
    "\n",
    "    zscore = (x-xmean)/xstd\n",
    "    return zscore\n",
    "\n",
    "df_merged_std = zscore(df_merged)\n",
    "df_merged_std"
   ]
  },
  {
   "cell_type": "raw",
   "metadata": {},
   "source": [
    "df_merged_std.to_csv('to_csv_out_std.csv')\n",
    "\n",
    "csv_name_ = str(author[choice[index_i]])+str('_')+str(type_[choice[index_j]]) +str('_')+str('to_csv_output_std.csv')\n",
    "df_merged_std.to_csv(new_dir_path_csv + str('/') + csv_name_ )\n"
   ]
  },
  {
   "cell_type": "code",
   "execution_count": null,
   "metadata": {
    "scrolled": true
   },
   "outputs": [],
   "source": [
    "def min_max_normalization(x):\n",
    "    x_min = x.min()\n",
    "    x_max = x.max()\n",
    "    x_norm = (x - x_min) / ( x_max - x_min)\n",
    "    return x_norm\n",
    "\n",
    "df_merged_nor = min_max_normalization(df_merged)\n",
    "df_merged_nor"
   ]
  },
  {
   "cell_type": "raw",
   "metadata": {},
   "source": [
    "df_merged_nor.to_csv('to_csv_out_nor.csv')\n",
    "\n",
    "csv_name_ = str(author[choice[index_i]])+str('_')+str(type_[choice[index_j]]) +str('_')+str('to_csv_output_nor.csv')\n",
    "df_merged_nor.to_csv(new_dir_path_csv + str('/') + csv_name_ )"
   ]
  },
  {
   "cell_type": "code",
   "execution_count": null,
   "metadata": {},
   "outputs": [],
   "source": []
  },
  {
   "cell_type": "markdown",
   "metadata": {},
   "source": [
    "# df_mergedの各columnsにおける分散、標準偏差を求める"
   ]
  },
  {
   "cell_type": "code",
   "execution_count": null,
   "metadata": {},
   "outputs": [],
   "source": [
    "def calculate_mean(data):\n",
    "    s = sum(data)\n",
    "    N = len(data)\n",
    "    mean =s/N\n",
    "\n",
    "    return mean\n",
    "\n",
    "#平均からの偏差を求める\n",
    "def find_difference(data):\n",
    "    mean = calculate_mean(data)\n",
    "    diff = []\n",
    "\n",
    "    for num in data:\n",
    "        diff.append(num-mean)\n",
    "    return diff\n",
    "\n",
    "def calculate_variance(data):\n",
    "    diff = find_difference(data)\n",
    "    #差の２乗を求める\n",
    "    squared_diff = []\n",
    "    for d in diff:\n",
    "        squared_diff.append(d**2)\n",
    "\n",
    "    #分散を求める\n",
    "    sum_squared_diff = sum(squared_diff)\n",
    "    variance = sum_squared_diff/len(data)\n",
    "    return variance\n",
    "\n",
    "if __name__ == '__main__':\n",
    "    variance_list = []\n",
    "    mean_list = []\n",
    "    std_list = []\n",
    "    for i in range(len(prep_list)):\n",
    "        print(prep_list[i])\n",
    "        data = df_merged[prep_list[i]]\n",
    "        \n",
    "        variance = calculate_variance(data)\n",
    "        mean = calculate_mean(data)\n",
    "        std = variance**0.5\n",
    "        \n",
    "        \n",
    "        variance_list.append(variance)\n",
    "        print('分散の値は:{0}'.format(variance))\n",
    "\n",
    "        \n",
    "        std_list.append(std)\n",
    "        print('標準偏差は:{0}'.format(std))\n",
    "        \n",
    "        mean_list.append(mean)\n",
    "        print('平均値は:{0}'.format(mean))"
   ]
  },
  {
   "cell_type": "code",
   "execution_count": null,
   "metadata": {},
   "outputs": [],
   "source": [
    "len(prep_list), mean_list"
   ]
  },
  {
   "cell_type": "code",
   "execution_count": null,
   "metadata": {},
   "outputs": [],
   "source": [
    "df_merged.describe()"
   ]
  },
  {
   "cell_type": "code",
   "execution_count": null,
   "metadata": {},
   "outputs": [],
   "source": [
    "x = np.linspace(0, 9, 9)\n",
    "y1 = mean_list\n",
    "y2 = std_list\n",
    "y3 = variance_list\n",
    "\n",
    "# figure は 1 つ\n",
    "fig=plt.figure(figsize=(14,4),facecolor='w')\n",
    "\n",
    "plt.plot(x, y1, label='mean')\n",
    "plt.plot(x, y2, label='std')\n",
    "plt.plot(x, y3, label='variance')\n",
    "plt.legend(loc='upper left',title='Functions')\n",
    "plt.title('mean_std_var',loc='left')\n",
    "\n",
    "filename = new_dir_path_png + \"/mean_std_var.png\"\n",
    "plt.savefig(filename)"
   ]
  },
  {
   "cell_type": "code",
   "execution_count": null,
   "metadata": {},
   "outputs": [],
   "source": [
    "new_dir_path_png"
   ]
  },
  {
   "cell_type": "code",
   "execution_count": null,
   "metadata": {},
   "outputs": [],
   "source": []
  },
  {
   "cell_type": "code",
   "execution_count": null,
   "metadata": {},
   "outputs": [],
   "source": []
  },
  {
   "cell_type": "code",
   "execution_count": null,
   "metadata": {},
   "outputs": [],
   "source": []
  },
  {
   "cell_type": "code",
   "execution_count": null,
   "metadata": {},
   "outputs": [],
   "source": []
  },
  {
   "cell_type": "code",
   "execution_count": null,
   "metadata": {},
   "outputs": [],
   "source": [
    "x = np.linspace(0, 9, 9)\n",
    "y1 = mean_list\n",
    "y2 = std_list\n",
    "y3 = variance_list\n",
    "\n",
    "# figure は 1 つ\n",
    "fig=plt.figure(figsize=(14,4),facecolor='w')\n",
    "\n",
    "\n",
    "plt.plot(x, y3, label='variance')\n",
    "plt.legend(loc='upper left',title='Functions')\n",
    "plt.title('mean_std_var',loc='left')\n",
    "\n",
    "filename = new_dir_path_png + \"/_var.png\"\n",
    "plt.savefig(filename)\n"
   ]
  },
  {
   "cell_type": "raw",
   "metadata": {},
   "source": [
    "df_list = []\n",
    "df_prep_list = []\n",
    "\n",
    "for i in range(len(read_book_list)):\n",
    "    for j in range(len(prep_array)):\n",
    "        df_ = pd.DataFrame.from_dict(fdist_list[i], orient='index', columns=['column1'])\n",
    "        df_list.append(df_)\n",
    "        #df_prep = df_[df_.index == 'of']\n",
    "        df_prep = df_list[i][df_list[i].index == prep_list[j]]\n",
    "        df_prep_list.append(df_prep)\n",
    "\n",
    "df_prep_list"
   ]
  },
  {
   "cell_type": "code",
   "execution_count": null,
   "metadata": {},
   "outputs": [],
   "source": []
  },
  {
   "cell_type": "code",
   "execution_count": null,
   "metadata": {},
   "outputs": [],
   "source": []
  },
  {
   "cell_type": "code",
   "execution_count": null,
   "metadata": {},
   "outputs": [],
   "source": [
    "for j in range(len(prep_array)):\n",
    "    print(prep_list[j])\n",
    "    "
   ]
  },
  {
   "cell_type": "code",
   "execution_count": null,
   "metadata": {},
   "outputs": [],
   "source": [
    "prep_list "
   ]
  },
  {
   "cell_type": "code",
   "execution_count": null,
   "metadata": {},
   "outputs": [],
   "source": []
  },
  {
   "cell_type": "code",
   "execution_count": null,
   "metadata": {},
   "outputs": [],
   "source": []
  },
  {
   "cell_type": "markdown",
   "metadata": {},
   "source": [
    "# fdistから記号を取り除いて可視化\n",
    "大文字小文字を合併\n",
    "tokens_l = [w.lower() for w in tokens] "
   ]
  },
  {
   "cell_type": "raw",
   "metadata": {},
   "source": [
    "\n",
    "fd_list = []\n",
    "for i in range(len(read_book_list)):\n",
    "    tokens = read_book_list[i]  \n",
    "    tokens_l = [w.lower() for w in tokens] \n",
    "    #バイグラムを作る。\n",
    "    bigrams = nltk.bigrams(tokens_l)\n",
    "    #バイグラムの頻度分布を得る。\n",
    "    fd = nltk.FreqDist(bigrams)\n",
    "    fd_list.append(fd)\n",
    "    #print(i , \"\\n\", fd_list[i].items(),\"\\n\")\n",
    "    \n",
    "    ##頻度付きで共起の結果を得る。（上位10個）\n",
    "    print(i , \"\\n\", fd.most_common(10))"
   ]
  },
  {
   "cell_type": "code",
   "execution_count": null,
   "metadata": {},
   "outputs": [],
   "source": [
    "len(fdist), len(fdist_list[0])"
   ]
  },
  {
   "cell_type": "code",
   "execution_count": null,
   "metadata": {},
   "outputs": [],
   "source": [
    "(fdist) ,(fdist_list[0])"
   ]
  },
  {
   "cell_type": "code",
   "execution_count": null,
   "metadata": {
    "scrolled": true
   },
   "outputs": [],
   "source": [
    "fdist_list[0].items()"
   ]
  },
  {
   "cell_type": "code",
   "execution_count": null,
   "metadata": {},
   "outputs": [],
   "source": [
    "fdist_no_punc = nltk.FreqDist(dict((word, freq) for word, freq in fdist_list[0].items() if word.isalpha()))\n",
    "fdist_no_punc.plot(30, title='no_punc')"
   ]
  },
  {
   "cell_type": "code",
   "execution_count": null,
   "metadata": {},
   "outputs": [],
   "source": [
    "my_makedirs(new_dir_path_png_top)\n",
    "my_makedirs(new_dir_path_png_top_no_punc)\n",
    "\n",
    "num_counted = 30\n",
    "fdist_array = np.array(fdist_list)\n",
    "#for i in range(len(fdist_array)):\n",
    "for i in range(len(read_book_list)):\n",
    "    fig = plt.figure(figsize = (10,6))\n",
    "    title_ =  str(test[choice[index_i]])+ str('_')+\"_No.\" +str(i)+'_no_punc'+'_Top_'+str(num_counted)\n",
    "    fdist_no_punc = nltk.FreqDist(dict((word, freq) for word, freq in fdist_list[i].items() if word.isalpha()))\n",
    "    fdist_no_punc.plot(num_counted,  title = title_)\n",
    "    \n",
    "    filename = new_dir_path_png_top_no_punc + \"/\" + title_ +\".png\"\n",
    "    fig.savefig(filename)\n",
    "    "
   ]
  },
  {
   "cell_type": "code",
   "execution_count": null,
   "metadata": {},
   "outputs": [],
   "source": [
    "author_type"
   ]
  },
  {
   "cell_type": "code",
   "execution_count": null,
   "metadata": {},
   "outputs": [],
   "source": []
  },
  {
   "cell_type": "code",
   "execution_count": null,
   "metadata": {},
   "outputs": [],
   "source": []
  },
  {
   "cell_type": "code",
   "execution_count": null,
   "metadata": {},
   "outputs": [],
   "source": [
    "dict((word, freq) for word, freq in fdist_list[0].items() if word.isalpha())"
   ]
  },
  {
   "cell_type": "code",
   "execution_count": null,
   "metadata": {},
   "outputs": [],
   "source": [
    "for i in range(len(read_book_list)):\n",
    "    print(\"No.\",i,\"\\n\", fdist_list[i].items(), \"\\n\")\n",
    "    "
   ]
  },
  {
   "cell_type": "raw",
   "metadata": {},
   "source": [
    "for i in range(len(read_book_list)):\n",
    "    for word, freq in fdist_list[j].items():\n",
    "        print(word, freq)"
   ]
  },
  {
   "cell_type": "code",
   "execution_count": null,
   "metadata": {},
   "outputs": [],
   "source": [
    "dict_element_list = []\n",
    "for i in range(len(read_book_list)):\n",
    "    for word, freq in fdist_list[i].items():\n",
    "        #print(word, freq)\n",
    "        if word.isalpha():\n",
    "            dict_element = [word,freq]\n",
    "            dict_element_list.append( dict_element)\n",
    "            #print(dict_element_list)\n",
    "            #dict((word,freq))\n",
    "print(len(dict_element_list))"
   ]
  },
  {
   "cell_type": "code",
   "execution_count": null,
   "metadata": {},
   "outputs": [],
   "source": [
    "dict_element_list"
   ]
  },
  {
   "cell_type": "code",
   "execution_count": null,
   "metadata": {},
   "outputs": [],
   "source": [
    "dict(dict_element_list)"
   ]
  },
  {
   "cell_type": "code",
   "execution_count": null,
   "metadata": {},
   "outputs": [],
   "source": [
    "for i in range(len(read_book_list)):\n",
    "    print(dict((word, freq) for word, freq in fdist_list[i].items() if word.isalpha()))"
   ]
  },
  {
   "cell_type": "code",
   "execution_count": null,
   "metadata": {},
   "outputs": [],
   "source": [
    "fdist_no_punc = nltk.FreqDist(dict(dict_element_list))\n",
    "fdist_no_punc"
   ]
  },
  {
   "cell_type": "code",
   "execution_count": null,
   "metadata": {},
   "outputs": [],
   "source": [
    "num_counted = 30\n",
    "fdist_no_punc.plot(num_counted, title='no_punc'+'_Top_'+str(num_counted))"
   ]
  },
  {
   "cell_type": "code",
   "execution_count": null,
   "metadata": {},
   "outputs": [],
   "source": []
  },
  {
   "cell_type": "code",
   "execution_count": null,
   "metadata": {},
   "outputs": [],
   "source": []
  },
  {
   "cell_type": "code",
   "execution_count": null,
   "metadata": {},
   "outputs": [],
   "source": []
  },
  {
   "cell_type": "markdown",
   "metadata": {},
   "source": [
    "# fdistからstopwordを取り除いて可視化\n",
    "\n",
    "一般的に、全文検索を行うシステムでは、「at」「of」などの前置詞や、「a」「an」「the」などの冠詞、「I」「He」「She」などの代名詞のほか、さまざまな単語をストップワードとして扱う\n",
    "\n",
    "stopwordは、NTLKに用意されています\n"
   ]
  },
  {
   "cell_type": "code",
   "execution_count": null,
   "metadata": {},
   "outputs": [],
   "source": [
    "nltk.download('stopwords')\n",
    "stopwords = nltk.corpus.stopwords.words('english')\n",
    "stopwords"
   ]
  },
  {
   "cell_type": "code",
   "execution_count": null,
   "metadata": {},
   "outputs": [],
   "source": []
  },
  {
   "cell_type": "code",
   "execution_count": null,
   "metadata": {},
   "outputs": [],
   "source": [
    "my_makedirs(new_dir_path_png_top)\n",
    "my_makedirs(new_dir_path_png_top_no_punc)\n",
    "my_makedirs(new_dir_path_png_top_no_punc_no_stopwords)\n",
    "\n",
    "num_counted = 30\n",
    "fdist_array = np.array(fdist_list)\n",
    "#for i in range(len(fdist_array)):\n",
    "for i in range(len(read_book_list)):\n",
    "    fig = plt.figure(figsize = (10,6))\n",
    "    title_ =  str(test[choice[index_i]])+ str('_')+\"_No.\" +str(i)+'_no_punc_no_stopwords'+'_Top_'+str(num_counted)\n",
    "    \n",
    "    dict_no_punc_no_stopword = dict((word, freq) for word, freq in fdist_list[i].items() if word.lower() not in stopwords and word.isalpha() )\n",
    "    fdist_no_punc_no_stopword = nltk.FreqDist(dict_no_punc_no_stopword)\n",
    "    \n",
    "    fdist_no_punc_no_stopword.plot(num_counted,  title=\"No.\"+str(i)+'_no_punc_no_stopwords'+'_Top_'+str(num_counted))\n",
    "    filename = new_dir_path_png_top_no_punc_no_stopwords + \"/\" + title_ +\".png\"\n",
    "    fig.savefig(filename)"
   ]
  },
  {
   "cell_type": "code",
   "execution_count": null,
   "metadata": {},
   "outputs": [],
   "source": []
  },
  {
   "cell_type": "code",
   "execution_count": null,
   "metadata": {},
   "outputs": [],
   "source": [
    "#辞書に含まれるすべてのキーを取得する\n",
    "for i in range(len(read_book_list)):\n",
    "    dict_no_punc_no_stopword = dict((word, freq) for word, freq in fdist_list[i].items() if word.lower() not in stopwords and word.isalpha() )\n",
    "    vocabulary = dict_no_punc_no_stopword.keys()\n",
    "    print(i , \"\\n\",vocabulary)"
   ]
  },
  {
   "cell_type": "code",
   "execution_count": null,
   "metadata": {},
   "outputs": [],
   "source": []
  },
  {
   "cell_type": "code",
   "execution_count": null,
   "metadata": {},
   "outputs": [],
   "source": []
  },
  {
   "cell_type": "code",
   "execution_count": null,
   "metadata": {},
   "outputs": [],
   "source": []
  },
  {
   "cell_type": "markdown",
   "metadata": {},
   "source": [
    "# 条件付き頻度分布 単語の間の関連性\n",
    "(ConditionalFrequencyDistribution)を用いてbigramを扱う"
   ]
  },
  {
   "cell_type": "raw",
   "metadata": {},
   "source": [
    "bigrams = nltk.bigrams(tokens_l)\n"
   ]
  },
  {
   "cell_type": "code",
   "execution_count": null,
   "metadata": {},
   "outputs": [],
   "source": [
    "read_book_list[0]"
   ]
  },
  {
   "cell_type": "code",
   "execution_count": null,
   "metadata": {},
   "outputs": [],
   "source": [
    "read_book_list"
   ]
  },
  {
   "cell_type": "code",
   "execution_count": null,
   "metadata": {},
   "outputs": [],
   "source": [
    "#単語数（ただし，大文字・小文字を区別している）\n",
    "##異なり語数（ただし，大文字・小文字を区別している）\n",
    "for i in range(len(read_book_list)):\n",
    "    tokens = read_book_list[i]\n",
    "    print(i,\"\\n\",tokens, len(tokens), len(set(tokens)))"
   ]
  },
  {
   "cell_type": "code",
   "execution_count": null,
   "metadata": {
    "scrolled": true
   },
   "outputs": [],
   "source": [
    "#全ての単語を小文字化した上で，異なり語数を調べる。\n",
    "for i in range(len(read_book_list)):\n",
    "    tokens = read_book_list[i]\n",
    "    tokens_l = [w.lower() for w in tokens] \n",
    "    print(len(set(tokens_l)))\n"
   ]
  },
  {
   "cell_type": "code",
   "execution_count": null,
   "metadata": {},
   "outputs": [],
   "source": [
    "num_counted = 30\n",
    "for i in range(len(read_book_list)):\n",
    "    tokens = read_book_list[i]\n",
    "    tokens_l = [w.lower() for w in tokens] \n",
    "    \n",
    "    fd = nltk.FreqDist(tokens_l)\n",
    "    fd.plot(30, title = \"No.\"+str(i)+'_no_punc_no_stop_word'+'_Top_'+str(num_counted))\n",
    "    \n",
    "    \n",
    "    \n",
    "    "
   ]
  },
  {
   "cell_type": "code",
   "execution_count": null,
   "metadata": {},
   "outputs": [],
   "source": []
  },
  {
   "cell_type": "code",
   "execution_count": null,
   "metadata": {
    "scrolled": true
   },
   "outputs": [],
   "source": [
    "#バイグラムを作る。\n",
    "#バイグラムの頻度分布を得る。\n",
    "#符号を先に除去！！\n",
    "#stopwords\n",
    "\n",
    "fd_list = []\n",
    "for i in range(len(read_book_list)):\n",
    "    tokens = read_book_list[i]  \n",
    "    tokens_l = [w.lower() for w in tokens] \n",
    "    #バイグラムを作る。\n",
    "    bigrams = nltk.bigrams(tokens_l)\n",
    "    #バイグラムの頻度分布を得る。\n",
    "    fd = nltk.FreqDist(bigrams)\n",
    "    fd_list.append(fd)\n",
    "    #print(i , \"\\n\", fd_list[i].items(),\"\\n\")  \n",
    "    ##頻度付きで共起の結果を得る。（上位10個）\n",
    "    print(i , \"\\n\", fd.most_common(10))\n",
    "   \n",
    "    \n",
    "    "
   ]
  },
  {
   "cell_type": "code",
   "execution_count": null,
   "metadata": {},
   "outputs": [],
   "source": []
  },
  {
   "cell_type": "code",
   "execution_count": null,
   "metadata": {},
   "outputs": [],
   "source": [
    "prep_list, prep_list[5]"
   ]
  },
  {
   "cell_type": "code",
   "execution_count": null,
   "metadata": {},
   "outputs": [],
   "source": [
    "my_makedirs(new_dir_path_png_biagram_plot)\n",
    "\n",
    "for i in range(len(read_book_list)):\n",
    "    tokens = read_book_list[i]  \n",
    "    tokens_l = [w.lower() for w in tokens] \n",
    "    tokens_l\n",
    "    bigrams = nltk.bigrams(tokens_l)\n",
    "    bigrams \n",
    "    cfd = nltk.ConditionalFreqDist(bigrams)\n",
    "    print(i , \"\\n\", list(cfd['of']), cfd[\"of\"].items())\n",
    "    \n",
    "    title_ =  str(test[choice[index_i]])+str('_')+\"_No.\" + str(i) +str('_sample_')+ \"_biagrams_\" + str(prep_list[5])\n",
    "        \n",
    "    fig = plt.figure(figsize = (10,6))\n",
    "    cfd.plot(conditions=['of'], title = title_)\n",
    "    filename = new_dir_path_png_biagram_plot + \"/\" + title_ +\".png\"\n",
    "    fig.savefig(filename)\n",
    "    "
   ]
  },
  {
   "cell_type": "code",
   "execution_count": null,
   "metadata": {},
   "outputs": [],
   "source": []
  },
  {
   "cell_type": "code",
   "execution_count": null,
   "metadata": {
    "scrolled": true
   },
   "outputs": [],
   "source": [
    "##頻度付きで共起の結果を得\n",
    "fd.items()"
   ]
  },
  {
   "cell_type": "code",
   "execution_count": null,
   "metadata": {},
   "outputs": [],
   "source": []
  },
  {
   "cell_type": "code",
   "execution_count": null,
   "metadata": {},
   "outputs": [],
   "source": []
  },
  {
   "cell_type": "code",
   "execution_count": null,
   "metadata": {},
   "outputs": [],
   "source": []
  },
  {
   "cell_type": "code",
   "execution_count": null,
   "metadata": {},
   "outputs": [],
   "source": []
  },
  {
   "cell_type": "markdown",
   "metadata": {},
   "source": [
    "# 単語が、テキストのどのぐらいの位置に出現するかを可視化"
   ]
  },
  {
   "cell_type": "raw",
   "metadata": {},
   "source": [
    "book_list[i], nltk.corpus.gutenberg.words(book_list[i]), read_book_list[i]"
   ]
  },
  {
   "cell_type": "code",
   "execution_count": null,
   "metadata": {},
   "outputs": [],
   "source": [
    "nltk.Text(read_book_list[i]), nltk.Text(read_book_list[i]), "
   ]
  },
  {
   "cell_type": "code",
   "execution_count": null,
   "metadata": {},
   "outputs": [],
   "source": [
    "prep_list"
   ]
  },
  {
   "cell_type": "code",
   "execution_count": null,
   "metadata": {},
   "outputs": [],
   "source": [
    "#単語が、テキストのどのぐらいの位置に出現するかを可視化\n",
    "(nltk.Text(read_book_list[i])).dispersion_plot(prep_list)"
   ]
  },
  {
   "cell_type": "code",
   "execution_count": null,
   "metadata": {},
   "outputs": [],
   "source": []
  },
  {
   "cell_type": "code",
   "execution_count": null,
   "metadata": {
    "scrolled": true
   },
   "outputs": [],
   "source": [
    "my_makedirs(new_dir_path_png_dispersion_plot)\n",
    "\n",
    "for i in range(len(read_book_list)):\n",
    "    fig = plt.figure(figsize = (10,6))\n",
    "    nltk.Text(read_book_list[i]).dispersion_plot(prep_list)\n",
    "    filename = new_dir_path_png_dispersion_plot + \"/\" + \"_No.\" +str(i)+\".png\"\n",
    "    fig.savefig(filename)"
   ]
  },
  {
   "cell_type": "code",
   "execution_count": null,
   "metadata": {},
   "outputs": [],
   "source": []
  },
  {
   "cell_type": "markdown",
   "metadata": {},
   "source": [
    "# Appendix"
   ]
  },
  {
   "cell_type": "code",
   "execution_count": null,
   "metadata": {},
   "outputs": [],
   "source": [
    "#変な文字列を除去\n",
    "s = 'one two one two one 乬'\n",
    "\n",
    "print(s.replace('乬', '-'))\n",
    "# one-two-one-two-one\n",
    "\n",
    "#変な文字を除去\n",
    "s = 'one two one two one乬'\n",
    "print(s.translate(str.maketrans({'乬': 'O', 't': 'T'})))\n",
    "# One TwO One TwO One\n",
    "\n",
    "print(s.translate(str.maketrans({'乬': None, 't': 'T'})))\n",
    "# XXXne wXXX XXXne wXXX XXXne"
   ]
  },
  {
   "cell_type": "code",
   "execution_count": null,
   "metadata": {},
   "outputs": [],
   "source": []
  },
  {
   "cell_type": "code",
   "execution_count": null,
   "metadata": {},
   "outputs": [],
   "source": []
  },
  {
   "cell_type": "code",
   "execution_count": null,
   "metadata": {},
   "outputs": [],
   "source": []
  }
 ],
 "metadata": {
  "kernelspec": {
   "display_name": "Python 3",
   "language": "python",
   "name": "python3"
  },
  "language_info": {
   "codemirror_mode": {
    "name": "ipython",
    "version": 3
   },
   "file_extension": ".py",
   "mimetype": "text/x-python",
   "name": "python",
   "nbconvert_exporter": "python",
   "pygments_lexer": "ipython3",
   "version": "3.7.6"
  }
 },
 "nbformat": 4,
 "nbformat_minor": 2
}
