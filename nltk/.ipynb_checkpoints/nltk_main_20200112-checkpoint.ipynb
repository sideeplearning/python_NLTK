{
 "cells": [
  {
   "cell_type": "code",
   "execution_count": 1,
   "metadata": {},
   "outputs": [],
   "source": [
    "import pandas as pd\n",
    "import numpy as np\n",
    "import matplotlib.pyplot as plt\n",
    "import seaborn as sns\n",
    "\n",
    "from sklearn.decomposition import PCA\n",
    "from matplotlib import pyplot as plt\n",
    "from mpl_toolkits.mplot3d import Axes3D\n",
    "from pathlib import Path\n",
    "\n",
    "from sklearn.ensemble import RandomForestClassifier\n",
    "from sklearn.model_selection import train_test_split\n",
    "from sklearn.tree import DecisionTreeClassifier\n",
    "from pathlib import Path\n",
    "from sklearn.metrics import (roc_curve, auc, accuracy_score)\n",
    "from sklearn.preprocessing import StandardScaler\n",
    "\n",
    "\n",
    "import pandas as pd\n",
    "import numpy as np\n",
    "import matplotlib.pyplot as plt\n",
    "import seaborn as sns\n",
    "\n",
    "from sklearn.ensemble import RandomForestClassifier\n",
    "from sklearn.model_selection import train_test_split\n",
    "from sklearn.tree import DecisionTreeClassifier\n",
    "from pathlib import Path\n",
    "from sklearn.metrics import (roc_curve, auc, accuracy_score)\n",
    "\n",
    "import numpy as np\n",
    "import pandas as pd\n",
    "from sklearn.decomposition import PCA\n",
    "from matplotlib import pyplot as plt\n",
    "from mpl_toolkits.mplot3d import Axes3D\n",
    "\n",
    "import numpy as np\n",
    "import pandas as pd\n",
    "import seaborn as sns\n",
    "\n",
    "from matplotlib import pyplot as plt\n",
    "from sklearn.discriminant_analysis import LinearDiscriminantAnalysis\n",
    "from sklearn.metrics import accuracy_score\n",
    "\n",
    "from statistics import mean\n",
    "from sklearn.model_selection import train_test_split\n",
    "\n",
    "from sklearn.linear_model import LogisticRegression\n",
    "from sklearn.decomposition import PCA"
   ]
  },
  {
   "cell_type": "code",
   "execution_count": 2,
   "metadata": {},
   "outputs": [
    {
     "name": "stdout",
     "output_type": "stream",
     "text": [
      "[WindowsPath('C:/Users/tsuka/Desktop/csv/Poe_statics.csv'), WindowsPath('C:/Users/tsuka/Desktop/csv/test.csv')]\n"
     ]
    },
    {
     "data": {
      "text/html": [
       "<div>\n",
       "<style scoped>\n",
       "    .dataframe tbody tr th:only-of-type {\n",
       "        vertical-align: middle;\n",
       "    }\n",
       "\n",
       "    .dataframe tbody tr th {\n",
       "        vertical-align: top;\n",
       "    }\n",
       "\n",
       "    .dataframe thead th {\n",
       "        text-align: right;\n",
       "    }\n",
       "</style>\n",
       "<table border=\"1\" class=\"dataframe\">\n",
       "  <thead>\n",
       "    <tr style=\"text-align: right;\">\n",
       "      <th></th>\n",
       "      <th>Unnamed: 0</th>\n",
       "      <th>total</th>\n",
       "      <th>and</th>\n",
       "      <th>the</th>\n",
       "      <th>that</th>\n",
       "      <th>of</th>\n",
       "      <th>was</th>\n",
       "      <th>upon</th>\n",
       "      <th>not</th>\n",
       "      <th>when</th>\n",
       "      <th>then</th>\n",
       "    </tr>\n",
       "  </thead>\n",
       "  <tbody>\n",
       "    <tr>\n",
       "      <th>0</th>\n",
       "      <td>W.C.</td>\n",
       "      <td>449</td>\n",
       "      <td>13</td>\n",
       "      <td>28</td>\n",
       "      <td>13</td>\n",
       "      <td>18</td>\n",
       "      <td>18</td>\n",
       "      <td>1</td>\n",
       "      <td>2</td>\n",
       "      <td>0</td>\n",
       "      <td>3</td>\n",
       "    </tr>\n",
       "  </tbody>\n",
       "</table>\n",
       "</div>"
      ],
      "text/plain": [
       "  Unnamed: 0  total  and  the  that  of  was  upon  not  when  then\n",
       "0       W.C.    449   13   28    13  18   18     1    2     0     3"
      ]
     },
     "execution_count": 2,
     "metadata": {},
     "output_type": "execute_result"
    }
   ],
   "source": [
    "path = Path(r'C:\\Users\\tsuka\\Desktop\\csv')\n",
    "path\n",
    "path.glob('*.csv')\n",
    "list(path.glob('*.csv'))\n",
    "#print('lists:', path.glob('*'))\n",
    "#list path\n",
    "path = list(path.glob('*.csv'))\n",
    "print(path)\n",
    "#data = pd.read_csv(path[0], delimiter=';')\n",
    "data = pd.read_csv(path[0])\n",
    "data, path\n",
    "data_val = pd.read_csv(path[1])\n",
    "data_val"
   ]
  },
  {
   "cell_type": "code",
   "execution_count": 3,
   "metadata": {},
   "outputs": [
    {
     "data": {
      "text/plain": [
       "((1, 11), (5, 11))"
      ]
     },
     "execution_count": 3,
     "metadata": {},
     "output_type": "execute_result"
    }
   ],
   "source": [
    "data_val.shape, data.shape"
   ]
  },
  {
   "cell_type": "code",
   "execution_count": 4,
   "metadata": {
    "scrolled": true
   },
   "outputs": [
    {
     "name": "stdout",
     "output_type": "stream",
     "text": [
      "<class 'pandas.core.frame.DataFrame'>\n",
      "RangeIndex: 5 entries, 0 to 4\n",
      "Data columns (total 11 columns):\n",
      "Unnamed: 0    5 non-null object\n",
      "total         5 non-null int64\n",
      "and           5 non-null int64\n",
      "the           5 non-null int64\n",
      "that          5 non-null int64\n",
      "of            5 non-null int64\n",
      "was           5 non-null int64\n",
      "upon          5 non-null int64\n",
      "not           5 non-null int64\n",
      "when          5 non-null int64\n",
      "then          5 non-null int64\n",
      "dtypes: int64(10), object(1)\n",
      "memory usage: 568.0+ bytes\n"
     ]
    },
    {
     "data": {
      "text/plain": [
       "array([['thou', 6027, 173, 467, 79, 251, 91, 42, 34, 20, 10],\n",
       "       ['Rue Morgue', 14180, 276, 1174, 188, 602, 209, 77, 136, 22, 26],\n",
       "       ['Maire Roget', 20213, 417, 1704, 327, 924, 223, 86, 149, 38, 14],\n",
       "       ['Purloined letter', 7473, 184, 514, 83, 275, 41, 40, 58, 20, 20],\n",
       "       ['Gold Bug', 14389, 359, 884, 130, 465, 135, 81, 60, 46, 32]],\n",
       "      dtype=object)"
      ]
     },
     "execution_count": 4,
     "metadata": {},
     "output_type": "execute_result"
    }
   ],
   "source": [
    "data.info()\n",
    "datanp = data.values\n",
    "datanp"
   ]
  },
  {
   "cell_type": "code",
   "execution_count": 5,
   "metadata": {},
   "outputs": [
    {
     "data": {
      "text/plain": [
       "(5, 11)"
      ]
     },
     "execution_count": 5,
     "metadata": {},
     "output_type": "execute_result"
    }
   ],
   "source": [
    "data.shape"
   ]
  },
  {
   "cell_type": "code",
   "execution_count": 6,
   "metadata": {},
   "outputs": [
    {
     "data": {
      "text/plain": [
       "(         Unnamed: 0  total  and   the  that   of  was  upon  not  when  then\n",
       " 0              thou   6027  173   467    79  251   91    42   34    20    10\n",
       " 1        Rue Morgue  14180  276  1174   188  602  209    77  136    22    26\n",
       " 2       Maire Roget  20213  417  1704   327  924  223    86  149    38    14\n",
       " 3  Purloined letter   7473  184   514    83  275   41    40   58    20    20\n",
       " 4          Gold Bug  14389  359   884   130  465  135    81   60    46    32,)"
      ]
     },
     "execution_count": 6,
     "metadata": {},
     "output_type": "execute_result"
    }
   ],
   "source": [
    "data,"
   ]
  },
  {
   "cell_type": "code",
   "execution_count": 7,
   "metadata": {},
   "outputs": [],
   "source": [
    "data.columns = ['work', 'total', 'and', 'the', 'that', 'of', 'was', 'upon', 'not',\n",
    "       'when', 'then']"
   ]
  },
  {
   "cell_type": "code",
   "execution_count": 8,
   "metadata": {},
   "outputs": [
    {
     "data": {
      "text/html": [
       "<div>\n",
       "<style scoped>\n",
       "    .dataframe tbody tr th:only-of-type {\n",
       "        vertical-align: middle;\n",
       "    }\n",
       "\n",
       "    .dataframe tbody tr th {\n",
       "        vertical-align: top;\n",
       "    }\n",
       "\n",
       "    .dataframe thead th {\n",
       "        text-align: right;\n",
       "    }\n",
       "</style>\n",
       "<table border=\"1\" class=\"dataframe\">\n",
       "  <thead>\n",
       "    <tr style=\"text-align: right;\">\n",
       "      <th></th>\n",
       "      <th>work</th>\n",
       "      <th>total</th>\n",
       "      <th>and</th>\n",
       "      <th>the</th>\n",
       "      <th>that</th>\n",
       "      <th>of</th>\n",
       "      <th>was</th>\n",
       "      <th>upon</th>\n",
       "      <th>not</th>\n",
       "      <th>when</th>\n",
       "      <th>then</th>\n",
       "    </tr>\n",
       "  </thead>\n",
       "  <tbody>\n",
       "    <tr>\n",
       "      <th>0</th>\n",
       "      <td>thou</td>\n",
       "      <td>6027</td>\n",
       "      <td>173</td>\n",
       "      <td>467</td>\n",
       "      <td>79</td>\n",
       "      <td>251</td>\n",
       "      <td>91</td>\n",
       "      <td>42</td>\n",
       "      <td>34</td>\n",
       "      <td>20</td>\n",
       "      <td>10</td>\n",
       "    </tr>\n",
       "    <tr>\n",
       "      <th>1</th>\n",
       "      <td>Rue Morgue</td>\n",
       "      <td>14180</td>\n",
       "      <td>276</td>\n",
       "      <td>1174</td>\n",
       "      <td>188</td>\n",
       "      <td>602</td>\n",
       "      <td>209</td>\n",
       "      <td>77</td>\n",
       "      <td>136</td>\n",
       "      <td>22</td>\n",
       "      <td>26</td>\n",
       "    </tr>\n",
       "    <tr>\n",
       "      <th>2</th>\n",
       "      <td>Maire Roget</td>\n",
       "      <td>20213</td>\n",
       "      <td>417</td>\n",
       "      <td>1704</td>\n",
       "      <td>327</td>\n",
       "      <td>924</td>\n",
       "      <td>223</td>\n",
       "      <td>86</td>\n",
       "      <td>149</td>\n",
       "      <td>38</td>\n",
       "      <td>14</td>\n",
       "    </tr>\n",
       "    <tr>\n",
       "      <th>3</th>\n",
       "      <td>Purloined letter</td>\n",
       "      <td>7473</td>\n",
       "      <td>184</td>\n",
       "      <td>514</td>\n",
       "      <td>83</td>\n",
       "      <td>275</td>\n",
       "      <td>41</td>\n",
       "      <td>40</td>\n",
       "      <td>58</td>\n",
       "      <td>20</td>\n",
       "      <td>20</td>\n",
       "    </tr>\n",
       "    <tr>\n",
       "      <th>4</th>\n",
       "      <td>Gold Bug</td>\n",
       "      <td>14389</td>\n",
       "      <td>359</td>\n",
       "      <td>884</td>\n",
       "      <td>130</td>\n",
       "      <td>465</td>\n",
       "      <td>135</td>\n",
       "      <td>81</td>\n",
       "      <td>60</td>\n",
       "      <td>46</td>\n",
       "      <td>32</td>\n",
       "    </tr>\n",
       "  </tbody>\n",
       "</table>\n",
       "</div>"
      ],
      "text/plain": [
       "               work  total  and   the  that   of  was  upon  not  when  then\n",
       "0              thou   6027  173   467    79  251   91    42   34    20    10\n",
       "1        Rue Morgue  14180  276  1174   188  602  209    77  136    22    26\n",
       "2       Maire Roget  20213  417  1704   327  924  223    86  149    38    14\n",
       "3  Purloined letter   7473  184   514    83  275   41    40   58    20    20\n",
       "4          Gold Bug  14389  359   884   130  465  135    81   60    46    32"
      ]
     },
     "execution_count": 8,
     "metadata": {},
     "output_type": "execute_result"
    }
   ],
   "source": [
    "data"
   ]
  },
  {
   "cell_type": "raw",
   "metadata": {},
   "source": [
    "data = data.corr()\n",
    "data_val = data_val.corr()"
   ]
  },
  {
   "cell_type": "code",
   "execution_count": 9,
   "metadata": {},
   "outputs": [
    {
     "data": {
      "text/html": [
       "<div>\n",
       "<style scoped>\n",
       "    .dataframe tbody tr th:only-of-type {\n",
       "        vertical-align: middle;\n",
       "    }\n",
       "\n",
       "    .dataframe tbody tr th {\n",
       "        vertical-align: top;\n",
       "    }\n",
       "\n",
       "    .dataframe thead th {\n",
       "        text-align: right;\n",
       "    }\n",
       "</style>\n",
       "<table border=\"1\" class=\"dataframe\">\n",
       "  <thead>\n",
       "    <tr style=\"text-align: right;\">\n",
       "      <th></th>\n",
       "      <th>work</th>\n",
       "      <th>total</th>\n",
       "      <th>and</th>\n",
       "      <th>the</th>\n",
       "      <th>that</th>\n",
       "      <th>of</th>\n",
       "      <th>was</th>\n",
       "      <th>upon</th>\n",
       "      <th>not</th>\n",
       "      <th>when</th>\n",
       "      <th>then</th>\n",
       "    </tr>\n",
       "  </thead>\n",
       "  <tbody>\n",
       "    <tr>\n",
       "      <th>0</th>\n",
       "      <td>thou</td>\n",
       "      <td>6027</td>\n",
       "      <td>173</td>\n",
       "      <td>467</td>\n",
       "      <td>79</td>\n",
       "      <td>251</td>\n",
       "      <td>91</td>\n",
       "      <td>42</td>\n",
       "      <td>34</td>\n",
       "      <td>20</td>\n",
       "      <td>10</td>\n",
       "    </tr>\n",
       "    <tr>\n",
       "      <th>1</th>\n",
       "      <td>Rue Morgue</td>\n",
       "      <td>14180</td>\n",
       "      <td>276</td>\n",
       "      <td>1174</td>\n",
       "      <td>188</td>\n",
       "      <td>602</td>\n",
       "      <td>209</td>\n",
       "      <td>77</td>\n",
       "      <td>136</td>\n",
       "      <td>22</td>\n",
       "      <td>26</td>\n",
       "    </tr>\n",
       "    <tr>\n",
       "      <th>2</th>\n",
       "      <td>Maire Roget</td>\n",
       "      <td>20213</td>\n",
       "      <td>417</td>\n",
       "      <td>1704</td>\n",
       "      <td>327</td>\n",
       "      <td>924</td>\n",
       "      <td>223</td>\n",
       "      <td>86</td>\n",
       "      <td>149</td>\n",
       "      <td>38</td>\n",
       "      <td>14</td>\n",
       "    </tr>\n",
       "    <tr>\n",
       "      <th>3</th>\n",
       "      <td>Purloined letter</td>\n",
       "      <td>7473</td>\n",
       "      <td>184</td>\n",
       "      <td>514</td>\n",
       "      <td>83</td>\n",
       "      <td>275</td>\n",
       "      <td>41</td>\n",
       "      <td>40</td>\n",
       "      <td>58</td>\n",
       "      <td>20</td>\n",
       "      <td>20</td>\n",
       "    </tr>\n",
       "    <tr>\n",
       "      <th>4</th>\n",
       "      <td>Gold Bug</td>\n",
       "      <td>14389</td>\n",
       "      <td>359</td>\n",
       "      <td>884</td>\n",
       "      <td>130</td>\n",
       "      <td>465</td>\n",
       "      <td>135</td>\n",
       "      <td>81</td>\n",
       "      <td>60</td>\n",
       "      <td>46</td>\n",
       "      <td>32</td>\n",
       "    </tr>\n",
       "  </tbody>\n",
       "</table>\n",
       "</div>"
      ],
      "text/plain": [
       "               work  total  and   the  that   of  was  upon  not  when  then\n",
       "0              thou   6027  173   467    79  251   91    42   34    20    10\n",
       "1        Rue Morgue  14180  276  1174   188  602  209    77  136    22    26\n",
       "2       Maire Roget  20213  417  1704   327  924  223    86  149    38    14\n",
       "3  Purloined letter   7473  184   514    83  275   41    40   58    20    20\n",
       "4          Gold Bug  14389  359   884   130  465  135    81   60    46    32"
      ]
     },
     "execution_count": 9,
     "metadata": {},
     "output_type": "execute_result"
    }
   ],
   "source": [
    "data.dropna()"
   ]
  },
  {
   "cell_type": "code",
   "execution_count": 10,
   "metadata": {},
   "outputs": [
    {
     "data": {
      "text/plain": [
       "0    False\n",
       "1    False\n",
       "2    False\n",
       "3    False\n",
       "4    False\n",
       "dtype: bool"
      ]
     },
     "execution_count": 10,
     "metadata": {},
     "output_type": "execute_result"
    }
   ],
   "source": [
    "data.duplicated()"
   ]
  },
  {
   "cell_type": "code",
   "execution_count": 11,
   "metadata": {
    "scrolled": true
   },
   "outputs": [
    {
     "data": {
      "text/html": [
       "<div>\n",
       "<style scoped>\n",
       "    .dataframe tbody tr th:only-of-type {\n",
       "        vertical-align: middle;\n",
       "    }\n",
       "\n",
       "    .dataframe tbody tr th {\n",
       "        vertical-align: top;\n",
       "    }\n",
       "\n",
       "    .dataframe thead th {\n",
       "        text-align: right;\n",
       "    }\n",
       "</style>\n",
       "<table border=\"1\" class=\"dataframe\">\n",
       "  <thead>\n",
       "    <tr style=\"text-align: right;\">\n",
       "      <th></th>\n",
       "      <th>work</th>\n",
       "      <th>total</th>\n",
       "      <th>and</th>\n",
       "      <th>the</th>\n",
       "      <th>that</th>\n",
       "      <th>of</th>\n",
       "      <th>was</th>\n",
       "      <th>upon</th>\n",
       "      <th>not</th>\n",
       "      <th>when</th>\n",
       "      <th>then</th>\n",
       "    </tr>\n",
       "  </thead>\n",
       "  <tbody>\n",
       "    <tr>\n",
       "      <th>0</th>\n",
       "      <td>thou</td>\n",
       "      <td>6027</td>\n",
       "      <td>173</td>\n",
       "      <td>467</td>\n",
       "      <td>79</td>\n",
       "      <td>251</td>\n",
       "      <td>91</td>\n",
       "      <td>42</td>\n",
       "      <td>34</td>\n",
       "      <td>20</td>\n",
       "      <td>10</td>\n",
       "    </tr>\n",
       "    <tr>\n",
       "      <th>1</th>\n",
       "      <td>Rue Morgue</td>\n",
       "      <td>14180</td>\n",
       "      <td>276</td>\n",
       "      <td>1174</td>\n",
       "      <td>188</td>\n",
       "      <td>602</td>\n",
       "      <td>209</td>\n",
       "      <td>77</td>\n",
       "      <td>136</td>\n",
       "      <td>22</td>\n",
       "      <td>26</td>\n",
       "    </tr>\n",
       "    <tr>\n",
       "      <th>2</th>\n",
       "      <td>Maire Roget</td>\n",
       "      <td>20213</td>\n",
       "      <td>417</td>\n",
       "      <td>1704</td>\n",
       "      <td>327</td>\n",
       "      <td>924</td>\n",
       "      <td>223</td>\n",
       "      <td>86</td>\n",
       "      <td>149</td>\n",
       "      <td>38</td>\n",
       "      <td>14</td>\n",
       "    </tr>\n",
       "    <tr>\n",
       "      <th>3</th>\n",
       "      <td>Purloined letter</td>\n",
       "      <td>7473</td>\n",
       "      <td>184</td>\n",
       "      <td>514</td>\n",
       "      <td>83</td>\n",
       "      <td>275</td>\n",
       "      <td>41</td>\n",
       "      <td>40</td>\n",
       "      <td>58</td>\n",
       "      <td>20</td>\n",
       "      <td>20</td>\n",
       "    </tr>\n",
       "    <tr>\n",
       "      <th>4</th>\n",
       "      <td>Gold Bug</td>\n",
       "      <td>14389</td>\n",
       "      <td>359</td>\n",
       "      <td>884</td>\n",
       "      <td>130</td>\n",
       "      <td>465</td>\n",
       "      <td>135</td>\n",
       "      <td>81</td>\n",
       "      <td>60</td>\n",
       "      <td>46</td>\n",
       "      <td>32</td>\n",
       "    </tr>\n",
       "  </tbody>\n",
       "</table>\n",
       "</div>"
      ],
      "text/plain": [
       "               work  total  and   the  that   of  was  upon  not  when  then\n",
       "0              thou   6027  173   467    79  251   91    42   34    20    10\n",
       "1        Rue Morgue  14180  276  1174   188  602  209    77  136    22    26\n",
       "2       Maire Roget  20213  417  1704   327  924  223    86  149    38    14\n",
       "3  Purloined letter   7473  184   514    83  275   41    40   58    20    20\n",
       "4          Gold Bug  14389  359   884   130  465  135    81   60    46    32"
      ]
     },
     "execution_count": 11,
     "metadata": {},
     "output_type": "execute_result"
    }
   ],
   "source": [
    "data.sort_index(ascending=True)"
   ]
  },
  {
   "cell_type": "code",
   "execution_count": 12,
   "metadata": {},
   "outputs": [
    {
     "data": {
      "text/plain": [
       "<matplotlib.colorbar.Colorbar at 0x2b39b1fae88>"
      ]
     },
     "execution_count": 12,
     "metadata": {},
     "output_type": "execute_result"
    },
    {
     "data": {
      "image/png": "[encoded data removed]",
      "text/plain": [
       "<Figure size 432x288 with 2 Axes>"
      ]
     },
     "metadata": {
      "needs_background": "light"
     },
     "output_type": "display_data"
    }
   ],
   "source": [
    "x,y=data['and'],data['the']\n",
    "f=data['that']\n",
    "\n",
    "#plt.plot(x,y,'o',color='black')\n",
    "plt.scatter(x,y,c=f)\n",
    "plt.xlabel('and')\n",
    "plt.ylabel('the')\n",
    "plt.colorbar(label='that')"
   ]
  },
  {
   "cell_type": "code",
   "execution_count": 13,
   "metadata": {},
   "outputs": [
    {
     "data": {
      "text/plain": [
       "(Index(['work', 'total', 'and', 'the', 'that', 'of', 'was', 'upon', 'not',\n",
       "        'when', 'then'],\n",
       "       dtype='object'), (5, 11))"
      ]
     },
     "execution_count": 13,
     "metadata": {},
     "output_type": "execute_result"
    }
   ],
   "source": [
    "data.columns, data.shape"
   ]
  },
  {
   "cell_type": "code",
   "execution_count": 14,
   "metadata": {},
   "outputs": [],
   "source": [
    "data['label'] = 1"
   ]
  },
  {
   "cell_type": "code",
   "execution_count": 15,
   "metadata": {
    "scrolled": true
   },
   "outputs": [
    {
     "data": {
      "text/html": [
       "<div>\n",
       "<style scoped>\n",
       "    .dataframe tbody tr th:only-of-type {\n",
       "        vertical-align: middle;\n",
       "    }\n",
       "\n",
       "    .dataframe tbody tr th {\n",
       "        vertical-align: top;\n",
       "    }\n",
       "\n",
       "    .dataframe thead th {\n",
       "        text-align: right;\n",
       "    }\n",
       "</style>\n",
       "<table border=\"1\" class=\"dataframe\">\n",
       "  <thead>\n",
       "    <tr style=\"text-align: right;\">\n",
       "      <th></th>\n",
       "      <th>work</th>\n",
       "      <th>total</th>\n",
       "      <th>and</th>\n",
       "      <th>the</th>\n",
       "      <th>that</th>\n",
       "      <th>of</th>\n",
       "      <th>was</th>\n",
       "      <th>upon</th>\n",
       "      <th>not</th>\n",
       "      <th>when</th>\n",
       "      <th>then</th>\n",
       "      <th>label</th>\n",
       "    </tr>\n",
       "  </thead>\n",
       "  <tbody>\n",
       "    <tr>\n",
       "      <th>0</th>\n",
       "      <td>thou</td>\n",
       "      <td>6027</td>\n",
       "      <td>173</td>\n",
       "      <td>467</td>\n",
       "      <td>79</td>\n",
       "      <td>251</td>\n",
       "      <td>91</td>\n",
       "      <td>42</td>\n",
       "      <td>34</td>\n",
       "      <td>20</td>\n",
       "      <td>10</td>\n",
       "      <td>1</td>\n",
       "    </tr>\n",
       "    <tr>\n",
       "      <th>1</th>\n",
       "      <td>Rue Morgue</td>\n",
       "      <td>14180</td>\n",
       "      <td>276</td>\n",
       "      <td>1174</td>\n",
       "      <td>188</td>\n",
       "      <td>602</td>\n",
       "      <td>209</td>\n",
       "      <td>77</td>\n",
       "      <td>136</td>\n",
       "      <td>22</td>\n",
       "      <td>26</td>\n",
       "      <td>1</td>\n",
       "    </tr>\n",
       "    <tr>\n",
       "      <th>2</th>\n",
       "      <td>Maire Roget</td>\n",
       "      <td>20213</td>\n",
       "      <td>417</td>\n",
       "      <td>1704</td>\n",
       "      <td>327</td>\n",
       "      <td>924</td>\n",
       "      <td>223</td>\n",
       "      <td>86</td>\n",
       "      <td>149</td>\n",
       "      <td>38</td>\n",
       "      <td>14</td>\n",
       "      <td>1</td>\n",
       "    </tr>\n",
       "    <tr>\n",
       "      <th>3</th>\n",
       "      <td>Purloined letter</td>\n",
       "      <td>7473</td>\n",
       "      <td>184</td>\n",
       "      <td>514</td>\n",
       "      <td>83</td>\n",
       "      <td>275</td>\n",
       "      <td>41</td>\n",
       "      <td>40</td>\n",
       "      <td>58</td>\n",
       "      <td>20</td>\n",
       "      <td>20</td>\n",
       "      <td>1</td>\n",
       "    </tr>\n",
       "    <tr>\n",
       "      <th>4</th>\n",
       "      <td>Gold Bug</td>\n",
       "      <td>14389</td>\n",
       "      <td>359</td>\n",
       "      <td>884</td>\n",
       "      <td>130</td>\n",
       "      <td>465</td>\n",
       "      <td>135</td>\n",
       "      <td>81</td>\n",
       "      <td>60</td>\n",
       "      <td>46</td>\n",
       "      <td>32</td>\n",
       "      <td>1</td>\n",
       "    </tr>\n",
       "  </tbody>\n",
       "</table>\n",
       "</div>"
      ],
      "text/plain": [
       "               work  total  and   the  that   of  was  upon  not  when  then  \\\n",
       "0              thou   6027  173   467    79  251   91    42   34    20    10   \n",
       "1        Rue Morgue  14180  276  1174   188  602  209    77  136    22    26   \n",
       "2       Maire Roget  20213  417  1704   327  924  223    86  149    38    14   \n",
       "3  Purloined letter   7473  184   514    83  275   41    40   58    20    20   \n",
       "4          Gold Bug  14389  359   884   130  465  135    81   60    46    32   \n",
       "\n",
       "   label  \n",
       "0      1  \n",
       "1      1  \n",
       "2      1  \n",
       "3      1  \n",
       "4      1  "
      ]
     },
     "execution_count": 15,
     "metadata": {},
     "output_type": "execute_result"
    }
   ],
   "source": [
    "data"
   ]
  },
  {
   "cell_type": "code",
   "execution_count": 16,
   "metadata": {},
   "outputs": [
    {
     "data": {
      "text/plain": [
       "(Index(['work', 'total', 'and', 'the', 'that', 'of', 'was', 'upon', 'not',\n",
       "        'when', 'then', 'label'],\n",
       "       dtype='object'), (5, 12))"
      ]
     },
     "execution_count": 16,
     "metadata": {},
     "output_type": "execute_result"
    }
   ],
   "source": [
    "data.columns, data.shape"
   ]
  },
  {
   "cell_type": "code",
   "execution_count": null,
   "metadata": {},
   "outputs": [],
   "source": []
  },
  {
   "cell_type": "code",
   "execution_count": 17,
   "metadata": {},
   "outputs": [
    {
     "data": {
      "text/html": [
       "<div>\n",
       "<style scoped>\n",
       "    .dataframe tbody tr th:only-of-type {\n",
       "        vertical-align: middle;\n",
       "    }\n",
       "\n",
       "    .dataframe tbody tr th {\n",
       "        vertical-align: top;\n",
       "    }\n",
       "\n",
       "    .dataframe thead th {\n",
       "        text-align: right;\n",
       "    }\n",
       "</style>\n",
       "<table border=\"1\" class=\"dataframe\">\n",
       "  <thead>\n",
       "    <tr style=\"text-align: right;\">\n",
       "      <th></th>\n",
       "      <th>and</th>\n",
       "      <th>the</th>\n",
       "      <th>that</th>\n",
       "      <th>of</th>\n",
       "      <th>was</th>\n",
       "      <th>upon</th>\n",
       "      <th>not</th>\n",
       "      <th>when</th>\n",
       "      <th>then</th>\n",
       "    </tr>\n",
       "  </thead>\n",
       "  <tbody>\n",
       "    <tr>\n",
       "      <th>0</th>\n",
       "      <td>173</td>\n",
       "      <td>467</td>\n",
       "      <td>79</td>\n",
       "      <td>251</td>\n",
       "      <td>91</td>\n",
       "      <td>42</td>\n",
       "      <td>34</td>\n",
       "      <td>20</td>\n",
       "      <td>10</td>\n",
       "    </tr>\n",
       "    <tr>\n",
       "      <th>1</th>\n",
       "      <td>276</td>\n",
       "      <td>1174</td>\n",
       "      <td>188</td>\n",
       "      <td>602</td>\n",
       "      <td>209</td>\n",
       "      <td>77</td>\n",
       "      <td>136</td>\n",
       "      <td>22</td>\n",
       "      <td>26</td>\n",
       "    </tr>\n",
       "    <tr>\n",
       "      <th>2</th>\n",
       "      <td>417</td>\n",
       "      <td>1704</td>\n",
       "      <td>327</td>\n",
       "      <td>924</td>\n",
       "      <td>223</td>\n",
       "      <td>86</td>\n",
       "      <td>149</td>\n",
       "      <td>38</td>\n",
       "      <td>14</td>\n",
       "    </tr>\n",
       "    <tr>\n",
       "      <th>3</th>\n",
       "      <td>184</td>\n",
       "      <td>514</td>\n",
       "      <td>83</td>\n",
       "      <td>275</td>\n",
       "      <td>41</td>\n",
       "      <td>40</td>\n",
       "      <td>58</td>\n",
       "      <td>20</td>\n",
       "      <td>20</td>\n",
       "    </tr>\n",
       "    <tr>\n",
       "      <th>4</th>\n",
       "      <td>359</td>\n",
       "      <td>884</td>\n",
       "      <td>130</td>\n",
       "      <td>465</td>\n",
       "      <td>135</td>\n",
       "      <td>81</td>\n",
       "      <td>60</td>\n",
       "      <td>46</td>\n",
       "      <td>32</td>\n",
       "    </tr>\n",
       "  </tbody>\n",
       "</table>\n",
       "</div>"
      ],
      "text/plain": [
       "   and   the  that   of  was  upon  not  when  then\n",
       "0  173   467    79  251   91    42   34    20    10\n",
       "1  276  1174   188  602  209    77  136    22    26\n",
       "2  417  1704   327  924  223    86  149    38    14\n",
       "3  184   514    83  275   41    40   58    20    20\n",
       "4  359   884   130  465  135    81   60    46    32"
      ]
     },
     "execution_count": 17,
     "metadata": {},
     "output_type": "execute_result"
    }
   ],
   "source": [
    "x_train=data.drop(data.columns[0],axis=1)\n",
    "x_train=x_train.drop(data.columns[11],axis=1)\n",
    "x_train=x_train.drop(data.columns[1],axis=1)\n",
    "x_train"
   ]
  },
  {
   "cell_type": "raw",
   "metadata": {},
   "source": [
    "x_train=data.drop(data.columns[10],axis=1)\n",
    "x_train"
   ]
  },
  {
   "cell_type": "code",
   "execution_count": 18,
   "metadata": {},
   "outputs": [
    {
     "name": "stdout",
     "output_type": "stream",
     "text": [
      "label\n"
     ]
    },
    {
     "data": {
      "text/plain": [
       "0    1\n",
       "1    1\n",
       "2    1\n",
       "3    1\n",
       "4    1\n",
       "Name: label, dtype: int64"
      ]
     },
     "execution_count": 18,
     "metadata": {},
     "output_type": "execute_result"
    }
   ],
   "source": [
    "print(data.columns[11])\n",
    "y_train = data[data.columns[11]]\n",
    "y_train"
   ]
  },
  {
   "cell_type": "code",
   "execution_count": null,
   "metadata": {},
   "outputs": [],
   "source": []
  },
  {
   "cell_type": "code",
   "execution_count": 19,
   "metadata": {},
   "outputs": [
    {
     "data": {
      "text/html": [
       "<div>\n",
       "<style scoped>\n",
       "    .dataframe tbody tr th:only-of-type {\n",
       "        vertical-align: middle;\n",
       "    }\n",
       "\n",
       "    .dataframe tbody tr th {\n",
       "        vertical-align: top;\n",
       "    }\n",
       "\n",
       "    .dataframe thead th {\n",
       "        text-align: right;\n",
       "    }\n",
       "</style>\n",
       "<table border=\"1\" class=\"dataframe\">\n",
       "  <thead>\n",
       "    <tr style=\"text-align: right;\">\n",
       "      <th></th>\n",
       "      <th>and</th>\n",
       "      <th>the</th>\n",
       "      <th>that</th>\n",
       "      <th>of</th>\n",
       "      <th>was</th>\n",
       "      <th>upon</th>\n",
       "      <th>not</th>\n",
       "      <th>when</th>\n",
       "      <th>then</th>\n",
       "    </tr>\n",
       "  </thead>\n",
       "  <tbody>\n",
       "    <tr>\n",
       "      <th>0</th>\n",
       "      <td>173</td>\n",
       "      <td>467</td>\n",
       "      <td>79</td>\n",
       "      <td>251</td>\n",
       "      <td>91</td>\n",
       "      <td>42</td>\n",
       "      <td>34</td>\n",
       "      <td>20</td>\n",
       "      <td>10</td>\n",
       "    </tr>\n",
       "    <tr>\n",
       "      <th>1</th>\n",
       "      <td>276</td>\n",
       "      <td>1174</td>\n",
       "      <td>188</td>\n",
       "      <td>602</td>\n",
       "      <td>209</td>\n",
       "      <td>77</td>\n",
       "      <td>136</td>\n",
       "      <td>22</td>\n",
       "      <td>26</td>\n",
       "    </tr>\n",
       "    <tr>\n",
       "      <th>2</th>\n",
       "      <td>417</td>\n",
       "      <td>1704</td>\n",
       "      <td>327</td>\n",
       "      <td>924</td>\n",
       "      <td>223</td>\n",
       "      <td>86</td>\n",
       "      <td>149</td>\n",
       "      <td>38</td>\n",
       "      <td>14</td>\n",
       "    </tr>\n",
       "    <tr>\n",
       "      <th>4</th>\n",
       "      <td>359</td>\n",
       "      <td>884</td>\n",
       "      <td>130</td>\n",
       "      <td>465</td>\n",
       "      <td>135</td>\n",
       "      <td>81</td>\n",
       "      <td>60</td>\n",
       "      <td>46</td>\n",
       "      <td>32</td>\n",
       "    </tr>\n",
       "  </tbody>\n",
       "</table>\n",
       "</div>"
      ],
      "text/plain": [
       "   and   the  that   of  was  upon  not  when  then\n",
       "0  173   467    79  251   91    42   34    20    10\n",
       "1  276  1174   188  602  209    77  136    22    26\n",
       "2  417  1704   327  924  223    86  149    38    14\n",
       "4  359   884   130  465  135    81   60    46    32"
      ]
     },
     "execution_count": 19,
     "metadata": {},
     "output_type": "execute_result"
    }
   ],
   "source": [
    "X_train,X_test,y_train,y_test = train_test_split(x_train,y_train,test_size = 0.1, random_state = 666)\n",
    "X_train"
   ]
  },
  {
   "cell_type": "code",
   "execution_count": 32,
   "metadata": {},
   "outputs": [
    {
     "data": {
      "text/plain": [
       "array([1], dtype=int64)"
      ]
     },
     "execution_count": 32,
     "metadata": {},
     "output_type": "execute_result"
    }
   ],
   "source": [
    "clf=DecisionTreeClassifier(random_state=0)\n",
    "clf=clf.fit(X_train,y_train)\n",
    "pred=clf.predict(X_test)\n",
    "pred"
   ]
  },
  {
   "cell_type": "code",
   "execution_count": 33,
   "metadata": {},
   "outputs": [
    {
     "data": {
      "text/plain": [
       "1.0"
      ]
     },
     "execution_count": 33,
     "metadata": {},
     "output_type": "execute_result"
    }
   ],
   "source": [
    "accuracy_score(pred, y_test)"
   ]
  },
  {
   "cell_type": "code",
   "execution_count": 22,
   "metadata": {},
   "outputs": [
    {
     "data": {
      "image/png": "[encoded data removed]",
      "text/plain": [
       "<Figure size 360x360 with 1 Axes>"
      ]
     },
     "metadata": {
      "needs_background": "light"
     },
     "output_type": "display_data"
    }
   ],
   "source": [
    "features=X_train.columns\n",
    "importances=clf.feature_importances_\n",
    "indices=np.argsort(importances)\n",
    "importances,indices\n",
    "\n",
    "plt.figure(figsize=(5,5))\n",
    "plt.barh(range(len(indices)),importances[indices],color='b',align='center')\n",
    "plt.yticks(range(len(indices)), features[indices])\n",
    "plt.show()"
   ]
  },
  {
   "cell_type": "markdown",
   "metadata": {},
   "source": [
    "# VAL"
   ]
  },
  {
   "cell_type": "code",
   "execution_count": 23,
   "metadata": {},
   "outputs": [
    {
     "data": {
      "text/html": [
       "<div>\n",
       "<style scoped>\n",
       "    .dataframe tbody tr th:only-of-type {\n",
       "        vertical-align: middle;\n",
       "    }\n",
       "\n",
       "    .dataframe tbody tr th {\n",
       "        vertical-align: top;\n",
       "    }\n",
       "\n",
       "    .dataframe thead th {\n",
       "        text-align: right;\n",
       "    }\n",
       "</style>\n",
       "<table border=\"1\" class=\"dataframe\">\n",
       "  <thead>\n",
       "    <tr style=\"text-align: right;\">\n",
       "      <th></th>\n",
       "      <th>Unnamed: 0</th>\n",
       "      <th>total</th>\n",
       "      <th>and</th>\n",
       "      <th>the</th>\n",
       "      <th>that</th>\n",
       "      <th>of</th>\n",
       "      <th>was</th>\n",
       "      <th>upon</th>\n",
       "      <th>not</th>\n",
       "      <th>when</th>\n",
       "      <th>then</th>\n",
       "    </tr>\n",
       "  </thead>\n",
       "  <tbody>\n",
       "    <tr>\n",
       "      <th>0</th>\n",
       "      <td>W.C.</td>\n",
       "      <td>449</td>\n",
       "      <td>13</td>\n",
       "      <td>28</td>\n",
       "      <td>13</td>\n",
       "      <td>18</td>\n",
       "      <td>18</td>\n",
       "      <td>1</td>\n",
       "      <td>2</td>\n",
       "      <td>0</td>\n",
       "      <td>3</td>\n",
       "    </tr>\n",
       "  </tbody>\n",
       "</table>\n",
       "</div>"
      ],
      "text/plain": [
       "  Unnamed: 0  total  and  the  that  of  was  upon  not  when  then\n",
       "0       W.C.    449   13   28    13  18   18     1    2     0     3"
      ]
     },
     "execution_count": 23,
     "metadata": {},
     "output_type": "execute_result"
    }
   ],
   "source": [
    "data_val"
   ]
  },
  {
   "cell_type": "code",
   "execution_count": 24,
   "metadata": {
    "scrolled": false
   },
   "outputs": [
    {
     "data": {
      "text/html": [
       "<div>\n",
       "<style scoped>\n",
       "    .dataframe tbody tr th:only-of-type {\n",
       "        vertical-align: middle;\n",
       "    }\n",
       "\n",
       "    .dataframe tbody tr th {\n",
       "        vertical-align: top;\n",
       "    }\n",
       "\n",
       "    .dataframe thead th {\n",
       "        text-align: right;\n",
       "    }\n",
       "</style>\n",
       "<table border=\"1\" class=\"dataframe\">\n",
       "  <thead>\n",
       "    <tr style=\"text-align: right;\">\n",
       "      <th></th>\n",
       "      <th>total</th>\n",
       "      <th>and</th>\n",
       "      <th>the</th>\n",
       "      <th>that</th>\n",
       "      <th>of</th>\n",
       "      <th>was</th>\n",
       "      <th>upon</th>\n",
       "      <th>not</th>\n",
       "      <th>when</th>\n",
       "      <th>then</th>\n",
       "    </tr>\n",
       "  </thead>\n",
       "  <tbody>\n",
       "    <tr>\n",
       "      <th>0</th>\n",
       "      <td>449</td>\n",
       "      <td>13</td>\n",
       "      <td>28</td>\n",
       "      <td>13</td>\n",
       "      <td>18</td>\n",
       "      <td>18</td>\n",
       "      <td>1</td>\n",
       "      <td>2</td>\n",
       "      <td>0</td>\n",
       "      <td>3</td>\n",
       "    </tr>\n",
       "  </tbody>\n",
       "</table>\n",
       "</div>"
      ],
      "text/plain": [
       "   total  and  the  that  of  was  upon  not  when  then\n",
       "0    449   13   28    13  18   18     1    2     0     3"
      ]
     },
     "execution_count": 24,
     "metadata": {},
     "output_type": "execute_result"
    }
   ],
   "source": [
    "data_val = data_val.drop(data_val.columns[0],axis=1)\n",
    "#data_val = data_val.drop(data_val.columns[0],axis=1)\n",
    "data_val"
   ]
  },
  {
   "cell_type": "code",
   "execution_count": 25,
   "metadata": {},
   "outputs": [
    {
     "data": {
      "text/plain": [
       "'total'"
      ]
     },
     "execution_count": 25,
     "metadata": {},
     "output_type": "execute_result"
    }
   ],
   "source": [
    "data_val.columns[0]"
   ]
  },
  {
   "cell_type": "code",
   "execution_count": 26,
   "metadata": {},
   "outputs": [
    {
     "data": {
      "text/html": [
       "<div>\n",
       "<style scoped>\n",
       "    .dataframe tbody tr th:only-of-type {\n",
       "        vertical-align: middle;\n",
       "    }\n",
       "\n",
       "    .dataframe tbody tr th {\n",
       "        vertical-align: top;\n",
       "    }\n",
       "\n",
       "    .dataframe thead th {\n",
       "        text-align: right;\n",
       "    }\n",
       "</style>\n",
       "<table border=\"1\" class=\"dataframe\">\n",
       "  <thead>\n",
       "    <tr style=\"text-align: right;\">\n",
       "      <th></th>\n",
       "      <th>and</th>\n",
       "      <th>the</th>\n",
       "      <th>that</th>\n",
       "      <th>of</th>\n",
       "      <th>was</th>\n",
       "      <th>upon</th>\n",
       "      <th>not</th>\n",
       "      <th>when</th>\n",
       "      <th>then</th>\n",
       "    </tr>\n",
       "  </thead>\n",
       "  <tbody>\n",
       "    <tr>\n",
       "      <th>0</th>\n",
       "      <td>13</td>\n",
       "      <td>28</td>\n",
       "      <td>13</td>\n",
       "      <td>18</td>\n",
       "      <td>18</td>\n",
       "      <td>1</td>\n",
       "      <td>2</td>\n",
       "      <td>0</td>\n",
       "      <td>3</td>\n",
       "    </tr>\n",
       "  </tbody>\n",
       "</table>\n",
       "</div>"
      ],
      "text/plain": [
       "   and  the  that  of  was  upon  not  when  then\n",
       "0   13   28    13  18   18     1    2     0     3"
      ]
     },
     "execution_count": 26,
     "metadata": {},
     "output_type": "execute_result"
    }
   ],
   "source": [
    "data_val = data_val.drop(data_val.columns[0],axis=1)\n",
    "#data_val = data_val.drop(data_val.columns[0],axis=1)\n",
    "data_val"
   ]
  },
  {
   "cell_type": "code",
   "execution_count": 27,
   "metadata": {},
   "outputs": [
    {
     "data": {
      "text/html": [
       "<div>\n",
       "<style scoped>\n",
       "    .dataframe tbody tr th:only-of-type {\n",
       "        vertical-align: middle;\n",
       "    }\n",
       "\n",
       "    .dataframe tbody tr th {\n",
       "        vertical-align: top;\n",
       "    }\n",
       "\n",
       "    .dataframe thead th {\n",
       "        text-align: right;\n",
       "    }\n",
       "</style>\n",
       "<table border=\"1\" class=\"dataframe\">\n",
       "  <thead>\n",
       "    <tr style=\"text-align: right;\">\n",
       "      <th></th>\n",
       "      <th>and</th>\n",
       "      <th>the</th>\n",
       "      <th>that</th>\n",
       "      <th>of</th>\n",
       "      <th>was</th>\n",
       "      <th>upon</th>\n",
       "      <th>not</th>\n",
       "      <th>when</th>\n",
       "      <th>then</th>\n",
       "    </tr>\n",
       "  </thead>\n",
       "  <tbody>\n",
       "    <tr>\n",
       "      <th>0</th>\n",
       "      <td>173</td>\n",
       "      <td>467</td>\n",
       "      <td>79</td>\n",
       "      <td>251</td>\n",
       "      <td>91</td>\n",
       "      <td>42</td>\n",
       "      <td>34</td>\n",
       "      <td>20</td>\n",
       "      <td>10</td>\n",
       "    </tr>\n",
       "    <tr>\n",
       "      <th>1</th>\n",
       "      <td>276</td>\n",
       "      <td>1174</td>\n",
       "      <td>188</td>\n",
       "      <td>602</td>\n",
       "      <td>209</td>\n",
       "      <td>77</td>\n",
       "      <td>136</td>\n",
       "      <td>22</td>\n",
       "      <td>26</td>\n",
       "    </tr>\n",
       "    <tr>\n",
       "      <th>2</th>\n",
       "      <td>417</td>\n",
       "      <td>1704</td>\n",
       "      <td>327</td>\n",
       "      <td>924</td>\n",
       "      <td>223</td>\n",
       "      <td>86</td>\n",
       "      <td>149</td>\n",
       "      <td>38</td>\n",
       "      <td>14</td>\n",
       "    </tr>\n",
       "    <tr>\n",
       "      <th>3</th>\n",
       "      <td>184</td>\n",
       "      <td>514</td>\n",
       "      <td>83</td>\n",
       "      <td>275</td>\n",
       "      <td>41</td>\n",
       "      <td>40</td>\n",
       "      <td>58</td>\n",
       "      <td>20</td>\n",
       "      <td>20</td>\n",
       "    </tr>\n",
       "    <tr>\n",
       "      <th>4</th>\n",
       "      <td>359</td>\n",
       "      <td>884</td>\n",
       "      <td>130</td>\n",
       "      <td>465</td>\n",
       "      <td>135</td>\n",
       "      <td>81</td>\n",
       "      <td>60</td>\n",
       "      <td>46</td>\n",
       "      <td>32</td>\n",
       "    </tr>\n",
       "  </tbody>\n",
       "</table>\n",
       "</div>"
      ],
      "text/plain": [
       "   and   the  that   of  was  upon  not  when  then\n",
       "0  173   467    79  251   91    42   34    20    10\n",
       "1  276  1174   188  602  209    77  136    22    26\n",
       "2  417  1704   327  924  223    86  149    38    14\n",
       "3  184   514    83  275   41    40   58    20    20\n",
       "4  359   884   130  465  135    81   60    46    32"
      ]
     },
     "execution_count": 27,
     "metadata": {},
     "output_type": "execute_result"
    }
   ],
   "source": [
    "x_train"
   ]
  },
  {
   "cell_type": "code",
   "execution_count": 28,
   "metadata": {},
   "outputs": [
    {
     "data": {
      "text/plain": [
       "array([1], dtype=int64)"
      ]
     },
     "execution_count": 28,
     "metadata": {},
     "output_type": "execute_result"
    }
   ],
   "source": [
    "pred=clf.predict(data_val)\n",
    "pred"
   ]
  },
  {
   "cell_type": "code",
   "execution_count": null,
   "metadata": {},
   "outputs": [],
   "source": []
  },
  {
   "cell_type": "code",
   "execution_count": 29,
   "metadata": {},
   "outputs": [
    {
     "data": {
      "image/png": "[encoded data removed]",
      "text/plain": [
       "<Figure size 360x360 with 1 Axes>"
      ]
     },
     "metadata": {
      "needs_background": "light"
     },
     "output_type": "display_data"
    }
   ],
   "source": [
    "features=X_train.columns\n",
    "importances=clf.feature_importances_\n",
    "indices=np.argsort(importances)\n",
    "importances,indices\n",
    "\n",
    "plt.figure(figsize=(5,5))\n",
    "plt.barh(range(len(indices)),importances[indices],color='b',align='center')\n",
    "plt.yticks(range(len(indices)), features[indices])\n",
    "plt.show()"
   ]
  },
  {
   "cell_type": "code",
   "execution_count": 30,
   "metadata": {},
   "outputs": [
    {
     "data": {
      "text/plain": [
       "(array([0., 0., 0., 0., 0., 0., 0., 0., 0.]),\n",
       " array([0, 1, 2, 3, 4, 5, 6, 7, 8], dtype=int64))"
      ]
     },
     "execution_count": 30,
     "metadata": {},
     "output_type": "execute_result"
    }
   ],
   "source": [
    "importances=clf.feature_importances_\n",
    "indices=np.argsort(importances)\n",
    "importances,indices"
   ]
  },
  {
   "cell_type": "code",
   "execution_count": 31,
   "metadata": {},
   "outputs": [
    {
     "data": {
      "image/png": "[encoded data removed]",
      "text/plain": [
       "<Figure size 360x360 with 1 Axes>"
      ]
     },
     "metadata": {
      "needs_background": "light"
     },
     "output_type": "display_data"
    }
   ],
   "source": [
    "plt.figure(figsize=(5,5))\n",
    "plt.barh(range(len(indices)),importances[indices],color='b',align='center')\n",
    "plt.yticks(range(len(indices)), features[indices])\n",
    "plt.show()"
   ]
  },
  {
   "cell_type": "code",
   "execution_count": null,
   "metadata": {},
   "outputs": [],
   "source": []
  }
 ],
 "metadata": {
  "kernelspec": {
   "display_name": "Python 3",
   "language": "python",
   "name": "python3"
  },
  "language_info": {
   "codemirror_mode": {
    "name": "ipython",
    "version": 3
   },
   "file_extension": ".py",
   "mimetype": "text/x-python",
   "name": "python",
   "nbconvert_exporter": "python",
   "pygments_lexer": "ipython3",
   "version": "3.6.9"
  }
 },
 "nbformat": 4,
 "nbformat_minor": 2
}
